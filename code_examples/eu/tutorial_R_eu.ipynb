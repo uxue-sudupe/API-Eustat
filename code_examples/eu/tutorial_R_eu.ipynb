{
  "cells": [
    {
      "cell_type": "markdown",
      "source": [
        "[![Ireki Colab](https://colab.research.google.com/assets/colab-badge.svg)](https://colab.research.google.com/github/uxue-sudupe/API-Eustat/blob/main/code_examples/eu/tutorial_R_eu.ipynb)"
      ],
      "metadata": {
        "id": "3lTgf7ZpP2Ji"
      },
      "id": "3lTgf7ZpP2Ji"
    },
    {
      "cell_type": "markdown",
      "id": "c67f98cc",
      "metadata": {
        "id": "c67f98cc"
      },
      "source": [
        "# **Nola erabili Eustaten APIa R-rekin**\n",
        "\n",
        "[Eustaten datu bankuak](https://eu.eustat.eus/banku/indexArbol.html) Euskal Autonomia Erkidegoko gizarteari, ekonomiari eta biztanleriari buruzko datu ugari ditu.\n",
        "\n",
        "Datuak publikoak dira eta modu desberdinetan eskura daitezke, besteak beste,  [hemen dokumentatutako](https://github.com/uxue-sudupe/API-Eustat/blob/main/README.md) APIaren bidez. APIak izugarri errazten du datuak eskuratzea eta berrerabiltzea. Hala ere, APIekin aurretik esperientziarik izan ezean, zaila izan daiteke ikertzaile, analista edo ikasle batentzat hura erabiltzea.\n",
        "\n",
        "Tutorial honek gida azkar bat eskaintzen du Eustaten datuak APIaren bidez eskuratzeko. Datuak nola deskargatu, prozesatu eta dataset formatuko taulak nola sortu erakusten du.\n",
        "\n",
        "Oso zabalduta dauden liburutegi batzuk erabili behar dira, `dplyr` edo `httr` adibidez, eta `rjstat` liburutegia, json-stat formatuan dauden datuak R-rekin tratatzeko espezifikoa dena."
      ]
    },
    {
      "cell_type": "code",
      "execution_count": 15,
      "id": "3c23b0ce",
      "metadata": {
        "message": false,
        "name": "setup",
        "warning": false,
        "id": "3c23b0ce"
      },
      "outputs": [],
      "source": [
        "install.packages(c(\"httr\", \"jsonlite\", \"tidyr\", \"dplyr\", \"rjstat\"), quiet = TRUE)\n",
        "\n",
        "library(httr)\n",
        "library(jsonlite)\n",
        "library(tidyr)\n",
        "library(dplyr)\n",
        "library(rjstat)"
      ]
    },
    {
      "cell_type": "markdown",
      "id": "b13f2414",
      "metadata": {
        "id": "b13f2414"
      },
      "source": [
        "# **1. Eustaten datuen katalogoa (taulen zerrenda) eskuratu**\n",
        "\n",
        "Posible da Eustatek argitaratutako datu multzoen (taulen) zerrenda osoa ikustea eta jeistea, taula bakoitzaren identifikazio-kodea, izenburua eta azken eguneratze-data barne.\n",
        "\n",
        "Eustaten datu bankuan dauden taulek osatzen dute katalogoa: <https://eu.eustat.eus/banku/id_All/indexArbol.html>\n",
        "\n",
        "APIari egiten zaion eskaera batek hiru elementu nagusi izaten ditu: web helbide nagusia, funtziorako dei bat eta parametro multzo bat. Eustaten Datu Bankuko APIaren helbide nagusia honakoa da:\n",
        "\n",
        "`https://www.eustat.eus/bankupx/api/v1/[lang]/DB`\n",
        "\n",
        "Kasu honetan, APIari deia GET metodoaren bidez egiten zaio. Katalogoa lortzeko behar den parametro bakarra hizkuntza da (lang). Erantzuna JSON formatuan jasotzen da."
      ]
    },
    {
      "cell_type": "code",
      "execution_count": 16,
      "id": "dbc0c62a",
      "metadata": {
        "colab": {
          "base_uri": "https://localhost:8080/",
          "height": 390
        },
        "id": "dbc0c62a",
        "outputId": "ff8312ce-ac4b-4a24-b1ba-afc65d86ff55"
      },
      "outputs": [
        {
          "output_type": "display_data",
          "data": {
            "text/html": [
              "<table class=\"dataframe\">\n",
              "<caption>A data.frame: 6 × 4</caption>\n",
              "<thead>\n",
              "\t<tr><th></th><th scope=col>id</th><th scope=col>type</th><th scope=col>text</th><th scope=col>updated</th></tr>\n",
              "\t<tr><th></th><th scope=col>&lt;chr&gt;</th><th scope=col>&lt;chr&gt;</th><th scope=col>&lt;chr&gt;</th><th scope=col>&lt;chr&gt;</th></tr>\n",
              "</thead>\n",
              "<tbody>\n",
              "\t<tr><th scope=row>1</th><td>PX__fe_inem06.px     </td><td>t</td><td>Euskal AEko erregistratutako langabezia, lurralde eremuaren eta sexuaren arabera. 1997 - 2022                                                        </td><td>2023-01-09T15:04:41</td></tr>\n",
              "\t<tr><th scope=row>2</th><td>PX__feinem_inem06.px </td><td>t</td><td>Euskal AEko erregistratutako langabezia, lurralde eremuaren eta sexuaren arabera                                                                     </td><td>2021-02-17T10:04:22</td></tr>\n",
              "\t<tr><th scope=row>3</th><td>PX__fepycl_pc02cm.px </td><td>t</td><td>Euskal AEko eta Estatuko kontsumorako prezioen indize orokorra (KPI), Lurralde Historikoaren, indizearen eta hilaren arabera. Oinarria 2016 (2002tik)</td><td>2021-02-16T11:15:00</td></tr>\n",
              "\t<tr><th scope=row>4</th><td>PX_0_fe_pc02cm.px    </td><td>t</td><td>Euskal AEko eta Estatuko kontsumorako prezioen indize orokorra (KPI), Lurralde Historikoaren, indizearen eta hilaren arabera. Oinarria 2016 (2002tik)</td><td>2022-02-15T10:31:14</td></tr>\n",
              "\t<tr><th scope=row>5</th><td>PX_0_fe_pc02m.px     </td><td>t</td><td>Euskal AEko eta Estatuko kontsumorako prezioen indize orokorra (KPI), indizearen eta hilaren arabera. Oinarria 2016 (2002tik)                        </td><td>2022-02-15T10:31:14</td></tr>\n",
              "\t<tr><th scope=row>6</th><td>PX_0_fepycl_pc02cm.px</td><td>t</td><td>Euskal AEko eta Estatuko kontsumorako prezioen indize orokorra (KPI), Lurralde Historikoaren, indizearen eta hilaren arabera. Oinarria 2016 (2002tik)</td><td>2021-09-14T08:41:11</td></tr>\n",
              "</tbody>\n",
              "</table>\n"
            ],
            "text/markdown": "\nA data.frame: 6 × 4\n\n| <!--/--> | id &lt;chr&gt; | type &lt;chr&gt; | text &lt;chr&gt; | updated &lt;chr&gt; |\n|---|---|---|---|---|\n| 1 | PX__fe_inem06.px      | t | Euskal AEko erregistratutako langabezia, lurralde eremuaren eta sexuaren arabera. 1997 - 2022                                                         | 2023-01-09T15:04:41 |\n| 2 | PX__feinem_inem06.px  | t | Euskal AEko erregistratutako langabezia, lurralde eremuaren eta sexuaren arabera                                                                      | 2021-02-17T10:04:22 |\n| 3 | PX__fepycl_pc02cm.px  | t | Euskal AEko eta Estatuko kontsumorako prezioen indize orokorra (KPI), Lurralde Historikoaren, indizearen eta hilaren arabera. Oinarria 2016 (2002tik) | 2021-02-16T11:15:00 |\n| 4 | PX_0_fe_pc02cm.px     | t | Euskal AEko eta Estatuko kontsumorako prezioen indize orokorra (KPI), Lurralde Historikoaren, indizearen eta hilaren arabera. Oinarria 2016 (2002tik) | 2022-02-15T10:31:14 |\n| 5 | PX_0_fe_pc02m.px      | t | Euskal AEko eta Estatuko kontsumorako prezioen indize orokorra (KPI), indizearen eta hilaren arabera. Oinarria 2016 (2002tik)                         | 2022-02-15T10:31:14 |\n| 6 | PX_0_fepycl_pc02cm.px | t | Euskal AEko eta Estatuko kontsumorako prezioen indize orokorra (KPI), Lurralde Historikoaren, indizearen eta hilaren arabera. Oinarria 2016 (2002tik) | 2021-09-14T08:41:11 |\n\n",
            "text/latex": "A data.frame: 6 × 4\n\\begin{tabular}{r|llll}\n  & id & type & text & updated\\\\\n  & <chr> & <chr> & <chr> & <chr>\\\\\n\\hline\n\t1 & PX\\_\\_fe\\_inem06.px      & t & Euskal AEko erregistratutako langabezia, lurralde eremuaren eta sexuaren arabera. 1997 - 2022                                                         & 2023-01-09T15:04:41\\\\\n\t2 & PX\\_\\_feinem\\_inem06.px  & t & Euskal AEko erregistratutako langabezia, lurralde eremuaren eta sexuaren arabera                                                                      & 2021-02-17T10:04:22\\\\\n\t3 & PX\\_\\_fepycl\\_pc02cm.px  & t & Euskal AEko eta Estatuko kontsumorako prezioen indize orokorra (KPI), Lurralde Historikoaren, indizearen eta hilaren arabera. Oinarria 2016 (2002tik) & 2021-02-16T11:15:00\\\\\n\t4 & PX\\_0\\_fe\\_pc02cm.px     & t & Euskal AEko eta Estatuko kontsumorako prezioen indize orokorra (KPI), Lurralde Historikoaren, indizearen eta hilaren arabera. Oinarria 2016 (2002tik) & 2022-02-15T10:31:14\\\\\n\t5 & PX\\_0\\_fe\\_pc02m.px      & t & Euskal AEko eta Estatuko kontsumorako prezioen indize orokorra (KPI), indizearen eta hilaren arabera. Oinarria 2016 (2002tik)                         & 2022-02-15T10:31:14\\\\\n\t6 & PX\\_0\\_fepycl\\_pc02cm.px & t & Euskal AEko eta Estatuko kontsumorako prezioen indize orokorra (KPI), Lurralde Historikoaren, indizearen eta hilaren arabera. Oinarria 2016 (2002tik) & 2021-09-14T08:41:11\\\\\n\\end{tabular}\n",
            "text/plain": [
              "  id                    type\n",
              "1 PX__fe_inem06.px      t   \n",
              "2 PX__feinem_inem06.px  t   \n",
              "3 PX__fepycl_pc02cm.px  t   \n",
              "4 PX_0_fe_pc02cm.px     t   \n",
              "5 PX_0_fe_pc02m.px      t   \n",
              "6 PX_0_fepycl_pc02cm.px t   \n",
              "  text                                                                                                                                                 \n",
              "1 Euskal AEko erregistratutako langabezia, lurralde eremuaren eta sexuaren arabera. 1997 - 2022                                                        \n",
              "2 Euskal AEko erregistratutako langabezia, lurralde eremuaren eta sexuaren arabera                                                                     \n",
              "3 Euskal AEko eta Estatuko kontsumorako prezioen indize orokorra (KPI), Lurralde Historikoaren, indizearen eta hilaren arabera. Oinarria 2016 (2002tik)\n",
              "4 Euskal AEko eta Estatuko kontsumorako prezioen indize orokorra (KPI), Lurralde Historikoaren, indizearen eta hilaren arabera. Oinarria 2016 (2002tik)\n",
              "5 Euskal AEko eta Estatuko kontsumorako prezioen indize orokorra (KPI), indizearen eta hilaren arabera. Oinarria 2016 (2002tik)                        \n",
              "6 Euskal AEko eta Estatuko kontsumorako prezioen indize orokorra (KPI), Lurralde Historikoaren, indizearen eta hilaren arabera. Oinarria 2016 (2002tik)\n",
              "  updated            \n",
              "1 2023-01-09T15:04:41\n",
              "2 2021-02-17T10:04:22\n",
              "3 2021-02-16T11:15:00\n",
              "4 2022-02-15T10:31:14\n",
              "5 2022-02-15T10:31:14\n",
              "6 2021-09-14T08:41:11"
            ]
          },
          "metadata": {}
        }
      ],
      "source": [
        "\n",
        "# Eustaten datuen katalogoko sarbide puntua (endpoint)\n",
        "\n",
        "DB <- GET(\"https://www.eustat.eus/bankupx/api/v1/eu/DB\")\n",
        "Katalogoa <- fromJSON(rawToChar(DB$content))\n",
        "head(Katalogoa)\n"
      ]
    },
    {
      "cell_type": "markdown",
      "id": "97bfa47e",
      "metadata": {
        "id": "97bfa47e"
      },
      "source": [
        "**Hizkuntzak**\n",
        "\n",
        "Zerrenda bera gaztelaniaz edo ingelesez ere eska daiteke. Horretarako, URLko hizkuntza parametroa aldatzea besterik ez da behar: `www.eustat.eus/bankupx/api/v1/[lang]/DB`\n",
        "\n",
        "`[lang]` parametroa honako hiru aukeretako batekin ordezka daiteke: *eu* (euskera), *es* (gaztelania) edo *en* (ingelesa).\n",
        "\n",
        "Adibidez, gaztelaniazko katalogoa eskuratzeko URL hau erabiliko litzateke:"
      ]
    },
    {
      "cell_type": "code",
      "execution_count": 17,
      "id": "30de0fe2",
      "metadata": {
        "colab": {
          "base_uri": "https://localhost:8080/",
          "height": 390
        },
        "id": "30de0fe2",
        "outputId": "7009a714-0e03-4a84-c952-f3adc1116e65"
      },
      "outputs": [
        {
          "output_type": "display_data",
          "data": {
            "text/html": [
              "<table class=\"dataframe\">\n",
              "<caption>A data.frame: 6 × 4</caption>\n",
              "<thead>\n",
              "\t<tr><th></th><th scope=col>id</th><th scope=col>type</th><th scope=col>text</th><th scope=col>updated</th></tr>\n",
              "\t<tr><th></th><th scope=col>&lt;chr&gt;</th><th scope=col>&lt;chr&gt;</th><th scope=col>&lt;chr&gt;</th><th scope=col>&lt;chr&gt;</th></tr>\n",
              "</thead>\n",
              "<tbody>\n",
              "\t<tr><th scope=row>1</th><td>PX__fe_inem06.px     </td><td>t</td><td>Paro registrado de la C.A. de Euskadi por ámbitos territoriales y sexo. 1997 - 2022                                               </td><td>2023-01-09T15:04:41</td></tr>\n",
              "\t<tr><th scope=row>2</th><td>PX__feinem_inem06.px </td><td>t</td><td>Paro registrado de la C.A. de Euskadi por ámbitos territoriales y sexo                                                            </td><td>2021-02-17T10:04:22</td></tr>\n",
              "\t<tr><th scope=row>3</th><td>PX__fepycl_pc02cm.px </td><td>t</td><td>Índice general de precios al consumo (IPC) por Territorio Histórico de la C.A. de Euskadi por índice y mes. Base 2016 (desde 2002)</td><td>2021-02-16T11:15:00</td></tr>\n",
              "\t<tr><th scope=row>4</th><td>PX_0_fe_pc02cm.px    </td><td>t</td><td>Índice general de precios al consumo (IPC) por Territorio Histórico de la C.A. de Euskadi por índice y mes. Base 2016 (desde 2002)</td><td>2022-02-15T10:31:14</td></tr>\n",
              "\t<tr><th scope=row>5</th><td>PX_0_fe_pc02m.px     </td><td>t</td><td>Índice general de precios al consumo (IPC) de la C.A. de Euskadi y del Estado por índice y mes. Base 2016 (desde 2002)            </td><td>2022-02-15T10:31:14</td></tr>\n",
              "\t<tr><th scope=row>6</th><td>PX_0_fepycl_pc02cm.px</td><td>t</td><td>Índice general de precios al consumo (IPC) por Territorio Histórico de la C.A. de Euskadi por índice y mes. Base 2016 (desde 2002)</td><td>2021-09-14T08:41:11</td></tr>\n",
              "</tbody>\n",
              "</table>\n"
            ],
            "text/markdown": "\nA data.frame: 6 × 4\n\n| <!--/--> | id &lt;chr&gt; | type &lt;chr&gt; | text &lt;chr&gt; | updated &lt;chr&gt; |\n|---|---|---|---|---|\n| 1 | PX__fe_inem06.px      | t | Paro registrado de la C.A. de Euskadi por ámbitos territoriales y sexo. 1997 - 2022                                                | 2023-01-09T15:04:41 |\n| 2 | PX__feinem_inem06.px  | t | Paro registrado de la C.A. de Euskadi por ámbitos territoriales y sexo                                                             | 2021-02-17T10:04:22 |\n| 3 | PX__fepycl_pc02cm.px  | t | Índice general de precios al consumo (IPC) por Territorio Histórico de la C.A. de Euskadi por índice y mes. Base 2016 (desde 2002) | 2021-02-16T11:15:00 |\n| 4 | PX_0_fe_pc02cm.px     | t | Índice general de precios al consumo (IPC) por Territorio Histórico de la C.A. de Euskadi por índice y mes. Base 2016 (desde 2002) | 2022-02-15T10:31:14 |\n| 5 | PX_0_fe_pc02m.px      | t | Índice general de precios al consumo (IPC) de la C.A. de Euskadi y del Estado por índice y mes. Base 2016 (desde 2002)             | 2022-02-15T10:31:14 |\n| 6 | PX_0_fepycl_pc02cm.px | t | Índice general de precios al consumo (IPC) por Territorio Histórico de la C.A. de Euskadi por índice y mes. Base 2016 (desde 2002) | 2021-09-14T08:41:11 |\n\n",
            "text/latex": "A data.frame: 6 × 4\n\\begin{tabular}{r|llll}\n  & id & type & text & updated\\\\\n  & <chr> & <chr> & <chr> & <chr>\\\\\n\\hline\n\t1 & PX\\_\\_fe\\_inem06.px      & t & Paro registrado de la C.A. de Euskadi por ámbitos territoriales y sexo. 1997 - 2022                                                & 2023-01-09T15:04:41\\\\\n\t2 & PX\\_\\_feinem\\_inem06.px  & t & Paro registrado de la C.A. de Euskadi por ámbitos territoriales y sexo                                                             & 2021-02-17T10:04:22\\\\\n\t3 & PX\\_\\_fepycl\\_pc02cm.px  & t & Índice general de precios al consumo (IPC) por Territorio Histórico de la C.A. de Euskadi por índice y mes. Base 2016 (desde 2002) & 2021-02-16T11:15:00\\\\\n\t4 & PX\\_0\\_fe\\_pc02cm.px     & t & Índice general de precios al consumo (IPC) por Territorio Histórico de la C.A. de Euskadi por índice y mes. Base 2016 (desde 2002) & 2022-02-15T10:31:14\\\\\n\t5 & PX\\_0\\_fe\\_pc02m.px      & t & Índice general de precios al consumo (IPC) de la C.A. de Euskadi y del Estado por índice y mes. Base 2016 (desde 2002)             & 2022-02-15T10:31:14\\\\\n\t6 & PX\\_0\\_fepycl\\_pc02cm.px & t & Índice general de precios al consumo (IPC) por Territorio Histórico de la C.A. de Euskadi por índice y mes. Base 2016 (desde 2002) & 2021-09-14T08:41:11\\\\\n\\end{tabular}\n",
            "text/plain": [
              "  id                    type\n",
              "1 PX__fe_inem06.px      t   \n",
              "2 PX__feinem_inem06.px  t   \n",
              "3 PX__fepycl_pc02cm.px  t   \n",
              "4 PX_0_fe_pc02cm.px     t   \n",
              "5 PX_0_fe_pc02m.px      t   \n",
              "6 PX_0_fepycl_pc02cm.px t   \n",
              "  text                                                                                                                              \n",
              "1 Paro registrado de la C.A. de Euskadi por ámbitos territoriales y sexo. 1997 - 2022                                               \n",
              "2 Paro registrado de la C.A. de Euskadi por ámbitos territoriales y sexo                                                            \n",
              "3 Índice general de precios al consumo (IPC) por Territorio Histórico de la C.A. de Euskadi por índice y mes. Base 2016 (desde 2002)\n",
              "4 Índice general de precios al consumo (IPC) por Territorio Histórico de la C.A. de Euskadi por índice y mes. Base 2016 (desde 2002)\n",
              "5 Índice general de precios al consumo (IPC) de la C.A. de Euskadi y del Estado por índice y mes. Base 2016 (desde 2002)            \n",
              "6 Índice general de precios al consumo (IPC) por Territorio Histórico de la C.A. de Euskadi por índice y mes. Base 2016 (desde 2002)\n",
              "  updated            \n",
              "1 2023-01-09T15:04:41\n",
              "2 2021-02-17T10:04:22\n",
              "3 2021-02-16T11:15:00\n",
              "4 2022-02-15T10:31:14\n",
              "5 2022-02-15T10:31:14\n",
              "6 2021-09-14T08:41:11"
            ]
          },
          "metadata": {}
        }
      ],
      "source": [
        "\n",
        "DB <- GET(\"https://www.eustat.eus/bankupx/api/v1/es/DB\")\n",
        "Catálogo <- fromJSON(rawToChar(DB$content))\n",
        "head(Catálogo)\n"
      ]
    },
    {
      "cell_type": "markdown",
      "id": "210d3ddb",
      "metadata": {
        "id": "210d3ddb"
      },
      "source": [
        "# **2. Taula baten metadatuak eskuratu**\n",
        "\n",
        "Taula bateko metadatuek taularen izenburuari buruzko informazioa, taulan agertzen diren desagregazio-dimentsioak/aldagaiak eta hartzen dituzten balio edo kategoriei buruzko informazioa jasotzen dute. Metadatuetan kodeak eta testu deskribatzaileak datoz.\n",
        "\n",
        "Taula jakin bateko metadatuetara sartzeko, interesatzen zaigun taularen `\"id\"` identifikazio kodea gehitu behar diogu datu bankuko url-ari. Helbideak egitura hau izango du:\n",
        "\n",
        "`www.eustat.eus/bankupx/api/v1/[lang]/DB/[id]`\n",
        "\n",
        "Adibidez, taula hau interesatzen bazaigu: \"Euskal AEko biztanleria zenbatetsia, lurralde historikoaren, sexuaren eta jaioturtearen arabera\", helbide honi egin behar diogu dei:\n",
        "\n",
        "<https://www.eustat.eus/bankupx/api/v1/eu/DB/PX_010154_cepv1_ep17.px>"
      ]
    },
    {
      "cell_type": "code",
      "execution_count": 18,
      "id": "1007254e",
      "metadata": {
        "colab": {
          "base_uri": "https://localhost:8080/",
          "height": 894
        },
        "id": "1007254e",
        "outputId": "85b05e83-8f7e-4147-dd32-f56fb0768685"
      },
      "outputs": [
        {
          "output_type": "display_data",
          "data": {
            "text/html": [
              "<dl>\n",
              "\t<dt>$title</dt>\n",
              "\t\t<dd>'Euskal AEko biztanleria zenbatetsia, lurralde historikoaren, sexuaren eta jaioturtearen arabera. 1976/01/01 - 2024/01/01'</dd>\n",
              "\t<dt>$variables</dt>\n",
              "\t\t<dd><table class=\"dataframe\">\n",
              "<caption>A data.frame: 4 × 5</caption>\n",
              "<thead>\n",
              "\t<tr><th></th><th scope=col>code</th><th scope=col>text</th><th scope=col>values</th><th scope=col>valueTexts</th><th scope=col>time</th></tr>\n",
              "\t<tr><th></th><th scope=col>&lt;chr&gt;</th><th scope=col>&lt;chr&gt;</th><th scope=col>&lt;list&gt;</th><th scope=col>&lt;list&gt;</th><th scope=col>&lt;lgl&gt;</th></tr>\n",
              "</thead>\n",
              "<tbody>\n",
              "\t<tr><th scope=row>1</th><td>territorio histórico</td><td>lurralde historikoa</td><td>00, 01, 48, 20</td><td>Euskal AE  , Araba/Álava, Bizkaia    , Gipuzkoa   </td><td>  NA</td></tr>\n",
              "\t<tr><th scope=row>2</th><td>sexo                </td><td>sexua              </td><td>10, 20, 30</td><td>Guztira  , Gizonak  , Emakumeak</td><td>  NA</td></tr>\n",
              "\t<tr><th scope=row>3</th><td><span style=white-space:pre-wrap>año de nacimiento   </span></td><td><span style=white-space:pre-wrap>jaiotze urtea      </span></td><td>1000, 1109, 1110, 1120, 5800, 5810, 5820, 5830, 5840, 5850, 5860, 5870, 5880, 5890, 5900, 5910, 5920, 5930, 5940, 5950, 5960, 5970, 5980, 5990, 6000, 6010, 6020, 6030, 6040, 6050, 6060, 6070, 6080, 6090, 6100, 6110, 6120, 6130, 6140, 6150, 6160, 6170, 6180, 6190, 6200, 6210, 6220, 6230, 6240, 6250, 6260, 6270, 6280, 6290, 6300, 6310, 6320, 6330, 6340, 6350, 6360, 6370, 6380, 6390, 6400, 6410, 6420, 6430, 6440, 6450, 6460, 6470, 6480, 6490, 6500, 6510, 6520, 6530, 6540, 6550, 6560, 6570, 6580, 6590, 6600, 6610, 6620, 6630, 6640, 6650, 6660, 6670, 6680, 6690, 6700, 6710, 6720, 6730, 6740, 6750, 6760, 6770, 6780, 6790, 6800, 6810, 6820, 6830, 6840, 6850, 6860, 6870, 6880, 6890, 6900, 6910, 6920, 6930, 6940, 6950, 6960, 6970, 6980, 6990, 7000, 7010, 7020, 7030, 7040, 7050, 7060, 7070, 7080, 7090, 7100, 7110, 7120, 7130, 7140, 7150, 7160, 7170, 7180, 7190, 7200, 7210, 7220, 7230, 7240, 7250</td><td><span style=white-space:pre-wrap>Guztira, 2023   , 2022   , 2021   , 2020   , 2019   , 2018   , 2017   , 2016   , 2015   , 2014   , 2013   , 2012   , 2011   , 2010   , 2009   , 2008   , 2007   , 2006   , 2005   , 2004   , 2003   , 2002   , 2001   , 2000   , 1999   , 1998   , 1997   , 1996   , 1995   , 1994   , 1993   , 1992   , 1991   , 1990   , 1989   , 1988   , 1987   , 1986   , 1985   , 1984   , 1983   , 1982   , 1981   , 1980   , 1979   , 1978   , 1977   , 1976   , 1975   , 1974   , 1973   , 1972   , 1971   , 1970   , 1969   , 1968   , 1967   , 1966   , 1965   , 1964   , 1963   , 1962   , 1961   , 1960   , 1959   , 1958   , 1957   , 1956   , 1955   , 1954   , 1953   , 1952   , 1951   , 1950   , 1949   , 1948   , 1947   , 1946   , 1945   , 1944   , 1943   , 1942   , 1941   , 1940   , 1939   , 1938   , 1937   , 1936   , 1935   , 1934   , 1933   , 1932   , 1931   , 1930   , 1929   , 1928   , 1927   , 1926   , 1925   , 1924   , 1923   , 1922   , 1921   , 1920   , 1919   , 1918   , 1917   , 1916   , 1915   , 1914   , 1913   , 1912   , 1911   , 1910   , 1909   , 1908   , 1907   , 1906   , 1905   , 1904   , 1903   , 1902   , 1901   , 1900   , 1899   , 1898   , 1897   , 1896   , 1895   , 1894   , 1893   , 1892   , 1891   , 1890   , 1889   , 1888   , 1887   , 1886   , 1885   , 1884   , 1883   , 1882   , 1881   , 1880   , 1879   , 1878   , 1877   , 1876   , &lt;= 1875</span></td><td><span style=white-space:pre-wrap>  NA</span></td></tr>\n",
              "\t<tr><th scope=row>4</th><td>periodo             </td><td>aldia              </td><td>19760101, 19770101, 19780101, 19790101, 19800101, 19810101, 19820101, 19830101, 19840101, 19850101, 19860101, 19870101, 19880101, 19890101, 19900101, 19910101, 19920101, 19930101, 19940101, 19950101, 19960101, 19970101, 19980101, 19990101, 20000101, 20010101, 20020101, 20030101, 20040101, 20050101, 20060101, 20070101, 20080101, 20090101, 20100101, 20110101, 20120101, 20130101, 20140101, 20150101, 20160101, 20170101, 20180101, 20190101, 20200101, 20210101, 20220101, 20220701, 20230101, 20230701, 20240101</td><td>1976/01/01, 1977/01/01, 1978/01/01, 1979/01/01, 1980/01/01, 1981/01/01, 1982/01/01, 1983/01/01, 1984/01/01, 1985/01/01, 1986/01/01, 1987/01/01, 1988/01/01, 1989/01/01, 1990/01/01, 1991/01/01, 1992/01/01, 1993/01/01, 1994/01/01, 1995/01/01, 1996/01/01, 1997/01/01, 1998/01/01, 1999/01/01, 2000/01/01, 2001/01/01, 2002/01/01, 2003/01/01, 2004/01/01, 2005/01/01, 2006/01/01, 2007/01/01, 2008/01/01, 2009/01/01, 2010/01/01, 2011/01/01, 2012/01/01, 2013/01/01, 2014/01/01, 2015/01/01, 2016/01/01, 2017/01/01, 2018/01/01, 2019/01/01, 2020/01/01, 2021/01/01, 2022/01/01, 2022/07/01, 2023/01/01, 2023/07/01, 2024/01/01</td><td>TRUE</td></tr>\n",
              "</tbody>\n",
              "</table>\n",
              "</dd>\n",
              "</dl>\n"
            ],
            "text/markdown": "$title\n:   'Euskal AEko biztanleria zenbatetsia, lurralde historikoaren, sexuaren eta jaioturtearen arabera. 1976/01/01 - 2024/01/01'\n$variables\n:   \nA data.frame: 4 × 5\n\n| <!--/--> | code &lt;chr&gt; | text &lt;chr&gt; | values &lt;list&gt; | valueTexts &lt;list&gt; | time &lt;lgl&gt; |\n|---|---|---|---|---|---|\n| 1 | territorio histórico | lurralde historikoa | 00, 01, 48, 20 | Euskal AE  , Araba/Álava, Bizkaia    , Gipuzkoa    |   NA |\n| 2 | sexo                 | sexua               | 10, 20, 30 | Guztira  , Gizonak  , Emakumeak |   NA |\n| 3 | año de nacimiento    | jaiotze urtea       | 1000, 1109, 1110, 1120, 5800, 5810, 5820, 5830, 5840, 5850, 5860, 5870, 5880, 5890, 5900, 5910, 5920, 5930, 5940, 5950, 5960, 5970, 5980, 5990, 6000, 6010, 6020, 6030, 6040, 6050, 6060, 6070, 6080, 6090, 6100, 6110, 6120, 6130, 6140, 6150, 6160, 6170, 6180, 6190, 6200, 6210, 6220, 6230, 6240, 6250, 6260, 6270, 6280, 6290, 6300, 6310, 6320, 6330, 6340, 6350, 6360, 6370, 6380, 6390, 6400, 6410, 6420, 6430, 6440, 6450, 6460, 6470, 6480, 6490, 6500, 6510, 6520, 6530, 6540, 6550, 6560, 6570, 6580, 6590, 6600, 6610, 6620, 6630, 6640, 6650, 6660, 6670, 6680, 6690, 6700, 6710, 6720, 6730, 6740, 6750, 6760, 6770, 6780, 6790, 6800, 6810, 6820, 6830, 6840, 6850, 6860, 6870, 6880, 6890, 6900, 6910, 6920, 6930, 6940, 6950, 6960, 6970, 6980, 6990, 7000, 7010, 7020, 7030, 7040, 7050, 7060, 7070, 7080, 7090, 7100, 7110, 7120, 7130, 7140, 7150, 7160, 7170, 7180, 7190, 7200, 7210, 7220, 7230, 7240, 7250 | Guztira, 2023   , 2022   , 2021   , 2020   , 2019   , 2018   , 2017   , 2016   , 2015   , 2014   , 2013   , 2012   , 2011   , 2010   , 2009   , 2008   , 2007   , 2006   , 2005   , 2004   , 2003   , 2002   , 2001   , 2000   , 1999   , 1998   , 1997   , 1996   , 1995   , 1994   , 1993   , 1992   , 1991   , 1990   , 1989   , 1988   , 1987   , 1986   , 1985   , 1984   , 1983   , 1982   , 1981   , 1980   , 1979   , 1978   , 1977   , 1976   , 1975   , 1974   , 1973   , 1972   , 1971   , 1970   , 1969   , 1968   , 1967   , 1966   , 1965   , 1964   , 1963   , 1962   , 1961   , 1960   , 1959   , 1958   , 1957   , 1956   , 1955   , 1954   , 1953   , 1952   , 1951   , 1950   , 1949   , 1948   , 1947   , 1946   , 1945   , 1944   , 1943   , 1942   , 1941   , 1940   , 1939   , 1938   , 1937   , 1936   , 1935   , 1934   , 1933   , 1932   , 1931   , 1930   , 1929   , 1928   , 1927   , 1926   , 1925   , 1924   , 1923   , 1922   , 1921   , 1920   , 1919   , 1918   , 1917   , 1916   , 1915   , 1914   , 1913   , 1912   , 1911   , 1910   , 1909   , 1908   , 1907   , 1906   , 1905   , 1904   , 1903   , 1902   , 1901   , 1900   , 1899   , 1898   , 1897   , 1896   , 1895   , 1894   , 1893   , 1892   , 1891   , 1890   , 1889   , 1888   , 1887   , 1886   , 1885   , 1884   , 1883   , 1882   , 1881   , 1880   , 1879   , 1878   , 1877   , 1876   , &lt;= 1875 |   NA |\n| 4 | periodo              | aldia               | 19760101, 19770101, 19780101, 19790101, 19800101, 19810101, 19820101, 19830101, 19840101, 19850101, 19860101, 19870101, 19880101, 19890101, 19900101, 19910101, 19920101, 19930101, 19940101, 19950101, 19960101, 19970101, 19980101, 19990101, 20000101, 20010101, 20020101, 20030101, 20040101, 20050101, 20060101, 20070101, 20080101, 20090101, 20100101, 20110101, 20120101, 20130101, 20140101, 20150101, 20160101, 20170101, 20180101, 20190101, 20200101, 20210101, 20220101, 20220701, 20230101, 20230701, 20240101 | 1976/01/01, 1977/01/01, 1978/01/01, 1979/01/01, 1980/01/01, 1981/01/01, 1982/01/01, 1983/01/01, 1984/01/01, 1985/01/01, 1986/01/01, 1987/01/01, 1988/01/01, 1989/01/01, 1990/01/01, 1991/01/01, 1992/01/01, 1993/01/01, 1994/01/01, 1995/01/01, 1996/01/01, 1997/01/01, 1998/01/01, 1999/01/01, 2000/01/01, 2001/01/01, 2002/01/01, 2003/01/01, 2004/01/01, 2005/01/01, 2006/01/01, 2007/01/01, 2008/01/01, 2009/01/01, 2010/01/01, 2011/01/01, 2012/01/01, 2013/01/01, 2014/01/01, 2015/01/01, 2016/01/01, 2017/01/01, 2018/01/01, 2019/01/01, 2020/01/01, 2021/01/01, 2022/01/01, 2022/07/01, 2023/01/01, 2023/07/01, 2024/01/01 | TRUE |\n\n\n\n\n",
            "text/latex": "\\begin{description}\n\\item[\\$title] 'Euskal AEko biztanleria zenbatetsia, lurralde historikoaren, sexuaren eta jaioturtearen arabera. 1976/01/01 - 2024/01/01'\n\\item[\\$variables] A data.frame: 4 × 5\n\\begin{tabular}{r|lllll}\n  & code & text & values & valueTexts & time\\\\\n  & <chr> & <chr> & <list> & <list> & <lgl>\\\\\n\\hline\n\t1 & territorio histórico & lurralde historikoa & 00, 01, 48, 20 & Euskal AE  , Araba/Álava, Bizkaia    , Gipuzkoa    &   NA\\\\\n\t2 & sexo                 & sexua               & 10, 20, 30 & Guztira  , Gizonak  , Emakumeak &   NA\\\\\n\t3 & año de nacimiento    & jaiotze urtea       & 1000, 1109, 1110, 1120, 5800, 5810, 5820, 5830, 5840, 5850, 5860, 5870, 5880, 5890, 5900, 5910, 5920, 5930, 5940, 5950, 5960, 5970, 5980, 5990, 6000, 6010, 6020, 6030, 6040, 6050, 6060, 6070, 6080, 6090, 6100, 6110, 6120, 6130, 6140, 6150, 6160, 6170, 6180, 6190, 6200, 6210, 6220, 6230, 6240, 6250, 6260, 6270, 6280, 6290, 6300, 6310, 6320, 6330, 6340, 6350, 6360, 6370, 6380, 6390, 6400, 6410, 6420, 6430, 6440, 6450, 6460, 6470, 6480, 6490, 6500, 6510, 6520, 6530, 6540, 6550, 6560, 6570, 6580, 6590, 6600, 6610, 6620, 6630, 6640, 6650, 6660, 6670, 6680, 6690, 6700, 6710, 6720, 6730, 6740, 6750, 6760, 6770, 6780, 6790, 6800, 6810, 6820, 6830, 6840, 6850, 6860, 6870, 6880, 6890, 6900, 6910, 6920, 6930, 6940, 6950, 6960, 6970, 6980, 6990, 7000, 7010, 7020, 7030, 7040, 7050, 7060, 7070, 7080, 7090, 7100, 7110, 7120, 7130, 7140, 7150, 7160, 7170, 7180, 7190, 7200, 7210, 7220, 7230, 7240, 7250 & Guztira, 2023   , 2022   , 2021   , 2020   , 2019   , 2018   , 2017   , 2016   , 2015   , 2014   , 2013   , 2012   , 2011   , 2010   , 2009   , 2008   , 2007   , 2006   , 2005   , 2004   , 2003   , 2002   , 2001   , 2000   , 1999   , 1998   , 1997   , 1996   , 1995   , 1994   , 1993   , 1992   , 1991   , 1990   , 1989   , 1988   , 1987   , 1986   , 1985   , 1984   , 1983   , 1982   , 1981   , 1980   , 1979   , 1978   , 1977   , 1976   , 1975   , 1974   , 1973   , 1972   , 1971   , 1970   , 1969   , 1968   , 1967   , 1966   , 1965   , 1964   , 1963   , 1962   , 1961   , 1960   , 1959   , 1958   , 1957   , 1956   , 1955   , 1954   , 1953   , 1952   , 1951   , 1950   , 1949   , 1948   , 1947   , 1946   , 1945   , 1944   , 1943   , 1942   , 1941   , 1940   , 1939   , 1938   , 1937   , 1936   , 1935   , 1934   , 1933   , 1932   , 1931   , 1930   , 1929   , 1928   , 1927   , 1926   , 1925   , 1924   , 1923   , 1922   , 1921   , 1920   , 1919   , 1918   , 1917   , 1916   , 1915   , 1914   , 1913   , 1912   , 1911   , 1910   , 1909   , 1908   , 1907   , 1906   , 1905   , 1904   , 1903   , 1902   , 1901   , 1900   , 1899   , 1898   , 1897   , 1896   , 1895   , 1894   , 1893   , 1892   , 1891   , 1890   , 1889   , 1888   , 1887   , 1886   , 1885   , 1884   , 1883   , 1882   , 1881   , 1880   , 1879   , 1878   , 1877   , 1876   , <= 1875 &   NA\\\\\n\t4 & periodo              & aldia               & 19760101, 19770101, 19780101, 19790101, 19800101, 19810101, 19820101, 19830101, 19840101, 19850101, 19860101, 19870101, 19880101, 19890101, 19900101, 19910101, 19920101, 19930101, 19940101, 19950101, 19960101, 19970101, 19980101, 19990101, 20000101, 20010101, 20020101, 20030101, 20040101, 20050101, 20060101, 20070101, 20080101, 20090101, 20100101, 20110101, 20120101, 20130101, 20140101, 20150101, 20160101, 20170101, 20180101, 20190101, 20200101, 20210101, 20220101, 20220701, 20230101, 20230701, 20240101 & 1976/01/01, 1977/01/01, 1978/01/01, 1979/01/01, 1980/01/01, 1981/01/01, 1982/01/01, 1983/01/01, 1984/01/01, 1985/01/01, 1986/01/01, 1987/01/01, 1988/01/01, 1989/01/01, 1990/01/01, 1991/01/01, 1992/01/01, 1993/01/01, 1994/01/01, 1995/01/01, 1996/01/01, 1997/01/01, 1998/01/01, 1999/01/01, 2000/01/01, 2001/01/01, 2002/01/01, 2003/01/01, 2004/01/01, 2005/01/01, 2006/01/01, 2007/01/01, 2008/01/01, 2009/01/01, 2010/01/01, 2011/01/01, 2012/01/01, 2013/01/01, 2014/01/01, 2015/01/01, 2016/01/01, 2017/01/01, 2018/01/01, 2019/01/01, 2020/01/01, 2021/01/01, 2022/01/01, 2022/07/01, 2023/01/01, 2023/07/01, 2024/01/01 & TRUE\\\\\n\\end{tabular}\n\n\\end{description}\n",
            "text/plain": [
              "$title\n",
              "[1] \"Euskal AEko biztanleria zenbatetsia, lurralde historikoaren, sexuaren eta jaioturtearen arabera. 1976/01/01 - 2024/01/01\"\n",
              "\n",
              "$variables\n",
              "                  code                text\n",
              "1 territorio histórico lurralde historikoa\n",
              "2                 sexo               sexua\n",
              "3    año de nacimiento       jaiotze urtea\n",
              "4              periodo               aldia\n",
              "                                                                                                                                                                                                                                                                                                                                                                                                                                                                                                                                                                                                                                                                                                                                                                                                                                                                                                                              values\n",
              "1                                                                                                                                                                                                                                                                                                                                                                                                                                                                                                                                                                                                                                                                                                                                                                                                                                                                                                                     00, 01, 48, 20\n",
              "2                                                                                                                                                                                                                                                                                                                                                                                                                                                                                                                                                                                                                                                                                                                                                                                                                                                                                                                         10, 20, 30\n",
              "3 1000, 1109, 1110, 1120, 5800, 5810, 5820, 5830, 5840, 5850, 5860, 5870, 5880, 5890, 5900, 5910, 5920, 5930, 5940, 5950, 5960, 5970, 5980, 5990, 6000, 6010, 6020, 6030, 6040, 6050, 6060, 6070, 6080, 6090, 6100, 6110, 6120, 6130, 6140, 6150, 6160, 6170, 6180, 6190, 6200, 6210, 6220, 6230, 6240, 6250, 6260, 6270, 6280, 6290, 6300, 6310, 6320, 6330, 6340, 6350, 6360, 6370, 6380, 6390, 6400, 6410, 6420, 6430, 6440, 6450, 6460, 6470, 6480, 6490, 6500, 6510, 6520, 6530, 6540, 6550, 6560, 6570, 6580, 6590, 6600, 6610, 6620, 6630, 6640, 6650, 6660, 6670, 6680, 6690, 6700, 6710, 6720, 6730, 6740, 6750, 6760, 6770, 6780, 6790, 6800, 6810, 6820, 6830, 6840, 6850, 6860, 6870, 6880, 6890, 6900, 6910, 6920, 6930, 6940, 6950, 6960, 6970, 6980, 6990, 7000, 7010, 7020, 7030, 7040, 7050, 7060, 7070, 7080, 7090, 7100, 7110, 7120, 7130, 7140, 7150, 7160, 7170, 7180, 7190, 7200, 7210, 7220, 7230, 7240, 7250\n",
              "4                                                                                                                                                                                                                                                                                                                                                                                                       19760101, 19770101, 19780101, 19790101, 19800101, 19810101, 19820101, 19830101, 19840101, 19850101, 19860101, 19870101, 19880101, 19890101, 19900101, 19910101, 19920101, 19930101, 19940101, 19950101, 19960101, 19970101, 19980101, 19990101, 20000101, 20010101, 20020101, 20030101, 20040101, 20050101, 20060101, 20070101, 20080101, 20090101, 20100101, 20110101, 20120101, 20130101, 20140101, 20150101, 20160101, 20170101, 20180101, 20190101, 20200101, 20210101, 20220101, 20220701, 20230101, 20230701, 20240101\n",
              "                                                                                                                                                                                                                                                                                                                                                                                                                                                                                                                                                                                                                                                                                                                                                                                                                                                                                                                                valueTexts\n",
              "1                                                                                                                                                                                                                                                                                                                                                                                                                                                                                                                                                                                                                                                                                                                                                                                                                                                                                                Euskal AE, Araba/Álava, Bizkaia, Gipuzkoa\n",
              "2                                                                                                                                                                                                                                                                                                                                                                                                                                                                                                                                                                                                                                                                                                                                                                                                                                                                                                              Guztira, Gizonak, Emakumeak\n",
              "3 Guztira, 2023, 2022, 2021, 2020, 2019, 2018, 2017, 2016, 2015, 2014, 2013, 2012, 2011, 2010, 2009, 2008, 2007, 2006, 2005, 2004, 2003, 2002, 2001, 2000, 1999, 1998, 1997, 1996, 1995, 1994, 1993, 1992, 1991, 1990, 1989, 1988, 1987, 1986, 1985, 1984, 1983, 1982, 1981, 1980, 1979, 1978, 1977, 1976, 1975, 1974, 1973, 1972, 1971, 1970, 1969, 1968, 1967, 1966, 1965, 1964, 1963, 1962, 1961, 1960, 1959, 1958, 1957, 1956, 1955, 1954, 1953, 1952, 1951, 1950, 1949, 1948, 1947, 1946, 1945, 1944, 1943, 1942, 1941, 1940, 1939, 1938, 1937, 1936, 1935, 1934, 1933, 1932, 1931, 1930, 1929, 1928, 1927, 1926, 1925, 1924, 1923, 1922, 1921, 1920, 1919, 1918, 1917, 1916, 1915, 1914, 1913, 1912, 1911, 1910, 1909, 1908, 1907, 1906, 1905, 1904, 1903, 1902, 1901, 1900, 1899, 1898, 1897, 1896, 1895, 1894, 1893, 1892, 1891, 1890, 1889, 1888, 1887, 1886, 1885, 1884, 1883, 1882, 1881, 1880, 1879, 1878, 1877, 1876, <= 1875\n",
              "4                                                                                                                                                                                                                                                                                                       1976/01/01, 1977/01/01, 1978/01/01, 1979/01/01, 1980/01/01, 1981/01/01, 1982/01/01, 1983/01/01, 1984/01/01, 1985/01/01, 1986/01/01, 1987/01/01, 1988/01/01, 1989/01/01, 1990/01/01, 1991/01/01, 1992/01/01, 1993/01/01, 1994/01/01, 1995/01/01, 1996/01/01, 1997/01/01, 1998/01/01, 1999/01/01, 2000/01/01, 2001/01/01, 2002/01/01, 2003/01/01, 2004/01/01, 2005/01/01, 2006/01/01, 2007/01/01, 2008/01/01, 2009/01/01, 2010/01/01, 2011/01/01, 2012/01/01, 2013/01/01, 2014/01/01, 2015/01/01, 2016/01/01, 2017/01/01, 2018/01/01, 2019/01/01, 2020/01/01, 2021/01/01, 2022/01/01, 2022/07/01, 2023/01/01, 2023/07/01, 2024/01/01\n",
              "  time\n",
              "1   NA\n",
              "2   NA\n",
              "3   NA\n",
              "4 TRUE\n"
            ]
          },
          "metadata": {}
        }
      ],
      "source": [
        "\n",
        "metadatuak<- GET(\"https://www.eustat.eus/bankupx/api/v1/eu/DB/PX_010154_cepv1_ep17.px\")\n",
        "biztanleria_metadatuak <- fromJSON(rawToChar(metadatuak$content))\n",
        "biztanleria_metadatuak"
      ]
    },
    {
      "cell_type": "markdown",
      "id": "5061b0a9",
      "metadata": {
        "id": "5061b0a9"
      },
      "source": [
        "Metadatuek taularen izenburua dute, aldagaien eta balioen kodeekin eta literalekin batera. Baliagarria izan daiteke aldagaiak beren balioekin batera erakusten dituen taula bat sortzea, kodeen eta etiketa deskribatzaileen arteko korrespondentzia erakusten dituena."
      ]
    },
    {
      "cell_type": "code",
      "execution_count": 19,
      "id": "71fec5b6",
      "metadata": {
        "colab": {
          "base_uri": "https://localhost:8080/",
          "height": 1000
        },
        "id": "71fec5b6",
        "outputId": "47ed5d47-8568-4947-e6dc-add34cfb11db"
      },
      "outputs": [
        {
          "output_type": "display_data",
          "data": {
            "text/html": [
              "<table class=\"dataframe\">\n",
              "<caption>A tibble: 208 × 5</caption>\n",
              "<thead>\n",
              "\t<tr><th scope=col>code</th><th scope=col>text</th><th scope=col>values</th><th scope=col>valueTexts</th><th scope=col>time</th></tr>\n",
              "\t<tr><th scope=col>&lt;chr&gt;</th><th scope=col>&lt;chr&gt;</th><th scope=col>&lt;chr&gt;</th><th scope=col>&lt;chr&gt;</th><th scope=col>&lt;lgl&gt;</th></tr>\n",
              "</thead>\n",
              "<tbody>\n",
              "\t<tr><td>territorio histórico</td><td>lurralde historikoa</td><td>00  </td><td>Euskal AE  </td><td>NA</td></tr>\n",
              "\t<tr><td>territorio histórico</td><td>lurralde historikoa</td><td>01  </td><td>Araba/Álava</td><td>NA</td></tr>\n",
              "\t<tr><td>territorio histórico</td><td>lurralde historikoa</td><td>48  </td><td>Bizkaia    </td><td>NA</td></tr>\n",
              "\t<tr><td>territorio histórico</td><td>lurralde historikoa</td><td>20  </td><td>Gipuzkoa   </td><td>NA</td></tr>\n",
              "\t<tr><td>sexo                </td><td>sexua              </td><td>10  </td><td>Guztira    </td><td>NA</td></tr>\n",
              "\t<tr><td>sexo                </td><td>sexua              </td><td>20  </td><td>Gizonak    </td><td>NA</td></tr>\n",
              "\t<tr><td>sexo                </td><td>sexua              </td><td>30  </td><td>Emakumeak  </td><td>NA</td></tr>\n",
              "\t<tr><td>año de nacimiento   </td><td>jaiotze urtea      </td><td>1000</td><td>Guztira    </td><td>NA</td></tr>\n",
              "\t<tr><td>año de nacimiento   </td><td>jaiotze urtea      </td><td>1109</td><td>2023       </td><td>NA</td></tr>\n",
              "\t<tr><td>año de nacimiento   </td><td>jaiotze urtea      </td><td>1110</td><td>2022       </td><td>NA</td></tr>\n",
              "\t<tr><td>año de nacimiento   </td><td>jaiotze urtea      </td><td>1120</td><td>2021       </td><td>NA</td></tr>\n",
              "\t<tr><td>año de nacimiento   </td><td>jaiotze urtea      </td><td>5800</td><td>2020       </td><td>NA</td></tr>\n",
              "\t<tr><td>año de nacimiento   </td><td>jaiotze urtea      </td><td>5810</td><td>2019       </td><td>NA</td></tr>\n",
              "\t<tr><td>año de nacimiento   </td><td>jaiotze urtea      </td><td>5820</td><td>2018       </td><td>NA</td></tr>\n",
              "\t<tr><td>año de nacimiento   </td><td>jaiotze urtea      </td><td>5830</td><td>2017       </td><td>NA</td></tr>\n",
              "\t<tr><td>año de nacimiento   </td><td>jaiotze urtea      </td><td>5840</td><td>2016       </td><td>NA</td></tr>\n",
              "\t<tr><td>año de nacimiento   </td><td>jaiotze urtea      </td><td>5850</td><td>2015       </td><td>NA</td></tr>\n",
              "\t<tr><td>año de nacimiento   </td><td>jaiotze urtea      </td><td>5860</td><td>2014       </td><td>NA</td></tr>\n",
              "\t<tr><td>año de nacimiento   </td><td>jaiotze urtea      </td><td>5870</td><td>2013       </td><td>NA</td></tr>\n",
              "\t<tr><td>año de nacimiento   </td><td>jaiotze urtea      </td><td>5880</td><td>2012       </td><td>NA</td></tr>\n",
              "\t<tr><td>año de nacimiento   </td><td>jaiotze urtea      </td><td>5890</td><td>2011       </td><td>NA</td></tr>\n",
              "\t<tr><td>año de nacimiento   </td><td>jaiotze urtea      </td><td>5900</td><td>2010       </td><td>NA</td></tr>\n",
              "\t<tr><td>año de nacimiento   </td><td>jaiotze urtea      </td><td>5910</td><td>2009       </td><td>NA</td></tr>\n",
              "\t<tr><td>año de nacimiento   </td><td>jaiotze urtea      </td><td>5920</td><td>2008       </td><td>NA</td></tr>\n",
              "\t<tr><td>año de nacimiento   </td><td>jaiotze urtea      </td><td>5930</td><td>2007       </td><td>NA</td></tr>\n",
              "\t<tr><td>año de nacimiento   </td><td>jaiotze urtea      </td><td>5940</td><td>2006       </td><td>NA</td></tr>\n",
              "\t<tr><td>año de nacimiento   </td><td>jaiotze urtea      </td><td>5950</td><td>2005       </td><td>NA</td></tr>\n",
              "\t<tr><td>año de nacimiento   </td><td>jaiotze urtea      </td><td>5960</td><td>2004       </td><td>NA</td></tr>\n",
              "\t<tr><td>año de nacimiento   </td><td>jaiotze urtea      </td><td>5970</td><td>2003       </td><td>NA</td></tr>\n",
              "\t<tr><td>año de nacimiento   </td><td>jaiotze urtea      </td><td>5980</td><td>2002       </td><td>NA</td></tr>\n",
              "\t<tr><td>⋮</td><td>⋮</td><td>⋮</td><td>⋮</td><td>⋮</td></tr>\n",
              "\t<tr><td>periodo</td><td>aldia</td><td>19970101</td><td>1997/01/01</td><td>TRUE</td></tr>\n",
              "\t<tr><td>periodo</td><td>aldia</td><td>19980101</td><td>1998/01/01</td><td>TRUE</td></tr>\n",
              "\t<tr><td>periodo</td><td>aldia</td><td>19990101</td><td>1999/01/01</td><td>TRUE</td></tr>\n",
              "\t<tr><td>periodo</td><td>aldia</td><td>20000101</td><td>2000/01/01</td><td>TRUE</td></tr>\n",
              "\t<tr><td>periodo</td><td>aldia</td><td>20010101</td><td>2001/01/01</td><td>TRUE</td></tr>\n",
              "\t<tr><td>periodo</td><td>aldia</td><td>20020101</td><td>2002/01/01</td><td>TRUE</td></tr>\n",
              "\t<tr><td>periodo</td><td>aldia</td><td>20030101</td><td>2003/01/01</td><td>TRUE</td></tr>\n",
              "\t<tr><td>periodo</td><td>aldia</td><td>20040101</td><td>2004/01/01</td><td>TRUE</td></tr>\n",
              "\t<tr><td>periodo</td><td>aldia</td><td>20050101</td><td>2005/01/01</td><td>TRUE</td></tr>\n",
              "\t<tr><td>periodo</td><td>aldia</td><td>20060101</td><td>2006/01/01</td><td>TRUE</td></tr>\n",
              "\t<tr><td>periodo</td><td>aldia</td><td>20070101</td><td>2007/01/01</td><td>TRUE</td></tr>\n",
              "\t<tr><td>periodo</td><td>aldia</td><td>20080101</td><td>2008/01/01</td><td>TRUE</td></tr>\n",
              "\t<tr><td>periodo</td><td>aldia</td><td>20090101</td><td>2009/01/01</td><td>TRUE</td></tr>\n",
              "\t<tr><td>periodo</td><td>aldia</td><td>20100101</td><td>2010/01/01</td><td>TRUE</td></tr>\n",
              "\t<tr><td>periodo</td><td>aldia</td><td>20110101</td><td>2011/01/01</td><td>TRUE</td></tr>\n",
              "\t<tr><td>periodo</td><td>aldia</td><td>20120101</td><td>2012/01/01</td><td>TRUE</td></tr>\n",
              "\t<tr><td>periodo</td><td>aldia</td><td>20130101</td><td>2013/01/01</td><td>TRUE</td></tr>\n",
              "\t<tr><td>periodo</td><td>aldia</td><td>20140101</td><td>2014/01/01</td><td>TRUE</td></tr>\n",
              "\t<tr><td>periodo</td><td>aldia</td><td>20150101</td><td>2015/01/01</td><td>TRUE</td></tr>\n",
              "\t<tr><td>periodo</td><td>aldia</td><td>20160101</td><td>2016/01/01</td><td>TRUE</td></tr>\n",
              "\t<tr><td>periodo</td><td>aldia</td><td>20170101</td><td>2017/01/01</td><td>TRUE</td></tr>\n",
              "\t<tr><td>periodo</td><td>aldia</td><td>20180101</td><td>2018/01/01</td><td>TRUE</td></tr>\n",
              "\t<tr><td>periodo</td><td>aldia</td><td>20190101</td><td>2019/01/01</td><td>TRUE</td></tr>\n",
              "\t<tr><td>periodo</td><td>aldia</td><td>20200101</td><td>2020/01/01</td><td>TRUE</td></tr>\n",
              "\t<tr><td>periodo</td><td>aldia</td><td>20210101</td><td>2021/01/01</td><td>TRUE</td></tr>\n",
              "\t<tr><td>periodo</td><td>aldia</td><td>20220101</td><td>2022/01/01</td><td>TRUE</td></tr>\n",
              "\t<tr><td>periodo</td><td>aldia</td><td>20220701</td><td>2022/07/01</td><td>TRUE</td></tr>\n",
              "\t<tr><td>periodo</td><td>aldia</td><td>20230101</td><td>2023/01/01</td><td>TRUE</td></tr>\n",
              "\t<tr><td>periodo</td><td>aldia</td><td>20230701</td><td>2023/07/01</td><td>TRUE</td></tr>\n",
              "\t<tr><td>periodo</td><td>aldia</td><td>20240101</td><td>2024/01/01</td><td>TRUE</td></tr>\n",
              "</tbody>\n",
              "</table>\n"
            ],
            "text/markdown": "\nA tibble: 208 × 5\n\n| code &lt;chr&gt; | text &lt;chr&gt; | values &lt;chr&gt; | valueTexts &lt;chr&gt; | time &lt;lgl&gt; |\n|---|---|---|---|---|\n| territorio histórico | lurralde historikoa | 00   | Euskal AE   | NA |\n| territorio histórico | lurralde historikoa | 01   | Araba/Álava | NA |\n| territorio histórico | lurralde historikoa | 48   | Bizkaia     | NA |\n| territorio histórico | lurralde historikoa | 20   | Gipuzkoa    | NA |\n| sexo                 | sexua               | 10   | Guztira     | NA |\n| sexo                 | sexua               | 20   | Gizonak     | NA |\n| sexo                 | sexua               | 30   | Emakumeak   | NA |\n| año de nacimiento    | jaiotze urtea       | 1000 | Guztira     | NA |\n| año de nacimiento    | jaiotze urtea       | 1109 | 2023        | NA |\n| año de nacimiento    | jaiotze urtea       | 1110 | 2022        | NA |\n| año de nacimiento    | jaiotze urtea       | 1120 | 2021        | NA |\n| año de nacimiento    | jaiotze urtea       | 5800 | 2020        | NA |\n| año de nacimiento    | jaiotze urtea       | 5810 | 2019        | NA |\n| año de nacimiento    | jaiotze urtea       | 5820 | 2018        | NA |\n| año de nacimiento    | jaiotze urtea       | 5830 | 2017        | NA |\n| año de nacimiento    | jaiotze urtea       | 5840 | 2016        | NA |\n| año de nacimiento    | jaiotze urtea       | 5850 | 2015        | NA |\n| año de nacimiento    | jaiotze urtea       | 5860 | 2014        | NA |\n| año de nacimiento    | jaiotze urtea       | 5870 | 2013        | NA |\n| año de nacimiento    | jaiotze urtea       | 5880 | 2012        | NA |\n| año de nacimiento    | jaiotze urtea       | 5890 | 2011        | NA |\n| año de nacimiento    | jaiotze urtea       | 5900 | 2010        | NA |\n| año de nacimiento    | jaiotze urtea       | 5910 | 2009        | NA |\n| año de nacimiento    | jaiotze urtea       | 5920 | 2008        | NA |\n| año de nacimiento    | jaiotze urtea       | 5930 | 2007        | NA |\n| año de nacimiento    | jaiotze urtea       | 5940 | 2006        | NA |\n| año de nacimiento    | jaiotze urtea       | 5950 | 2005        | NA |\n| año de nacimiento    | jaiotze urtea       | 5960 | 2004        | NA |\n| año de nacimiento    | jaiotze urtea       | 5970 | 2003        | NA |\n| año de nacimiento    | jaiotze urtea       | 5980 | 2002        | NA |\n| ⋮ | ⋮ | ⋮ | ⋮ | ⋮ |\n| periodo | aldia | 19970101 | 1997/01/01 | TRUE |\n| periodo | aldia | 19980101 | 1998/01/01 | TRUE |\n| periodo | aldia | 19990101 | 1999/01/01 | TRUE |\n| periodo | aldia | 20000101 | 2000/01/01 | TRUE |\n| periodo | aldia | 20010101 | 2001/01/01 | TRUE |\n| periodo | aldia | 20020101 | 2002/01/01 | TRUE |\n| periodo | aldia | 20030101 | 2003/01/01 | TRUE |\n| periodo | aldia | 20040101 | 2004/01/01 | TRUE |\n| periodo | aldia | 20050101 | 2005/01/01 | TRUE |\n| periodo | aldia | 20060101 | 2006/01/01 | TRUE |\n| periodo | aldia | 20070101 | 2007/01/01 | TRUE |\n| periodo | aldia | 20080101 | 2008/01/01 | TRUE |\n| periodo | aldia | 20090101 | 2009/01/01 | TRUE |\n| periodo | aldia | 20100101 | 2010/01/01 | TRUE |\n| periodo | aldia | 20110101 | 2011/01/01 | TRUE |\n| periodo | aldia | 20120101 | 2012/01/01 | TRUE |\n| periodo | aldia | 20130101 | 2013/01/01 | TRUE |\n| periodo | aldia | 20140101 | 2014/01/01 | TRUE |\n| periodo | aldia | 20150101 | 2015/01/01 | TRUE |\n| periodo | aldia | 20160101 | 2016/01/01 | TRUE |\n| periodo | aldia | 20170101 | 2017/01/01 | TRUE |\n| periodo | aldia | 20180101 | 2018/01/01 | TRUE |\n| periodo | aldia | 20190101 | 2019/01/01 | TRUE |\n| periodo | aldia | 20200101 | 2020/01/01 | TRUE |\n| periodo | aldia | 20210101 | 2021/01/01 | TRUE |\n| periodo | aldia | 20220101 | 2022/01/01 | TRUE |\n| periodo | aldia | 20220701 | 2022/07/01 | TRUE |\n| periodo | aldia | 20230101 | 2023/01/01 | TRUE |\n| periodo | aldia | 20230701 | 2023/07/01 | TRUE |\n| periodo | aldia | 20240101 | 2024/01/01 | TRUE |\n\n",
            "text/latex": "A tibble: 208 × 5\n\\begin{tabular}{lllll}\n code & text & values & valueTexts & time\\\\\n <chr> & <chr> & <chr> & <chr> & <lgl>\\\\\n\\hline\n\t territorio histórico & lurralde historikoa & 00   & Euskal AE   & NA\\\\\n\t territorio histórico & lurralde historikoa & 01   & Araba/Álava & NA\\\\\n\t territorio histórico & lurralde historikoa & 48   & Bizkaia     & NA\\\\\n\t territorio histórico & lurralde historikoa & 20   & Gipuzkoa    & NA\\\\\n\t sexo                 & sexua               & 10   & Guztira     & NA\\\\\n\t sexo                 & sexua               & 20   & Gizonak     & NA\\\\\n\t sexo                 & sexua               & 30   & Emakumeak   & NA\\\\\n\t año de nacimiento    & jaiotze urtea       & 1000 & Guztira     & NA\\\\\n\t año de nacimiento    & jaiotze urtea       & 1109 & 2023        & NA\\\\\n\t año de nacimiento    & jaiotze urtea       & 1110 & 2022        & NA\\\\\n\t año de nacimiento    & jaiotze urtea       & 1120 & 2021        & NA\\\\\n\t año de nacimiento    & jaiotze urtea       & 5800 & 2020        & NA\\\\\n\t año de nacimiento    & jaiotze urtea       & 5810 & 2019        & NA\\\\\n\t año de nacimiento    & jaiotze urtea       & 5820 & 2018        & NA\\\\\n\t año de nacimiento    & jaiotze urtea       & 5830 & 2017        & NA\\\\\n\t año de nacimiento    & jaiotze urtea       & 5840 & 2016        & NA\\\\\n\t año de nacimiento    & jaiotze urtea       & 5850 & 2015        & NA\\\\\n\t año de nacimiento    & jaiotze urtea       & 5860 & 2014        & NA\\\\\n\t año de nacimiento    & jaiotze urtea       & 5870 & 2013        & NA\\\\\n\t año de nacimiento    & jaiotze urtea       & 5880 & 2012        & NA\\\\\n\t año de nacimiento    & jaiotze urtea       & 5890 & 2011        & NA\\\\\n\t año de nacimiento    & jaiotze urtea       & 5900 & 2010        & NA\\\\\n\t año de nacimiento    & jaiotze urtea       & 5910 & 2009        & NA\\\\\n\t año de nacimiento    & jaiotze urtea       & 5920 & 2008        & NA\\\\\n\t año de nacimiento    & jaiotze urtea       & 5930 & 2007        & NA\\\\\n\t año de nacimiento    & jaiotze urtea       & 5940 & 2006        & NA\\\\\n\t año de nacimiento    & jaiotze urtea       & 5950 & 2005        & NA\\\\\n\t año de nacimiento    & jaiotze urtea       & 5960 & 2004        & NA\\\\\n\t año de nacimiento    & jaiotze urtea       & 5970 & 2003        & NA\\\\\n\t año de nacimiento    & jaiotze urtea       & 5980 & 2002        & NA\\\\\n\t ⋮ & ⋮ & ⋮ & ⋮ & ⋮\\\\\n\t periodo & aldia & 19970101 & 1997/01/01 & TRUE\\\\\n\t periodo & aldia & 19980101 & 1998/01/01 & TRUE\\\\\n\t periodo & aldia & 19990101 & 1999/01/01 & TRUE\\\\\n\t periodo & aldia & 20000101 & 2000/01/01 & TRUE\\\\\n\t periodo & aldia & 20010101 & 2001/01/01 & TRUE\\\\\n\t periodo & aldia & 20020101 & 2002/01/01 & TRUE\\\\\n\t periodo & aldia & 20030101 & 2003/01/01 & TRUE\\\\\n\t periodo & aldia & 20040101 & 2004/01/01 & TRUE\\\\\n\t periodo & aldia & 20050101 & 2005/01/01 & TRUE\\\\\n\t periodo & aldia & 20060101 & 2006/01/01 & TRUE\\\\\n\t periodo & aldia & 20070101 & 2007/01/01 & TRUE\\\\\n\t periodo & aldia & 20080101 & 2008/01/01 & TRUE\\\\\n\t periodo & aldia & 20090101 & 2009/01/01 & TRUE\\\\\n\t periodo & aldia & 20100101 & 2010/01/01 & TRUE\\\\\n\t periodo & aldia & 20110101 & 2011/01/01 & TRUE\\\\\n\t periodo & aldia & 20120101 & 2012/01/01 & TRUE\\\\\n\t periodo & aldia & 20130101 & 2013/01/01 & TRUE\\\\\n\t periodo & aldia & 20140101 & 2014/01/01 & TRUE\\\\\n\t periodo & aldia & 20150101 & 2015/01/01 & TRUE\\\\\n\t periodo & aldia & 20160101 & 2016/01/01 & TRUE\\\\\n\t periodo & aldia & 20170101 & 2017/01/01 & TRUE\\\\\n\t periodo & aldia & 20180101 & 2018/01/01 & TRUE\\\\\n\t periodo & aldia & 20190101 & 2019/01/01 & TRUE\\\\\n\t periodo & aldia & 20200101 & 2020/01/01 & TRUE\\\\\n\t periodo & aldia & 20210101 & 2021/01/01 & TRUE\\\\\n\t periodo & aldia & 20220101 & 2022/01/01 & TRUE\\\\\n\t periodo & aldia & 20220701 & 2022/07/01 & TRUE\\\\\n\t periodo & aldia & 20230101 & 2023/01/01 & TRUE\\\\\n\t periodo & aldia & 20230701 & 2023/07/01 & TRUE\\\\\n\t periodo & aldia & 20240101 & 2024/01/01 & TRUE\\\\\n\\end{tabular}\n",
            "text/plain": [
              "    code                 text                values   valueTexts  time\n",
              "1   territorio histórico lurralde historikoa 00       Euskal AE   NA  \n",
              "2   territorio histórico lurralde historikoa 01       Araba/Álava NA  \n",
              "3   territorio histórico lurralde historikoa 48       Bizkaia     NA  \n",
              "4   territorio histórico lurralde historikoa 20       Gipuzkoa    NA  \n",
              "5   sexo                 sexua               10       Guztira     NA  \n",
              "6   sexo                 sexua               20       Gizonak     NA  \n",
              "7   sexo                 sexua               30       Emakumeak   NA  \n",
              "8   año de nacimiento    jaiotze urtea       1000     Guztira     NA  \n",
              "9   año de nacimiento    jaiotze urtea       1109     2023        NA  \n",
              "10  año de nacimiento    jaiotze urtea       1110     2022        NA  \n",
              "11  año de nacimiento    jaiotze urtea       1120     2021        NA  \n",
              "12  año de nacimiento    jaiotze urtea       5800     2020        NA  \n",
              "13  año de nacimiento    jaiotze urtea       5810     2019        NA  \n",
              "14  año de nacimiento    jaiotze urtea       5820     2018        NA  \n",
              "15  año de nacimiento    jaiotze urtea       5830     2017        NA  \n",
              "16  año de nacimiento    jaiotze urtea       5840     2016        NA  \n",
              "17  año de nacimiento    jaiotze urtea       5850     2015        NA  \n",
              "18  año de nacimiento    jaiotze urtea       5860     2014        NA  \n",
              "19  año de nacimiento    jaiotze urtea       5870     2013        NA  \n",
              "20  año de nacimiento    jaiotze urtea       5880     2012        NA  \n",
              "21  año de nacimiento    jaiotze urtea       5890     2011        NA  \n",
              "22  año de nacimiento    jaiotze urtea       5900     2010        NA  \n",
              "23  año de nacimiento    jaiotze urtea       5910     2009        NA  \n",
              "24  año de nacimiento    jaiotze urtea       5920     2008        NA  \n",
              "25  año de nacimiento    jaiotze urtea       5930     2007        NA  \n",
              "26  año de nacimiento    jaiotze urtea       5940     2006        NA  \n",
              "27  año de nacimiento    jaiotze urtea       5950     2005        NA  \n",
              "28  año de nacimiento    jaiotze urtea       5960     2004        NA  \n",
              "29  año de nacimiento    jaiotze urtea       5970     2003        NA  \n",
              "30  año de nacimiento    jaiotze urtea       5980     2002        NA  \n",
              "⋮   ⋮                    ⋮                   ⋮        ⋮           ⋮   \n",
              "179 periodo              aldia               19970101 1997/01/01  TRUE\n",
              "180 periodo              aldia               19980101 1998/01/01  TRUE\n",
              "181 periodo              aldia               19990101 1999/01/01  TRUE\n",
              "182 periodo              aldia               20000101 2000/01/01  TRUE\n",
              "183 periodo              aldia               20010101 2001/01/01  TRUE\n",
              "184 periodo              aldia               20020101 2002/01/01  TRUE\n",
              "185 periodo              aldia               20030101 2003/01/01  TRUE\n",
              "186 periodo              aldia               20040101 2004/01/01  TRUE\n",
              "187 periodo              aldia               20050101 2005/01/01  TRUE\n",
              "188 periodo              aldia               20060101 2006/01/01  TRUE\n",
              "189 periodo              aldia               20070101 2007/01/01  TRUE\n",
              "190 periodo              aldia               20080101 2008/01/01  TRUE\n",
              "191 periodo              aldia               20090101 2009/01/01  TRUE\n",
              "192 periodo              aldia               20100101 2010/01/01  TRUE\n",
              "193 periodo              aldia               20110101 2011/01/01  TRUE\n",
              "194 periodo              aldia               20120101 2012/01/01  TRUE\n",
              "195 periodo              aldia               20130101 2013/01/01  TRUE\n",
              "196 periodo              aldia               20140101 2014/01/01  TRUE\n",
              "197 periodo              aldia               20150101 2015/01/01  TRUE\n",
              "198 periodo              aldia               20160101 2016/01/01  TRUE\n",
              "199 periodo              aldia               20170101 2017/01/01  TRUE\n",
              "200 periodo              aldia               20180101 2018/01/01  TRUE\n",
              "201 periodo              aldia               20190101 2019/01/01  TRUE\n",
              "202 periodo              aldia               20200101 2020/01/01  TRUE\n",
              "203 periodo              aldia               20210101 2021/01/01  TRUE\n",
              "204 periodo              aldia               20220101 2022/01/01  TRUE\n",
              "205 periodo              aldia               20220701 2022/07/01  TRUE\n",
              "206 periodo              aldia               20230101 2023/01/01  TRUE\n",
              "207 periodo              aldia               20230701 2023/07/01  TRUE\n",
              "208 periodo              aldia               20240101 2024/01/01  TRUE"
            ]
          },
          "metadata": {}
        }
      ],
      "source": [
        "aldagaiak <- biztanleria_metadatuak$variables\n",
        "\n",
        "biztanleria_aldagaiak <- aldagaiak %>%\n",
        "  mutate(\n",
        "    values = lapply(values, unlist),\n",
        "    valueTexts = lapply(valueTexts, unlist)\n",
        "  ) %>%\n",
        "  unnest(c(values, valueTexts))\n",
        "\n",
        "biztanleria_aldagaiak"
      ]
    },
    {
      "cell_type": "markdown",
      "id": "418d03be",
      "metadata": {
        "id": "418d03be"
      },
      "source": [
        "# **3. Taula bateko datuak eskuratu**\n",
        "\n",
        "**Taula bateko datu guztiak eskuratzeko kontsulta**\n",
        "\n",
        "Tauletako datuak eskuratzeko, kontsulta bat egin behar dugu aurreko puntuan ikusi dugun helbide berean, POST funtzioarekin.\n",
        "\n",
        "rjstat izeneko modulua erabiliko dugu json-stat formatuan deskargatuko ditugun datuekin lan egiteko. Adibide honetan, \"Euskal AEko barne produktu gordina (BPG-eskaintza), lurralde historiko, jarduera-adar (A-38), datu-mota eta neurri-motaren arabera\" taularen datu guztiak kontsultatuko ditugu."
      ]
    },
    {
      "cell_type": "code",
      "execution_count": 20,
      "id": "21fbebd2",
      "metadata": {
        "colab": {
          "base_uri": "https://localhost:8080/",
          "height": 304
        },
        "id": "21fbebd2",
        "outputId": "91c6c1c9-9df9-4bc4-a7a4-aadb72b6937e"
      },
      "outputs": [
        {
          "output_type": "stream",
          "name": "stdout",
          "text": [
            "\n"
          ]
        },
        {
          "output_type": "display_data",
          "data": {
            "text/html": [
              "<table class=\"dataframe\">\n",
              "<caption>A data.frame: 6 × 6</caption>\n",
              "<thead>\n",
              "\t<tr><th></th><th scope=col>lurralde historikoa</th><th scope=col>sektorea</th><th scope=col>datu-mota</th><th scope=col>neurri-mota</th><th scope=col>aldia</th><th scope=col>value</th></tr>\n",
              "\t<tr><th></th><th scope=col>&lt;chr&gt;</th><th scope=col>&lt;chr&gt;</th><th scope=col>&lt;chr&gt;</th><th scope=col>&lt;chr&gt;</th><th scope=col>&lt;chr&gt;</th><th scope=col>&lt;dbl&gt;</th></tr>\n",
              "</thead>\n",
              "<tbody>\n",
              "\t<tr><th scope=row>1</th><td>Euskal AE</td><td>1. Nekazaritza, abeltzaintza eta arrantza</td><td>Maila</td><td>Uneko prezioak (mila euro)</td><td>1995</td><td>449513</td></tr>\n",
              "\t<tr><th scope=row>2</th><td>Euskal AE</td><td>1. Nekazaritza, abeltzaintza eta arrantza</td><td>Maila</td><td>Uneko prezioak (mila euro)</td><td>1996</td><td>439283</td></tr>\n",
              "\t<tr><th scope=row>3</th><td>Euskal AE</td><td>1. Nekazaritza, abeltzaintza eta arrantza</td><td>Maila</td><td>Uneko prezioak (mila euro)</td><td>1997</td><td>466735</td></tr>\n",
              "\t<tr><th scope=row>4</th><td>Euskal AE</td><td>1. Nekazaritza, abeltzaintza eta arrantza</td><td>Maila</td><td>Uneko prezioak (mila euro)</td><td>1998</td><td>564307</td></tr>\n",
              "\t<tr><th scope=row>5</th><td>Euskal AE</td><td>1. Nekazaritza, abeltzaintza eta arrantza</td><td>Maila</td><td>Uneko prezioak (mila euro)</td><td>1999</td><td>605399</td></tr>\n",
              "\t<tr><th scope=row>6</th><td>Euskal AE</td><td>1. Nekazaritza, abeltzaintza eta arrantza</td><td>Maila</td><td>Uneko prezioak (mila euro)</td><td>2000</td><td>514139</td></tr>\n",
              "</tbody>\n",
              "</table>\n"
            ],
            "text/markdown": "\nA data.frame: 6 × 6\n\n| <!--/--> | lurralde historikoa &lt;chr&gt; | sektorea &lt;chr&gt; | datu-mota &lt;chr&gt; | neurri-mota &lt;chr&gt; | aldia &lt;chr&gt; | value &lt;dbl&gt; |\n|---|---|---|---|---|---|---|\n| 1 | Euskal AE | 1. Nekazaritza, abeltzaintza eta arrantza | Maila | Uneko prezioak (mila euro) | 1995 | 449513 |\n| 2 | Euskal AE | 1. Nekazaritza, abeltzaintza eta arrantza | Maila | Uneko prezioak (mila euro) | 1996 | 439283 |\n| 3 | Euskal AE | 1. Nekazaritza, abeltzaintza eta arrantza | Maila | Uneko prezioak (mila euro) | 1997 | 466735 |\n| 4 | Euskal AE | 1. Nekazaritza, abeltzaintza eta arrantza | Maila | Uneko prezioak (mila euro) | 1998 | 564307 |\n| 5 | Euskal AE | 1. Nekazaritza, abeltzaintza eta arrantza | Maila | Uneko prezioak (mila euro) | 1999 | 605399 |\n| 6 | Euskal AE | 1. Nekazaritza, abeltzaintza eta arrantza | Maila | Uneko prezioak (mila euro) | 2000 | 514139 |\n\n",
            "text/latex": "A data.frame: 6 × 6\n\\begin{tabular}{r|llllll}\n  & lurralde historikoa & sektorea & datu-mota & neurri-mota & aldia & value\\\\\n  & <chr> & <chr> & <chr> & <chr> & <chr> & <dbl>\\\\\n\\hline\n\t1 & Euskal AE & 1. Nekazaritza, abeltzaintza eta arrantza & Maila & Uneko prezioak (mila euro) & 1995 & 449513\\\\\n\t2 & Euskal AE & 1. Nekazaritza, abeltzaintza eta arrantza & Maila & Uneko prezioak (mila euro) & 1996 & 439283\\\\\n\t3 & Euskal AE & 1. Nekazaritza, abeltzaintza eta arrantza & Maila & Uneko prezioak (mila euro) & 1997 & 466735\\\\\n\t4 & Euskal AE & 1. Nekazaritza, abeltzaintza eta arrantza & Maila & Uneko prezioak (mila euro) & 1998 & 564307\\\\\n\t5 & Euskal AE & 1. Nekazaritza, abeltzaintza eta arrantza & Maila & Uneko prezioak (mila euro) & 1999 & 605399\\\\\n\t6 & Euskal AE & 1. Nekazaritza, abeltzaintza eta arrantza & Maila & Uneko prezioak (mila euro) & 2000 & 514139\\\\\n\\end{tabular}\n",
            "text/plain": [
              "  lurralde historikoa sektorea                                  datu-mota\n",
              "1 Euskal AE           1. Nekazaritza, abeltzaintza eta arrantza Maila    \n",
              "2 Euskal AE           1. Nekazaritza, abeltzaintza eta arrantza Maila    \n",
              "3 Euskal AE           1. Nekazaritza, abeltzaintza eta arrantza Maila    \n",
              "4 Euskal AE           1. Nekazaritza, abeltzaintza eta arrantza Maila    \n",
              "5 Euskal AE           1. Nekazaritza, abeltzaintza eta arrantza Maila    \n",
              "6 Euskal AE           1. Nekazaritza, abeltzaintza eta arrantza Maila    \n",
              "  neurri-mota                aldia value \n",
              "1 Uneko prezioak (mila euro) 1995  449513\n",
              "2 Uneko prezioak (mila euro) 1996  439283\n",
              "3 Uneko prezioak (mila euro) 1997  466735\n",
              "4 Uneko prezioak (mila euro) 1998  564307\n",
              "5 Uneko prezioak (mila euro) 1999  605399\n",
              "6 Uneko prezioak (mila euro) 2000  514139"
            ]
          },
          "metadata": {}
        }
      ],
      "source": [
        "\n",
        "# Taulako sarbide puntua (endpoint)\n",
        "\n",
        "url <- \"https://www.eustat.eus/bankupx/api/v1/eu/DB/PX_170112_cpib_pib01d.px\"\n",
        "\n",
        "# Eskaeraren edukia: filtrorik gabe (taula osoa). Emaitza JSON-stat v.1.2 formatuan lortzen da, besterik esaten ez bada\n",
        "kontsulta <- '{\"query\":[]}'\n",
        "\n",
        "d.tmp <- POST(url , body = kontsulta, encode = \"json\", verbose())\n",
        "taula <- fromJSONstat(content(d.tmp, \"text\"), naming = \"label\", use_factors = FALSE, silent = FALSE)\n",
        "BPG <- taula[[1]]\n",
        "head(BPG)"
      ]
    },
    {
      "cell_type": "markdown",
      "id": "5f243b3f",
      "metadata": {
        "id": "5f243b3f"
      },
      "source": [
        "**Taula bateko datuak eskatu, kodeekin**\n",
        "\n",
        "Baliteke datu horiek aldagaien kodeekin eskuratu nahi izatea, eta ez etiketa deskribatzaileekin edo literalekin. Kasu horretan, izenak kode gisa `(naming = \"id\")` jeisteko eskatuko dugu, eta ez testu gisa `(naming = \"label\")`."
      ]
    },
    {
      "cell_type": "code",
      "execution_count": 21,
      "id": "6d7c07b9",
      "metadata": {
        "colab": {
          "base_uri": "https://localhost:8080/",
          "height": 286
        },
        "id": "6d7c07b9",
        "outputId": "bbf6dbf2-3ecb-4735-d4c1-42913c9aa938"
      },
      "outputs": [
        {
          "output_type": "display_data",
          "data": {
            "text/html": [
              "<table class=\"dataframe\">\n",
              "<caption>A data.frame: 6 × 6</caption>\n",
              "<thead>\n",
              "\t<tr><th></th><th scope=col>territorio histórico</th><th scope=col>sector</th><th scope=col>tipo de dato</th><th scope=col>tipo de medida</th><th scope=col>periodo</th><th scope=col>value</th></tr>\n",
              "\t<tr><th></th><th scope=col>&lt;chr&gt;</th><th scope=col>&lt;chr&gt;</th><th scope=col>&lt;chr&gt;</th><th scope=col>&lt;chr&gt;</th><th scope=col>&lt;chr&gt;</th><th scope=col>&lt;dbl&gt;</th></tr>\n",
              "</thead>\n",
              "<tbody>\n",
              "\t<tr><th scope=row>1</th><td>00</td><td>01</td><td>10</td><td>10</td><td>1995</td><td>449513</td></tr>\n",
              "\t<tr><th scope=row>2</th><td>00</td><td>01</td><td>10</td><td>10</td><td>1996</td><td>439283</td></tr>\n",
              "\t<tr><th scope=row>3</th><td>00</td><td>01</td><td>10</td><td>10</td><td>1997</td><td>466735</td></tr>\n",
              "\t<tr><th scope=row>4</th><td>00</td><td>01</td><td>10</td><td>10</td><td>1998</td><td>564307</td></tr>\n",
              "\t<tr><th scope=row>5</th><td>00</td><td>01</td><td>10</td><td>10</td><td>1999</td><td>605399</td></tr>\n",
              "\t<tr><th scope=row>6</th><td>00</td><td>01</td><td>10</td><td>10</td><td>2000</td><td>514139</td></tr>\n",
              "</tbody>\n",
              "</table>\n"
            ],
            "text/markdown": "\nA data.frame: 6 × 6\n\n| <!--/--> | territorio histórico &lt;chr&gt; | sector &lt;chr&gt; | tipo de dato &lt;chr&gt; | tipo de medida &lt;chr&gt; | periodo &lt;chr&gt; | value &lt;dbl&gt; |\n|---|---|---|---|---|---|---|\n| 1 | 00 | 01 | 10 | 10 | 1995 | 449513 |\n| 2 | 00 | 01 | 10 | 10 | 1996 | 439283 |\n| 3 | 00 | 01 | 10 | 10 | 1997 | 466735 |\n| 4 | 00 | 01 | 10 | 10 | 1998 | 564307 |\n| 5 | 00 | 01 | 10 | 10 | 1999 | 605399 |\n| 6 | 00 | 01 | 10 | 10 | 2000 | 514139 |\n\n",
            "text/latex": "A data.frame: 6 × 6\n\\begin{tabular}{r|llllll}\n  & territorio histórico & sector & tipo de dato & tipo de medida & periodo & value\\\\\n  & <chr> & <chr> & <chr> & <chr> & <chr> & <dbl>\\\\\n\\hline\n\t1 & 00 & 01 & 10 & 10 & 1995 & 449513\\\\\n\t2 & 00 & 01 & 10 & 10 & 1996 & 439283\\\\\n\t3 & 00 & 01 & 10 & 10 & 1997 & 466735\\\\\n\t4 & 00 & 01 & 10 & 10 & 1998 & 564307\\\\\n\t5 & 00 & 01 & 10 & 10 & 1999 & 605399\\\\\n\t6 & 00 & 01 & 10 & 10 & 2000 & 514139\\\\\n\\end{tabular}\n",
            "text/plain": [
              "  territorio histórico sector tipo de dato tipo de medida periodo value \n",
              "1 00                   01     10           10             1995    449513\n",
              "2 00                   01     10           10             1996    439283\n",
              "3 00                   01     10           10             1997    466735\n",
              "4 00                   01     10           10             1998    564307\n",
              "5 00                   01     10           10             1999    605399\n",
              "6 00                   01     10           10             2000    514139"
            ]
          },
          "metadata": {}
        }
      ],
      "source": [
        "taula<- fromJSONstat(content(d.tmp, \"text\"), naming = \"id\", use_factors = FALSE, silent = FALSE)\n",
        "BPG_kodeekin <- taula[[1]]  # Taularen aurrenengo zerrenda bakarrik interesatzen zaigu\n",
        "head(BPG_kodeekin)"
      ]
    },
    {
      "cell_type": "markdown",
      "id": "db8e2236",
      "metadata": {
        "id": "db8e2236"
      },
      "source": [
        "**Taula bateko datuen selekzio bat eskuratu**\n",
        "\n",
        "Datu gehiegi eskatzea, gero erdia bota behar izateko, espazioa eta baliabideak alferrik galtzea da. Horregatik, taularen datuen parte bat bakarrik interesatzen zaigunean, eta ez taularen eduki osoa, kontsulta bat egin behar dugu intereseko aldagaiak eta balioak hautatuta.\n",
        "\n",
        "\n",
        "Kontsulta definitzeko, aldagaien izena/kodea eta balioak ezagutu behar dira. Aurreko puntuan ikusi dugu nola lortu taula baten metadatuak.\n",
        "\n",
        "\n",
        "Baina urrats hori errazteko, Eustaten webguneak berak aldagaiak eta balioak hautatzeko interfaze bat du taula bakoitzarentzat. Interfaze horretan, erraz aukeratu ahal izango ditugu interesatzen zaizkigun datuak, eta JSON formatuko kontsulta lortu.\n",
        "\n",
        "Adibidez, sexuaren araberako langabezia-tasaren datuak nahi izanez gero, datu bankuko taula honetako aldagaiak hautatzen diren orrira joango ginateke:\n",
        "\n",
        "<https://www.eustat.eus/bankupx/pxweb/eu/DB/-/PX_050403_cpra_tab01.px>\n",
        "\n",
        "Eta interesatzen zaigun hautaketa egingo dugu: Euskal AEko langabezia-tasaren datuak, 2 sexuak (eta guztizkoa) eta azken 3 urteetako hiruhilekoko datuak hautatuko ditugu.\n",
        "\n",
        "***Hautaketaren adibidea***\n",
        "\n",
        "![](https://raw.githubusercontent.com/uxue-sudupe/API-Eustat/main/img/Langabezia_aukeraketa.png){width=\"600\"}\n",
        "\n",
        "Aukeraketa egin ondoren, `\"Jarraitu\"` eta `\"Taula hau eskuragarri egin zure aplikazioan\"` sakatuko dugu. Atal honetan, eskaera egin behar zaion URLa eta json kontsulta agertuko dira. Kontsulta hori gure kodean sartuko dugu.\n",
        "\n",
        "***Kontsultaren adibidea***\n",
        "\n",
        "![](https://raw.githubusercontent.com/uxue-sudupe/API-Eustat/main/img/Langabezia_kontsulta.png){width=\"600\"}"
      ]
    },
    {
      "cell_type": "code",
      "execution_count": 22,
      "id": "13725915",
      "metadata": {
        "colab": {
          "base_uri": "https://localhost:8080/",
          "height": 304
        },
        "id": "13725915",
        "outputId": "a79eff4d-3dc5-4ba5-d524-2709ce7befde"
      },
      "outputs": [
        {
          "output_type": "stream",
          "name": "stdout",
          "text": [
            "\n"
          ]
        },
        {
          "output_type": "display_data",
          "data": {
            "text/html": [
              "<table class=\"dataframe\">\n",
              "<caption>A data.frame: 6 × 6</caption>\n",
              "<thead>\n",
              "\t<tr><th></th><th scope=col>tasa (%)</th><th scope=col>lurralde historikoa</th><th scope=col>sexua</th><th scope=col>hiruhilekoa</th><th scope=col>aldia</th><th scope=col>value</th></tr>\n",
              "\t<tr><th></th><th scope=col>&lt;chr&gt;</th><th scope=col>&lt;chr&gt;</th><th scope=col>&lt;chr&gt;</th><th scope=col>&lt;chr&gt;</th><th scope=col>&lt;chr&gt;</th><th scope=col>&lt;dbl&gt;</th></tr>\n",
              "</thead>\n",
              "<tbody>\n",
              "\t<tr><th scope=row>1</th><td>Langabezi tasa</td><td>Euskal AE</td><td>Guztira</td><td>1. Hiruhilekoa</td><td>2023</td><td>8.9</td></tr>\n",
              "\t<tr><th scope=row>2</th><td>Langabezi tasa</td><td>Euskal AE</td><td>Guztira</td><td>1. Hiruhilekoa</td><td>2024</td><td>7.9</td></tr>\n",
              "\t<tr><th scope=row>3</th><td>Langabezi tasa</td><td>Euskal AE</td><td>Guztira</td><td>1. Hiruhilekoa</td><td>2025</td><td>7.0</td></tr>\n",
              "\t<tr><th scope=row>4</th><td>Langabezi tasa</td><td>Euskal AE</td><td>Guztira</td><td>2. Hiruhilekoa</td><td>2023</td><td>7.6</td></tr>\n",
              "\t<tr><th scope=row>5</th><td>Langabezi tasa</td><td>Euskal AE</td><td>Guztira</td><td>2. Hiruhilekoa</td><td>2024</td><td>7.5</td></tr>\n",
              "\t<tr><th scope=row>6</th><td>Langabezi tasa</td><td>Euskal AE</td><td>Guztira</td><td>2. Hiruhilekoa</td><td>2025</td><td> NA</td></tr>\n",
              "</tbody>\n",
              "</table>\n"
            ],
            "text/markdown": "\nA data.frame: 6 × 6\n\n| <!--/--> | tasa (%) &lt;chr&gt; | lurralde historikoa &lt;chr&gt; | sexua &lt;chr&gt; | hiruhilekoa &lt;chr&gt; | aldia &lt;chr&gt; | value &lt;dbl&gt; |\n|---|---|---|---|---|---|---|\n| 1 | Langabezi tasa | Euskal AE | Guztira | 1. Hiruhilekoa | 2023 | 8.9 |\n| 2 | Langabezi tasa | Euskal AE | Guztira | 1. Hiruhilekoa | 2024 | 7.9 |\n| 3 | Langabezi tasa | Euskal AE | Guztira | 1. Hiruhilekoa | 2025 | 7.0 |\n| 4 | Langabezi tasa | Euskal AE | Guztira | 2. Hiruhilekoa | 2023 | 7.6 |\n| 5 | Langabezi tasa | Euskal AE | Guztira | 2. Hiruhilekoa | 2024 | 7.5 |\n| 6 | Langabezi tasa | Euskal AE | Guztira | 2. Hiruhilekoa | 2025 |  NA |\n\n",
            "text/latex": "A data.frame: 6 × 6\n\\begin{tabular}{r|llllll}\n  & tasa (\\%) & lurralde historikoa & sexua & hiruhilekoa & aldia & value\\\\\n  & <chr> & <chr> & <chr> & <chr> & <chr> & <dbl>\\\\\n\\hline\n\t1 & Langabezi tasa & Euskal AE & Guztira & 1. Hiruhilekoa & 2023 & 8.9\\\\\n\t2 & Langabezi tasa & Euskal AE & Guztira & 1. Hiruhilekoa & 2024 & 7.9\\\\\n\t3 & Langabezi tasa & Euskal AE & Guztira & 1. Hiruhilekoa & 2025 & 7.0\\\\\n\t4 & Langabezi tasa & Euskal AE & Guztira & 2. Hiruhilekoa & 2023 & 7.6\\\\\n\t5 & Langabezi tasa & Euskal AE & Guztira & 2. Hiruhilekoa & 2024 & 7.5\\\\\n\t6 & Langabezi tasa & Euskal AE & Guztira & 2. Hiruhilekoa & 2025 &  NA\\\\\n\\end{tabular}\n",
            "text/plain": [
              "  tasa (%)       lurralde historikoa sexua   hiruhilekoa    aldia value\n",
              "1 Langabezi tasa Euskal AE           Guztira 1. Hiruhilekoa 2023  8.9  \n",
              "2 Langabezi tasa Euskal AE           Guztira 1. Hiruhilekoa 2024  7.9  \n",
              "3 Langabezi tasa Euskal AE           Guztira 1. Hiruhilekoa 2025  7.0  \n",
              "4 Langabezi tasa Euskal AE           Guztira 2. Hiruhilekoa 2023  7.6  \n",
              "5 Langabezi tasa Euskal AE           Guztira 2. Hiruhilekoa 2024  7.5  \n",
              "6 Langabezi tasa Euskal AE           Guztira 2. Hiruhilekoa 2025   NA  "
            ]
          },
          "metadata": {}
        }
      ],
      "source": [
        "url <- \"https://www.eustat.eus/bankupx/api/v1/eu/DB/PX_050403_cpra_tab01.px\"\n",
        "consulta <- '{\"query\": [{\"code\": \"tasa (%)\",\"selection\": {\"filter\": \"item\", \"values\": [\"30\"] }},\n",
        "        {\"code\": \"territorio histórico\",\"selection\": {\"filter\": \"item\", \"values\": [ \"00\"]}},\n",
        "        {\"code\": \"trimestre\",\"selection\": {\"filter\": \"item\",\"values\": [\"20\", \"30\", \"40\",\"50\" ]}},\n",
        "        {\"code\": \"periodo\",\"selection\": {\"filter\": \"item\",\"values\": [\"2023\", \"2024\",\"2025\" ]}}],\n",
        "         \"response\": {\"format\": \"json-stat\"}} '\n",
        "\n",
        "d.tmp <- POST(url , body = consulta, encode = \"json\", verbose())\n",
        "taula <- fromJSONstat(content(d.tmp, \"text\"), naming = \"label\", use_factors = FALSE, silent = FALSE)\n",
        "Langabezia <- taula[[1]]\n",
        "head(Langabezia)"
      ]
    },
    {
      "cell_type": "markdown",
      "id": "32d7779d",
      "metadata": {
        "id": "32d7779d"
      },
      "source": [
        "**Aldaketak kontsultan**\n",
        "\n",
        "`Filter: item` egiten denean aldagai baten gainean, filtratu nahi diren balioak hautatzen dira (bat edo gehiago).\n",
        "\n",
        "Balio guztiak hautatzen badira, ez da aldagai horren gainean filtratzen, eta ez da kontsultan agertuko. Efektu bera du \"lurralde historikoa\" aldagaiaren kode-lerroarekin orain egingo dugun bezala `{\"code\":\"variable\"....}` kodearekin hasten den lerroa ezabatzeak ere.\n",
        "\n",
        "`Top` filtroa ere erabil dezakegu, aldagaiaren azken balioak bakarrik hautatzeko. Top filtroa batez ere \"aldia\", \"urtea\" edo antzeko aldagaiekin erabiltzen da."
      ]
    },
    {
      "cell_type": "code",
      "execution_count": 23,
      "id": "2d594dae",
      "metadata": {
        "colab": {
          "base_uri": "https://localhost:8080/",
          "height": 304
        },
        "id": "2d594dae",
        "outputId": "740c4c08-ce11-47c4-e4b2-bfd4419ae52c"
      },
      "outputs": [
        {
          "output_type": "stream",
          "name": "stdout",
          "text": [
            "\n"
          ]
        },
        {
          "output_type": "display_data",
          "data": {
            "text/html": [
              "<table class=\"dataframe\">\n",
              "<caption>A data.frame: 6 × 6</caption>\n",
              "<thead>\n",
              "\t<tr><th></th><th scope=col>tasa (%)</th><th scope=col>lurralde historikoa</th><th scope=col>sexua</th><th scope=col>hiruhilekoa</th><th scope=col>aldia</th><th scope=col>value</th></tr>\n",
              "\t<tr><th></th><th scope=col>&lt;chr&gt;</th><th scope=col>&lt;chr&gt;</th><th scope=col>&lt;chr&gt;</th><th scope=col>&lt;chr&gt;</th><th scope=col>&lt;chr&gt;</th><th scope=col>&lt;dbl&gt;</th></tr>\n",
              "</thead>\n",
              "<tbody>\n",
              "\t<tr><th scope=row>1</th><td>Langabezi tasa</td><td>Euskal AE</td><td>Guztira</td><td>1. Hiruhilekoa</td><td>2024</td><td>7.9</td></tr>\n",
              "\t<tr><th scope=row>2</th><td>Langabezi tasa</td><td>Euskal AE</td><td>Guztira</td><td>1. Hiruhilekoa</td><td>2025</td><td>7.0</td></tr>\n",
              "\t<tr><th scope=row>3</th><td>Langabezi tasa</td><td>Euskal AE</td><td>Guztira</td><td>2. Hiruhilekoa</td><td>2024</td><td>7.5</td></tr>\n",
              "\t<tr><th scope=row>4</th><td>Langabezi tasa</td><td>Euskal AE</td><td>Guztira</td><td>2. Hiruhilekoa</td><td>2025</td><td> NA</td></tr>\n",
              "\t<tr><th scope=row>5</th><td>Langabezi tasa</td><td>Euskal AE</td><td>Guztira</td><td>3. Hiruhilekoa</td><td>2024</td><td>7.2</td></tr>\n",
              "\t<tr><th scope=row>6</th><td>Langabezi tasa</td><td>Euskal AE</td><td>Guztira</td><td>3. Hiruhilekoa</td><td>2025</td><td> NA</td></tr>\n",
              "</tbody>\n",
              "</table>\n"
            ],
            "text/markdown": "\nA data.frame: 6 × 6\n\n| <!--/--> | tasa (%) &lt;chr&gt; | lurralde historikoa &lt;chr&gt; | sexua &lt;chr&gt; | hiruhilekoa &lt;chr&gt; | aldia &lt;chr&gt; | value &lt;dbl&gt; |\n|---|---|---|---|---|---|---|\n| 1 | Langabezi tasa | Euskal AE | Guztira | 1. Hiruhilekoa | 2024 | 7.9 |\n| 2 | Langabezi tasa | Euskal AE | Guztira | 1. Hiruhilekoa | 2025 | 7.0 |\n| 3 | Langabezi tasa | Euskal AE | Guztira | 2. Hiruhilekoa | 2024 | 7.5 |\n| 4 | Langabezi tasa | Euskal AE | Guztira | 2. Hiruhilekoa | 2025 |  NA |\n| 5 | Langabezi tasa | Euskal AE | Guztira | 3. Hiruhilekoa | 2024 | 7.2 |\n| 6 | Langabezi tasa | Euskal AE | Guztira | 3. Hiruhilekoa | 2025 |  NA |\n\n",
            "text/latex": "A data.frame: 6 × 6\n\\begin{tabular}{r|llllll}\n  & tasa (\\%) & lurralde historikoa & sexua & hiruhilekoa & aldia & value\\\\\n  & <chr> & <chr> & <chr> & <chr> & <chr> & <dbl>\\\\\n\\hline\n\t1 & Langabezi tasa & Euskal AE & Guztira & 1. Hiruhilekoa & 2024 & 7.9\\\\\n\t2 & Langabezi tasa & Euskal AE & Guztira & 1. Hiruhilekoa & 2025 & 7.0\\\\\n\t3 & Langabezi tasa & Euskal AE & Guztira & 2. Hiruhilekoa & 2024 & 7.5\\\\\n\t4 & Langabezi tasa & Euskal AE & Guztira & 2. Hiruhilekoa & 2025 &  NA\\\\\n\t5 & Langabezi tasa & Euskal AE & Guztira & 3. Hiruhilekoa & 2024 & 7.2\\\\\n\t6 & Langabezi tasa & Euskal AE & Guztira & 3. Hiruhilekoa & 2025 &  NA\\\\\n\\end{tabular}\n",
            "text/plain": [
              "  tasa (%)       lurralde historikoa sexua   hiruhilekoa    aldia value\n",
              "1 Langabezi tasa Euskal AE           Guztira 1. Hiruhilekoa 2024  7.9  \n",
              "2 Langabezi tasa Euskal AE           Guztira 1. Hiruhilekoa 2025  7.0  \n",
              "3 Langabezi tasa Euskal AE           Guztira 2. Hiruhilekoa 2024  7.5  \n",
              "4 Langabezi tasa Euskal AE           Guztira 2. Hiruhilekoa 2025   NA  \n",
              "5 Langabezi tasa Euskal AE           Guztira 3. Hiruhilekoa 2024  7.2  \n",
              "6 Langabezi tasa Euskal AE           Guztira 3. Hiruhilekoa 2025   NA  "
            ]
          },
          "metadata": {}
        }
      ],
      "source": [
        "\n",
        "url = \"https://www.eustat.eus/bankupx/api/v1/eu/DB/PX_050403_cpra_tab01.px\"\n",
        "\n",
        "kontsulta = '{\"query\": [{\"code\": \"tasa (%)\",\"selection\": {\"filter\": \"item\", \"values\": [\"30\"] }},\n",
        "        {\"code\": \"trimestre\",\"selection\": {\"filter\": \"item\",\"values\": [\"20\", \"30\", \"40\",\"50\" ]}},\n",
        "        {\"code\": \"periodo\",\"selection\": {\"filter\": \"top\",\"values\": [\"2\"]}}],\n",
        "         \"response\": {\"format\": \"json-stat\"}}'\n",
        "\n",
        "d.tmp <- POST(url , body = kontsulta, encode = \"json\", verbose())\n",
        "taula <- fromJSONstat(content(d.tmp, \"text\"), naming = \"label\", use_factors = FALSE, silent = FALSE)\n",
        "Langabezia <- taula[[1]]\n",
        "head(Langabezia)\n"
      ]
    },
    {
      "cell_type": "markdown",
      "id": "af44157e",
      "metadata": {
        "id": "af44157e"
      },
      "source": [
        "# **Irteerako beste formatu batzuk**\n",
        "\n",
        "Tauletako datuetarako irteera lehenetsia JSON-stat da (1.2 bertsioa). JSON formatua da ohikoena APIetan, datuen tratamendu malgua ahalbidetzen duelako, script-etan (R, Python, etab.) automatikoki prozesatzeko egokia delako, eta CSV bezalako artxibo lauetan aurkez daitezkeen anbiguotasunak saihesten dituelako.\n",
        "\n",
        "APIari eskatutako datuak CSV eta excel formatuetan ere deskarga daitezke. Irteera horiek egokiagoak izan daitezke erabiltzaile ez hain teknikoentzat, sarrera gisa csv edo excel behar diren prozesuentzat (csv/excel bidez dashboard-ak sortzeko adibidez) edo helburua analisia ez denean, baizik eta APIak ematen dituen datuen deskarga erraztea publikoari.\n",
        "\n",
        "Jarraian csv (3 mota) eta excel irteerak nola eskatu eta zein itxura duten azaltzen da. Irteera bakoitzaren kopia bat gordetzen da."
      ]
    },
    {
      "cell_type": "code",
      "execution_count": 24,
      "id": "02680acd",
      "metadata": {
        "id": "02680acd"
      },
      "outputs": [],
      "source": [
        "# Irteera CSV - testu laua\n",
        "\n",
        "url <- \"https://www.eustat.eus/bankupx/api/v1/eu/DB/PX_010901_cecv_ni11_1.px\"\n",
        "kontsulta <- '{\"query\": [], \"response\": {\"format\": \"csv\"}}'\n",
        "\n",
        "erantzuna_csv <- POST(url, body = kontsulta)\n",
        "writeBin(content(erantzuna_csv, \"raw\"), \"ama_hizkuntza.csv\")\n"
      ]
    },
    {
      "cell_type": "code",
      "execution_count": 25,
      "id": "d3b21fc8",
      "metadata": {
        "id": "d3b21fc8"
      },
      "outputs": [],
      "source": [
        "#  CSV2 moduko irteera - \"pivot-friendly\" formatua, taula dinamikoentzat egokia\n",
        "\n",
        "url <- \"https://www.eustat.eus/bankupx/api/v1/eu/DB/PX_010901_cecv_ni11_1.px\"\n",
        "kontsulta <- '{\"query\": [], \"response\": {\"format\": \"csv2\"}}'\n",
        "\n",
        "erantzuna_csv2 <- POST(url, body = kontsulta, encode = \"raw\", content_type_json())\n",
        "\n",
        "writeBin(content(erantzuna_csv2, \"raw\"), \"ama_hizkuntza_csv2.csv\")\n"
      ]
    },
    {
      "cell_type": "code",
      "execution_count": 26,
      "id": "455f57d2",
      "metadata": {
        "id": "455f57d2"
      },
      "outputs": [],
      "source": [
        "# CSV3 moduko irteera - CSV2 bezala, baina kodeekin testua izan beharrean\n",
        "\n",
        "url <- \"https://www.eustat.eus/bankupx/api/v1/eu/DB/PX_010901_cecv_ni11_1.px\"\n",
        "kontsulta <- '{\"query\": [], \"response\": {\"format\": \"csv3\"}}'\n",
        "\n",
        "erantzuna_csv3 <- POST(url, body = kontsulta, encode = \"raw\", content_type_json())\n",
        "\n",
        "writeBin(content(erantzuna_csv3, \"raw\"), \"ama_hizkuntza_csv3.csv\")\n"
      ]
    },
    {
      "cell_type": "code",
      "execution_count": 27,
      "id": "442d0ce9",
      "metadata": {
        "id": "442d0ce9"
      },
      "outputs": [],
      "source": [
        "# Excel irteera\n",
        "\n",
        "url <- \"https://www.eustat.eus/bankupx/api/v1/eu/DB/PX_010901_cecv_ni11_1.px\"\n",
        "kontsulta <- '{\"query\": [], \"response\": {\"format\": \"xlsx\"}}'\n",
        "\n",
        "erantzuna_xlsx <- POST(url, body = kontsulta, encode = \"raw\", content_type_json())\n",
        "\n",
        "writeBin(content(erantzuna_xlsx, \"raw\"), \"ama_hizkuntza.xlsx\")\n"
      ]
    }
  ],
  "metadata": {
    "jupytext": {
      "cell_metadata_filter": "message,warning,name,-all",
      "main_language": "R",
      "notebook_metadata_filter": "-all"
    },
    "colab": {
      "provenance": []
    },
    "language_info": {
      "name": "R"
    },
    "kernelspec": {
      "name": "ir",
      "display_name": "R"
    }
  },
  "nbformat": 4,
  "nbformat_minor": 5
}