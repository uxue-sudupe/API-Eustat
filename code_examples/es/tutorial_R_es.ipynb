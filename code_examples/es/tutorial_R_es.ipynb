{
  "cells": [
    {
      "cell_type": "markdown",
      "source": [
        "[![Abrir con Colab](https://colab.research.google.com/assets/colab-badge.svg)](https://colab.research.google.com/github/uxue-sudupe/API-Eustat/blob/main/code_examples/es/tutorial_R_es.ipynb)"
      ],
      "metadata": {
        "id": "xLD005_zViuc"
      },
      "id": "xLD005_zViuc"
    },
    {
      "cell_type": "markdown",
      "id": "403ca74a",
      "metadata": {
        "id": "403ca74a"
      },
      "source": [
        "# **Tutorial de la API de Eustat con R**\n",
        "\n",
        "El [banco de datos de Eustat](https://www.eustat.eus/banku/indexArbol.html) contiene una gran cantidad de datos sobre la sociedad, la economía y la población de la Comunidad Autónoma de Euskadi.\n",
        "\n",
        "Los datos son públicos y accesibles por distintos medios, entre ellos la API, [documentada aquí](https://github.com/uxue-sudupe/API-Eustat/blob/main/README.md). La API facilita enormemente el acceso y la reutilización de los datos. Sin embargo, a menos que se tenga experiencia previa en el acceso a API, su uso puede resultar complejo para un investigador, analista o estudiante.\n",
        "\n",
        "Este tutorial ofrece una guía rápida sobre cómo acceder a los datos de Eustat a través de su API y descargar su contenido en formato JSON (JavaScript Object Notation) u otro formato permitido. Se muestran ejemplos de cómo descargar los datos y su posterior procesado para obtener datasets que pueden ser tratados con R.\n",
        "\n",
        "Es necesario utilizar algunos paquetes muy extendidos como `dplyr` o `httr`, y el paquete `rjstat`, específico para tratar con R datos en formato json-stat."
      ]
    },
    {
      "cell_type": "code",
      "execution_count": 15,
      "id": "1f93272b",
      "metadata": {
        "message": false,
        "name": "setup",
        "warning": false,
        "id": "1f93272b"
      },
      "outputs": [],
      "source": [
        "install.packages(c(\"httr\", \"jsonlite\", \"tidyr\", \"dplyr\", \"rjstat\"), quiet = TRUE)\n",
        "\n",
        "library(httr)\n",
        "library(jsonlite)\n",
        "library(tidyr)\n",
        "library(dplyr)\n",
        "library(rjstat)"
      ]
    },
    {
      "cell_type": "markdown",
      "id": "23ca8e21",
      "metadata": {
        "id": "23ca8e21"
      },
      "source": [
        "# **1. Obtener el Catálogo de datos Eustat (listado de tablas)**\n",
        "\n",
        "Es posible acceder al listado completo de los conjuntos de datos publicados por Eustat, con detalle de código identificador, título y fecha de última actualización.\n",
        "\n",
        "Las tablas son las que se encuentran en el banco de datos de Eustat: <https://www.eustat.eus/banku/indexArbol.html>\n",
        "\n",
        "Una llamada a la API se compone de una dirección web principal, una llamada a una función y un conjunto de parámetros. La dirección web principal del banco de datos es\n",
        "\n",
        "`https://www.eustat.eus/bankupx/api/v1/[lang]/DB`\n",
        "\n",
        "En este caso, la llamada a la API se hace con la función `GET`. El único parámetro necesario para obtener el catálogo, es el idioma `(lang)`. La respuesta se recibe en formato JSON."
      ]
    },
    {
      "cell_type": "code",
      "execution_count": 16,
      "id": "2ef92c76",
      "metadata": {
        "colab": {
          "base_uri": "https://localhost:8080/",
          "height": 390
        },
        "id": "2ef92c76",
        "outputId": "e4588de3-71c0-4909-de99-7d344dd0e4c5"
      },
      "outputs": [
        {
          "output_type": "display_data",
          "data": {
            "text/html": [
              "<table class=\"dataframe\">\n",
              "<caption>A data.frame: 6 × 4</caption>\n",
              "<thead>\n",
              "\t<tr><th></th><th scope=col>id</th><th scope=col>type</th><th scope=col>text</th><th scope=col>updated</th></tr>\n",
              "\t<tr><th></th><th scope=col>&lt;chr&gt;</th><th scope=col>&lt;chr&gt;</th><th scope=col>&lt;chr&gt;</th><th scope=col>&lt;chr&gt;</th></tr>\n",
              "</thead>\n",
              "<tbody>\n",
              "\t<tr><th scope=row>1</th><td>PX__fe_inem06.px     </td><td>t</td><td>Paro registrado de la C.A. de Euskadi por ámbitos territoriales y sexo. 1997 - 2022                                               </td><td>2023-01-09T15:04:41</td></tr>\n",
              "\t<tr><th scope=row>2</th><td>PX__feinem_inem06.px </td><td>t</td><td>Paro registrado de la C.A. de Euskadi por ámbitos territoriales y sexo                                                            </td><td>2021-02-17T10:04:22</td></tr>\n",
              "\t<tr><th scope=row>3</th><td>PX__fepycl_pc02cm.px </td><td>t</td><td>Índice general de precios al consumo (IPC) por Territorio Histórico de la C.A. de Euskadi por índice y mes. Base 2016 (desde 2002)</td><td>2021-02-16T11:15:00</td></tr>\n",
              "\t<tr><th scope=row>4</th><td>PX_0_fe_pc02cm.px    </td><td>t</td><td>Índice general de precios al consumo (IPC) por Territorio Histórico de la C.A. de Euskadi por índice y mes. Base 2016 (desde 2002)</td><td>2022-02-15T10:31:14</td></tr>\n",
              "\t<tr><th scope=row>5</th><td>PX_0_fe_pc02m.px     </td><td>t</td><td>Índice general de precios al consumo (IPC) de la C.A. de Euskadi y del Estado por índice y mes. Base 2016 (desde 2002)            </td><td>2022-02-15T10:31:14</td></tr>\n",
              "\t<tr><th scope=row>6</th><td>PX_0_fepycl_pc02cm.px</td><td>t</td><td>Índice general de precios al consumo (IPC) por Territorio Histórico de la C.A. de Euskadi por índice y mes. Base 2016 (desde 2002)</td><td>2021-09-14T08:41:11</td></tr>\n",
              "</tbody>\n",
              "</table>\n"
            ],
            "text/markdown": "\nA data.frame: 6 × 4\n\n| <!--/--> | id &lt;chr&gt; | type &lt;chr&gt; | text &lt;chr&gt; | updated &lt;chr&gt; |\n|---|---|---|---|---|\n| 1 | PX__fe_inem06.px      | t | Paro registrado de la C.A. de Euskadi por ámbitos territoriales y sexo. 1997 - 2022                                                | 2023-01-09T15:04:41 |\n| 2 | PX__feinem_inem06.px  | t | Paro registrado de la C.A. de Euskadi por ámbitos territoriales y sexo                                                             | 2021-02-17T10:04:22 |\n| 3 | PX__fepycl_pc02cm.px  | t | Índice general de precios al consumo (IPC) por Territorio Histórico de la C.A. de Euskadi por índice y mes. Base 2016 (desde 2002) | 2021-02-16T11:15:00 |\n| 4 | PX_0_fe_pc02cm.px     | t | Índice general de precios al consumo (IPC) por Territorio Histórico de la C.A. de Euskadi por índice y mes. Base 2016 (desde 2002) | 2022-02-15T10:31:14 |\n| 5 | PX_0_fe_pc02m.px      | t | Índice general de precios al consumo (IPC) de la C.A. de Euskadi y del Estado por índice y mes. Base 2016 (desde 2002)             | 2022-02-15T10:31:14 |\n| 6 | PX_0_fepycl_pc02cm.px | t | Índice general de precios al consumo (IPC) por Territorio Histórico de la C.A. de Euskadi por índice y mes. Base 2016 (desde 2002) | 2021-09-14T08:41:11 |\n\n",
            "text/latex": "A data.frame: 6 × 4\n\\begin{tabular}{r|llll}\n  & id & type & text & updated\\\\\n  & <chr> & <chr> & <chr> & <chr>\\\\\n\\hline\n\t1 & PX\\_\\_fe\\_inem06.px      & t & Paro registrado de la C.A. de Euskadi por ámbitos territoriales y sexo. 1997 - 2022                                                & 2023-01-09T15:04:41\\\\\n\t2 & PX\\_\\_feinem\\_inem06.px  & t & Paro registrado de la C.A. de Euskadi por ámbitos territoriales y sexo                                                             & 2021-02-17T10:04:22\\\\\n\t3 & PX\\_\\_fepycl\\_pc02cm.px  & t & Índice general de precios al consumo (IPC) por Territorio Histórico de la C.A. de Euskadi por índice y mes. Base 2016 (desde 2002) & 2021-02-16T11:15:00\\\\\n\t4 & PX\\_0\\_fe\\_pc02cm.px     & t & Índice general de precios al consumo (IPC) por Territorio Histórico de la C.A. de Euskadi por índice y mes. Base 2016 (desde 2002) & 2022-02-15T10:31:14\\\\\n\t5 & PX\\_0\\_fe\\_pc02m.px      & t & Índice general de precios al consumo (IPC) de la C.A. de Euskadi y del Estado por índice y mes. Base 2016 (desde 2002)             & 2022-02-15T10:31:14\\\\\n\t6 & PX\\_0\\_fepycl\\_pc02cm.px & t & Índice general de precios al consumo (IPC) por Territorio Histórico de la C.A. de Euskadi por índice y mes. Base 2016 (desde 2002) & 2021-09-14T08:41:11\\\\\n\\end{tabular}\n",
            "text/plain": [
              "  id                    type\n",
              "1 PX__fe_inem06.px      t   \n",
              "2 PX__feinem_inem06.px  t   \n",
              "3 PX__fepycl_pc02cm.px  t   \n",
              "4 PX_0_fe_pc02cm.px     t   \n",
              "5 PX_0_fe_pc02m.px      t   \n",
              "6 PX_0_fepycl_pc02cm.px t   \n",
              "  text                                                                                                                              \n",
              "1 Paro registrado de la C.A. de Euskadi por ámbitos territoriales y sexo. 1997 - 2022                                               \n",
              "2 Paro registrado de la C.A. de Euskadi por ámbitos territoriales y sexo                                                            \n",
              "3 Índice general de precios al consumo (IPC) por Territorio Histórico de la C.A. de Euskadi por índice y mes. Base 2016 (desde 2002)\n",
              "4 Índice general de precios al consumo (IPC) por Territorio Histórico de la C.A. de Euskadi por índice y mes. Base 2016 (desde 2002)\n",
              "5 Índice general de precios al consumo (IPC) de la C.A. de Euskadi y del Estado por índice y mes. Base 2016 (desde 2002)            \n",
              "6 Índice general de precios al consumo (IPC) por Territorio Histórico de la C.A. de Euskadi por índice y mes. Base 2016 (desde 2002)\n",
              "  updated            \n",
              "1 2023-01-09T15:04:41\n",
              "2 2021-02-17T10:04:22\n",
              "3 2021-02-16T11:15:00\n",
              "4 2022-02-15T10:31:14\n",
              "5 2022-02-15T10:31:14\n",
              "6 2021-09-14T08:41:11"
            ]
          },
          "metadata": {}
        }
      ],
      "source": [
        "\n",
        "# URL del punto de acceso (endpoint) del catálogo de datos de Eustat\n",
        "\n",
        "DB <- GET(\"https://www.eustat.eus/bankupx/api/v1/es/DB\")\n",
        "Catálogo <- fromJSON(rawToChar(DB$content))\n",
        "head(Catálogo)\n"
      ]
    },
    {
      "cell_type": "markdown",
      "id": "aee6cf6d",
      "metadata": {
        "id": "aee6cf6d"
      },
      "source": [
        "**Idiomas**\n",
        "\n",
        "Se pueden obtener los mismos datos en euskera o en inglés. Solo hay que modificar la dirección de la *url* en la parte que contiene el idioma, `www.eustat.eus/bankupx/api/v1/[idioma]/DB`, y reemplazar *es* por *eu* o *en*. Por ejemplo, en euskera sería así:"
      ]
    },
    {
      "cell_type": "code",
      "execution_count": 17,
      "id": "b009ac88",
      "metadata": {
        "colab": {
          "base_uri": "https://localhost:8080/",
          "height": 390
        },
        "id": "b009ac88",
        "outputId": "eb2c6643-ad76-4bb2-e1c3-17858179dff9"
      },
      "outputs": [
        {
          "output_type": "display_data",
          "data": {
            "text/html": [
              "<table class=\"dataframe\">\n",
              "<caption>A data.frame: 6 × 4</caption>\n",
              "<thead>\n",
              "\t<tr><th></th><th scope=col>id</th><th scope=col>type</th><th scope=col>text</th><th scope=col>updated</th></tr>\n",
              "\t<tr><th></th><th scope=col>&lt;chr&gt;</th><th scope=col>&lt;chr&gt;</th><th scope=col>&lt;chr&gt;</th><th scope=col>&lt;chr&gt;</th></tr>\n",
              "</thead>\n",
              "<tbody>\n",
              "\t<tr><th scope=row>1</th><td>PX__fe_inem06.px     </td><td>t</td><td>Euskal AEko erregistratutako langabezia, lurralde eremuaren eta sexuaren arabera. 1997 - 2022                                                        </td><td>2023-01-09T15:04:41</td></tr>\n",
              "\t<tr><th scope=row>2</th><td>PX__feinem_inem06.px </td><td>t</td><td>Euskal AEko erregistratutako langabezia, lurralde eremuaren eta sexuaren arabera                                                                     </td><td>2021-02-17T10:04:22</td></tr>\n",
              "\t<tr><th scope=row>3</th><td>PX__fepycl_pc02cm.px </td><td>t</td><td>Euskal AEko eta Estatuko kontsumorako prezioen indize orokorra (KPI), Lurralde Historikoaren, indizearen eta hilaren arabera. Oinarria 2016 (2002tik)</td><td>2021-02-16T11:15:00</td></tr>\n",
              "\t<tr><th scope=row>4</th><td>PX_0_fe_pc02cm.px    </td><td>t</td><td>Euskal AEko eta Estatuko kontsumorako prezioen indize orokorra (KPI), Lurralde Historikoaren, indizearen eta hilaren arabera. Oinarria 2016 (2002tik)</td><td>2022-02-15T10:31:14</td></tr>\n",
              "\t<tr><th scope=row>5</th><td>PX_0_fe_pc02m.px     </td><td>t</td><td>Euskal AEko eta Estatuko kontsumorako prezioen indize orokorra (KPI), indizearen eta hilaren arabera. Oinarria 2016 (2002tik)                        </td><td>2022-02-15T10:31:14</td></tr>\n",
              "\t<tr><th scope=row>6</th><td>PX_0_fepycl_pc02cm.px</td><td>t</td><td>Euskal AEko eta Estatuko kontsumorako prezioen indize orokorra (KPI), Lurralde Historikoaren, indizearen eta hilaren arabera. Oinarria 2016 (2002tik)</td><td>2021-09-14T08:41:11</td></tr>\n",
              "</tbody>\n",
              "</table>\n"
            ],
            "text/markdown": "\nA data.frame: 6 × 4\n\n| <!--/--> | id &lt;chr&gt; | type &lt;chr&gt; | text &lt;chr&gt; | updated &lt;chr&gt; |\n|---|---|---|---|---|\n| 1 | PX__fe_inem06.px      | t | Euskal AEko erregistratutako langabezia, lurralde eremuaren eta sexuaren arabera. 1997 - 2022                                                         | 2023-01-09T15:04:41 |\n| 2 | PX__feinem_inem06.px  | t | Euskal AEko erregistratutako langabezia, lurralde eremuaren eta sexuaren arabera                                                                      | 2021-02-17T10:04:22 |\n| 3 | PX__fepycl_pc02cm.px  | t | Euskal AEko eta Estatuko kontsumorako prezioen indize orokorra (KPI), Lurralde Historikoaren, indizearen eta hilaren arabera. Oinarria 2016 (2002tik) | 2021-02-16T11:15:00 |\n| 4 | PX_0_fe_pc02cm.px     | t | Euskal AEko eta Estatuko kontsumorako prezioen indize orokorra (KPI), Lurralde Historikoaren, indizearen eta hilaren arabera. Oinarria 2016 (2002tik) | 2022-02-15T10:31:14 |\n| 5 | PX_0_fe_pc02m.px      | t | Euskal AEko eta Estatuko kontsumorako prezioen indize orokorra (KPI), indizearen eta hilaren arabera. Oinarria 2016 (2002tik)                         | 2022-02-15T10:31:14 |\n| 6 | PX_0_fepycl_pc02cm.px | t | Euskal AEko eta Estatuko kontsumorako prezioen indize orokorra (KPI), Lurralde Historikoaren, indizearen eta hilaren arabera. Oinarria 2016 (2002tik) | 2021-09-14T08:41:11 |\n\n",
            "text/latex": "A data.frame: 6 × 4\n\\begin{tabular}{r|llll}\n  & id & type & text & updated\\\\\n  & <chr> & <chr> & <chr> & <chr>\\\\\n\\hline\n\t1 & PX\\_\\_fe\\_inem06.px      & t & Euskal AEko erregistratutako langabezia, lurralde eremuaren eta sexuaren arabera. 1997 - 2022                                                         & 2023-01-09T15:04:41\\\\\n\t2 & PX\\_\\_feinem\\_inem06.px  & t & Euskal AEko erregistratutako langabezia, lurralde eremuaren eta sexuaren arabera                                                                      & 2021-02-17T10:04:22\\\\\n\t3 & PX\\_\\_fepycl\\_pc02cm.px  & t & Euskal AEko eta Estatuko kontsumorako prezioen indize orokorra (KPI), Lurralde Historikoaren, indizearen eta hilaren arabera. Oinarria 2016 (2002tik) & 2021-02-16T11:15:00\\\\\n\t4 & PX\\_0\\_fe\\_pc02cm.px     & t & Euskal AEko eta Estatuko kontsumorako prezioen indize orokorra (KPI), Lurralde Historikoaren, indizearen eta hilaren arabera. Oinarria 2016 (2002tik) & 2022-02-15T10:31:14\\\\\n\t5 & PX\\_0\\_fe\\_pc02m.px      & t & Euskal AEko eta Estatuko kontsumorako prezioen indize orokorra (KPI), indizearen eta hilaren arabera. Oinarria 2016 (2002tik)                         & 2022-02-15T10:31:14\\\\\n\t6 & PX\\_0\\_fepycl\\_pc02cm.px & t & Euskal AEko eta Estatuko kontsumorako prezioen indize orokorra (KPI), Lurralde Historikoaren, indizearen eta hilaren arabera. Oinarria 2016 (2002tik) & 2021-09-14T08:41:11\\\\\n\\end{tabular}\n",
            "text/plain": [
              "  id                    type\n",
              "1 PX__fe_inem06.px      t   \n",
              "2 PX__feinem_inem06.px  t   \n",
              "3 PX__fepycl_pc02cm.px  t   \n",
              "4 PX_0_fe_pc02cm.px     t   \n",
              "5 PX_0_fe_pc02m.px      t   \n",
              "6 PX_0_fepycl_pc02cm.px t   \n",
              "  text                                                                                                                                                 \n",
              "1 Euskal AEko erregistratutako langabezia, lurralde eremuaren eta sexuaren arabera. 1997 - 2022                                                        \n",
              "2 Euskal AEko erregistratutako langabezia, lurralde eremuaren eta sexuaren arabera                                                                     \n",
              "3 Euskal AEko eta Estatuko kontsumorako prezioen indize orokorra (KPI), Lurralde Historikoaren, indizearen eta hilaren arabera. Oinarria 2016 (2002tik)\n",
              "4 Euskal AEko eta Estatuko kontsumorako prezioen indize orokorra (KPI), Lurralde Historikoaren, indizearen eta hilaren arabera. Oinarria 2016 (2002tik)\n",
              "5 Euskal AEko eta Estatuko kontsumorako prezioen indize orokorra (KPI), indizearen eta hilaren arabera. Oinarria 2016 (2002tik)                        \n",
              "6 Euskal AEko eta Estatuko kontsumorako prezioen indize orokorra (KPI), Lurralde Historikoaren, indizearen eta hilaren arabera. Oinarria 2016 (2002tik)\n",
              "  updated            \n",
              "1 2023-01-09T15:04:41\n",
              "2 2021-02-17T10:04:22\n",
              "3 2021-02-16T11:15:00\n",
              "4 2022-02-15T10:31:14\n",
              "5 2022-02-15T10:31:14\n",
              "6 2021-09-14T08:41:11"
            ]
          },
          "metadata": {}
        }
      ],
      "source": [
        "\n",
        "DB <- GET(\"https://www.eustat.eus/bankupx/api/v1/eu/DB\")\n",
        "Katalogoa <- fromJSON(rawToChar(DB$content))\n",
        "head(Katalogoa)\n"
      ]
    },
    {
      "cell_type": "markdown",
      "id": "7303c62c",
      "metadata": {
        "id": "7303c62c"
      },
      "source": [
        "# **2. Obtener los metadatos de una tabla**\n",
        "\n",
        "Los metadatos de una tabla contienen información sobre el título de la tabla, cuáles son las dimensiones/variables de desagregación que aparecen en la tabla y los valores que toman. Los metadatos se guardan como código o como texto descriptivo.\n",
        "\n",
        "Para acceder a los metadatos de una tabla concreta, debemos añadirle a la url del banco de datos el código identificador \"id\" de la tabla de interés. La dirección tendrá este aspecto: `www.eustat.eus/bankupx/api/v1/[lang]/DB/[id]`\n",
        "\n",
        "Accedemos, por ejemplo, a los metadatos de la tabla que contiene los datos de \"Población estimada de la C.A. de Euskadi por territorio histórico, sexo y año de nacimiento\", que se encuentra en esta dirección:\n",
        "\n",
        "<https://www.eustat.eus/bankupx/api/v1/es/DB/PX_010154_cepv1_ep17.px>"
      ]
    },
    {
      "cell_type": "code",
      "execution_count": 18,
      "id": "5a7ba380",
      "metadata": {
        "colab": {
          "base_uri": "https://localhost:8080/",
          "height": 894
        },
        "id": "5a7ba380",
        "outputId": "cded5f33-ea8f-4e22-d55d-56b44acc99a2"
      },
      "outputs": [
        {
          "output_type": "display_data",
          "data": {
            "text/html": [
              "<dl>\n",
              "\t<dt>$title</dt>\n",
              "\t\t<dd>'Población estimada de la C.A. de Euskadi por territorio histórico, sexo y año de nacimiento. 1976/01/01 - 2024/01/01'</dd>\n",
              "\t<dt>$variables</dt>\n",
              "\t\t<dd><table class=\"dataframe\">\n",
              "<caption>A data.frame: 4 × 5</caption>\n",
              "<thead>\n",
              "\t<tr><th></th><th scope=col>code</th><th scope=col>text</th><th scope=col>values</th><th scope=col>valueTexts</th><th scope=col>time</th></tr>\n",
              "\t<tr><th></th><th scope=col>&lt;chr&gt;</th><th scope=col>&lt;chr&gt;</th><th scope=col>&lt;list&gt;</th><th scope=col>&lt;list&gt;</th><th scope=col>&lt;lgl&gt;</th></tr>\n",
              "</thead>\n",
              "<tbody>\n",
              "\t<tr><th scope=row>1</th><td>territorio histórico</td><td>territorio histórico</td><td>00, 01, 48, 20</td><td>C.A. de Euskadi, Araba/Álava    , Bizkaia        , Gipuzkoa       </td><td>  NA</td></tr>\n",
              "\t<tr><th scope=row>2</th><td>sexo                </td><td>sexo                </td><td>10, 20, 30</td><td>Total  , Hombres, Mujeres</td><td>  NA</td></tr>\n",
              "\t<tr><th scope=row>3</th><td><span style=white-space:pre-wrap>año de nacimiento   </span></td><td><span style=white-space:pre-wrap>año de nacimiento   </span></td><td>1000, 1109, 1110, 1120, 5800, 5810, 5820, 5830, 5840, 5850, 5860, 5870, 5880, 5890, 5900, 5910, 5920, 5930, 5940, 5950, 5960, 5970, 5980, 5990, 6000, 6010, 6020, 6030, 6040, 6050, 6060, 6070, 6080, 6090, 6100, 6110, 6120, 6130, 6140, 6150, 6160, 6170, 6180, 6190, 6200, 6210, 6220, 6230, 6240, 6250, 6260, 6270, 6280, 6290, 6300, 6310, 6320, 6330, 6340, 6350, 6360, 6370, 6380, 6390, 6400, 6410, 6420, 6430, 6440, 6450, 6460, 6470, 6480, 6490, 6500, 6510, 6520, 6530, 6540, 6550, 6560, 6570, 6580, 6590, 6600, 6610, 6620, 6630, 6640, 6650, 6660, 6670, 6680, 6690, 6700, 6710, 6720, 6730, 6740, 6750, 6760, 6770, 6780, 6790, 6800, 6810, 6820, 6830, 6840, 6850, 6860, 6870, 6880, 6890, 6900, 6910, 6920, 6930, 6940, 6950, 6960, 6970, 6980, 6990, 7000, 7010, 7020, 7030, 7040, 7050, 7060, 7070, 7080, 7090, 7100, 7110, 7120, 7130, 7140, 7150, 7160, 7170, 7180, 7190, 7200, 7210, 7220, 7230, 7240, 7250</td><td><span style=white-space:pre-wrap>Total  , 2023   , 2022   , 2021   , 2020   , 2019   , 2018   , 2017   , 2016   , 2015   , 2014   , 2013   , 2012   , 2011   , 2010   , 2009   , 2008   , 2007   , 2006   , 2005   , 2004   , 2003   , 2002   , 2001   , 2000   , 1999   , 1998   , 1997   , 1996   , 1995   , 1994   , 1993   , 1992   , 1991   , 1990   , 1989   , 1988   , 1987   , 1986   , 1985   , 1984   , 1983   , 1982   , 1981   , 1980   , 1979   , 1978   , 1977   , 1976   , 1975   , 1974   , 1973   , 1972   , 1971   , 1970   , 1969   , 1968   , 1967   , 1966   , 1965   , 1964   , 1963   , 1962   , 1961   , 1960   , 1959   , 1958   , 1957   , 1956   , 1955   , 1954   , 1953   , 1952   , 1951   , 1950   , 1949   , 1948   , 1947   , 1946   , 1945   , 1944   , 1943   , 1942   , 1941   , 1940   , 1939   , 1938   , 1937   , 1936   , 1935   , 1934   , 1933   , 1932   , 1931   , 1930   , 1929   , 1928   , 1927   , 1926   , 1925   , 1924   , 1923   , 1922   , 1921   , 1920   , 1919   , 1918   , 1917   , 1916   , 1915   , 1914   , 1913   , 1912   , 1911   , 1910   , 1909   , 1908   , 1907   , 1906   , 1905   , 1904   , 1903   , 1902   , 1901   , 1900   , 1899   , 1898   , 1897   , 1896   , 1895   , 1894   , 1893   , 1892   , 1891   , 1890   , 1889   , 1888   , 1887   , 1886   , 1885   , 1884   , 1883   , 1882   , 1881   , 1880   , 1879   , 1878   , 1877   , 1876   , &lt;= 1875</span></td><td><span style=white-space:pre-wrap>  NA</span></td></tr>\n",
              "\t<tr><th scope=row>4</th><td>periodo             </td><td>periodo             </td><td>19760101, 19770101, 19780101, 19790101, 19800101, 19810101, 19820101, 19830101, 19840101, 19850101, 19860101, 19870101, 19880101, 19890101, 19900101, 19910101, 19920101, 19930101, 19940101, 19950101, 19960101, 19970101, 19980101, 19990101, 20000101, 20010101, 20020101, 20030101, 20040101, 20050101, 20060101, 20070101, 20080101, 20090101, 20100101, 20110101, 20120101, 20130101, 20140101, 20150101, 20160101, 20170101, 20180101, 20190101, 20200101, 20210101, 20220101, 20220701, 20230101, 20230701, 20240101</td><td>1976/01/01, 1977/01/01, 1978/01/01, 1979/01/01, 1980/01/01, 1981/01/01, 1982/01/01, 1983/01/01, 1984/01/01, 1985/01/01, 1986/01/01, 1987/01/01, 1988/01/01, 1989/01/01, 1990/01/01, 1991/01/01, 1992/01/01, 1993/01/01, 1994/01/01, 1995/01/01, 1996/01/01, 1997/01/01, 1998/01/01, 1999/01/01, 2000/01/01, 2001/01/01, 2002/01/01, 2003/01/01, 2004/01/01, 2005/01/01, 2006/01/01, 2007/01/01, 2008/01/01, 2009/01/01, 2010/01/01, 2011/01/01, 2012/01/01, 2013/01/01, 2014/01/01, 2015/01/01, 2016/01/01, 2017/01/01, 2018/01/01, 2019/01/01, 2020/01/01, 2021/01/01, 2022/01/01, 2022/07/01, 2023/01/01, 2023/07/01, 2024/01/01</td><td>TRUE</td></tr>\n",
              "</tbody>\n",
              "</table>\n",
              "</dd>\n",
              "</dl>\n"
            ],
            "text/markdown": "$title\n:   'Población estimada de la C.A. de Euskadi por territorio histórico, sexo y año de nacimiento. 1976/01/01 - 2024/01/01'\n$variables\n:   \nA data.frame: 4 × 5\n\n| <!--/--> | code &lt;chr&gt; | text &lt;chr&gt; | values &lt;list&gt; | valueTexts &lt;list&gt; | time &lt;lgl&gt; |\n|---|---|---|---|---|---|\n| 1 | territorio histórico | territorio histórico | 00, 01, 48, 20 | C.A. de Euskadi, Araba/Álava    , Bizkaia        , Gipuzkoa        |   NA |\n| 2 | sexo                 | sexo                 | 10, 20, 30 | Total  , Hombres, Mujeres |   NA |\n| 3 | año de nacimiento    | año de nacimiento    | 1000, 1109, 1110, 1120, 5800, 5810, 5820, 5830, 5840, 5850, 5860, 5870, 5880, 5890, 5900, 5910, 5920, 5930, 5940, 5950, 5960, 5970, 5980, 5990, 6000, 6010, 6020, 6030, 6040, 6050, 6060, 6070, 6080, 6090, 6100, 6110, 6120, 6130, 6140, 6150, 6160, 6170, 6180, 6190, 6200, 6210, 6220, 6230, 6240, 6250, 6260, 6270, 6280, 6290, 6300, 6310, 6320, 6330, 6340, 6350, 6360, 6370, 6380, 6390, 6400, 6410, 6420, 6430, 6440, 6450, 6460, 6470, 6480, 6490, 6500, 6510, 6520, 6530, 6540, 6550, 6560, 6570, 6580, 6590, 6600, 6610, 6620, 6630, 6640, 6650, 6660, 6670, 6680, 6690, 6700, 6710, 6720, 6730, 6740, 6750, 6760, 6770, 6780, 6790, 6800, 6810, 6820, 6830, 6840, 6850, 6860, 6870, 6880, 6890, 6900, 6910, 6920, 6930, 6940, 6950, 6960, 6970, 6980, 6990, 7000, 7010, 7020, 7030, 7040, 7050, 7060, 7070, 7080, 7090, 7100, 7110, 7120, 7130, 7140, 7150, 7160, 7170, 7180, 7190, 7200, 7210, 7220, 7230, 7240, 7250 | Total  , 2023   , 2022   , 2021   , 2020   , 2019   , 2018   , 2017   , 2016   , 2015   , 2014   , 2013   , 2012   , 2011   , 2010   , 2009   , 2008   , 2007   , 2006   , 2005   , 2004   , 2003   , 2002   , 2001   , 2000   , 1999   , 1998   , 1997   , 1996   , 1995   , 1994   , 1993   , 1992   , 1991   , 1990   , 1989   , 1988   , 1987   , 1986   , 1985   , 1984   , 1983   , 1982   , 1981   , 1980   , 1979   , 1978   , 1977   , 1976   , 1975   , 1974   , 1973   , 1972   , 1971   , 1970   , 1969   , 1968   , 1967   , 1966   , 1965   , 1964   , 1963   , 1962   , 1961   , 1960   , 1959   , 1958   , 1957   , 1956   , 1955   , 1954   , 1953   , 1952   , 1951   , 1950   , 1949   , 1948   , 1947   , 1946   , 1945   , 1944   , 1943   , 1942   , 1941   , 1940   , 1939   , 1938   , 1937   , 1936   , 1935   , 1934   , 1933   , 1932   , 1931   , 1930   , 1929   , 1928   , 1927   , 1926   , 1925   , 1924   , 1923   , 1922   , 1921   , 1920   , 1919   , 1918   , 1917   , 1916   , 1915   , 1914   , 1913   , 1912   , 1911   , 1910   , 1909   , 1908   , 1907   , 1906   , 1905   , 1904   , 1903   , 1902   , 1901   , 1900   , 1899   , 1898   , 1897   , 1896   , 1895   , 1894   , 1893   , 1892   , 1891   , 1890   , 1889   , 1888   , 1887   , 1886   , 1885   , 1884   , 1883   , 1882   , 1881   , 1880   , 1879   , 1878   , 1877   , 1876   , &lt;= 1875 |   NA |\n| 4 | periodo              | periodo              | 19760101, 19770101, 19780101, 19790101, 19800101, 19810101, 19820101, 19830101, 19840101, 19850101, 19860101, 19870101, 19880101, 19890101, 19900101, 19910101, 19920101, 19930101, 19940101, 19950101, 19960101, 19970101, 19980101, 19990101, 20000101, 20010101, 20020101, 20030101, 20040101, 20050101, 20060101, 20070101, 20080101, 20090101, 20100101, 20110101, 20120101, 20130101, 20140101, 20150101, 20160101, 20170101, 20180101, 20190101, 20200101, 20210101, 20220101, 20220701, 20230101, 20230701, 20240101 | 1976/01/01, 1977/01/01, 1978/01/01, 1979/01/01, 1980/01/01, 1981/01/01, 1982/01/01, 1983/01/01, 1984/01/01, 1985/01/01, 1986/01/01, 1987/01/01, 1988/01/01, 1989/01/01, 1990/01/01, 1991/01/01, 1992/01/01, 1993/01/01, 1994/01/01, 1995/01/01, 1996/01/01, 1997/01/01, 1998/01/01, 1999/01/01, 2000/01/01, 2001/01/01, 2002/01/01, 2003/01/01, 2004/01/01, 2005/01/01, 2006/01/01, 2007/01/01, 2008/01/01, 2009/01/01, 2010/01/01, 2011/01/01, 2012/01/01, 2013/01/01, 2014/01/01, 2015/01/01, 2016/01/01, 2017/01/01, 2018/01/01, 2019/01/01, 2020/01/01, 2021/01/01, 2022/01/01, 2022/07/01, 2023/01/01, 2023/07/01, 2024/01/01 | TRUE |\n\n\n\n\n",
            "text/latex": "\\begin{description}\n\\item[\\$title] 'Población estimada de la C.A. de Euskadi por territorio histórico, sexo y año de nacimiento. 1976/01/01 - 2024/01/01'\n\\item[\\$variables] A data.frame: 4 × 5\n\\begin{tabular}{r|lllll}\n  & code & text & values & valueTexts & time\\\\\n  & <chr> & <chr> & <list> & <list> & <lgl>\\\\\n\\hline\n\t1 & territorio histórico & territorio histórico & 00, 01, 48, 20 & C.A. de Euskadi, Araba/Álava    , Bizkaia        , Gipuzkoa        &   NA\\\\\n\t2 & sexo                 & sexo                 & 10, 20, 30 & Total  , Hombres, Mujeres &   NA\\\\\n\t3 & año de nacimiento    & año de nacimiento    & 1000, 1109, 1110, 1120, 5800, 5810, 5820, 5830, 5840, 5850, 5860, 5870, 5880, 5890, 5900, 5910, 5920, 5930, 5940, 5950, 5960, 5970, 5980, 5990, 6000, 6010, 6020, 6030, 6040, 6050, 6060, 6070, 6080, 6090, 6100, 6110, 6120, 6130, 6140, 6150, 6160, 6170, 6180, 6190, 6200, 6210, 6220, 6230, 6240, 6250, 6260, 6270, 6280, 6290, 6300, 6310, 6320, 6330, 6340, 6350, 6360, 6370, 6380, 6390, 6400, 6410, 6420, 6430, 6440, 6450, 6460, 6470, 6480, 6490, 6500, 6510, 6520, 6530, 6540, 6550, 6560, 6570, 6580, 6590, 6600, 6610, 6620, 6630, 6640, 6650, 6660, 6670, 6680, 6690, 6700, 6710, 6720, 6730, 6740, 6750, 6760, 6770, 6780, 6790, 6800, 6810, 6820, 6830, 6840, 6850, 6860, 6870, 6880, 6890, 6900, 6910, 6920, 6930, 6940, 6950, 6960, 6970, 6980, 6990, 7000, 7010, 7020, 7030, 7040, 7050, 7060, 7070, 7080, 7090, 7100, 7110, 7120, 7130, 7140, 7150, 7160, 7170, 7180, 7190, 7200, 7210, 7220, 7230, 7240, 7250 & Total  , 2023   , 2022   , 2021   , 2020   , 2019   , 2018   , 2017   , 2016   , 2015   , 2014   , 2013   , 2012   , 2011   , 2010   , 2009   , 2008   , 2007   , 2006   , 2005   , 2004   , 2003   , 2002   , 2001   , 2000   , 1999   , 1998   , 1997   , 1996   , 1995   , 1994   , 1993   , 1992   , 1991   , 1990   , 1989   , 1988   , 1987   , 1986   , 1985   , 1984   , 1983   , 1982   , 1981   , 1980   , 1979   , 1978   , 1977   , 1976   , 1975   , 1974   , 1973   , 1972   , 1971   , 1970   , 1969   , 1968   , 1967   , 1966   , 1965   , 1964   , 1963   , 1962   , 1961   , 1960   , 1959   , 1958   , 1957   , 1956   , 1955   , 1954   , 1953   , 1952   , 1951   , 1950   , 1949   , 1948   , 1947   , 1946   , 1945   , 1944   , 1943   , 1942   , 1941   , 1940   , 1939   , 1938   , 1937   , 1936   , 1935   , 1934   , 1933   , 1932   , 1931   , 1930   , 1929   , 1928   , 1927   , 1926   , 1925   , 1924   , 1923   , 1922   , 1921   , 1920   , 1919   , 1918   , 1917   , 1916   , 1915   , 1914   , 1913   , 1912   , 1911   , 1910   , 1909   , 1908   , 1907   , 1906   , 1905   , 1904   , 1903   , 1902   , 1901   , 1900   , 1899   , 1898   , 1897   , 1896   , 1895   , 1894   , 1893   , 1892   , 1891   , 1890   , 1889   , 1888   , 1887   , 1886   , 1885   , 1884   , 1883   , 1882   , 1881   , 1880   , 1879   , 1878   , 1877   , 1876   , <= 1875 &   NA\\\\\n\t4 & periodo              & periodo              & 19760101, 19770101, 19780101, 19790101, 19800101, 19810101, 19820101, 19830101, 19840101, 19850101, 19860101, 19870101, 19880101, 19890101, 19900101, 19910101, 19920101, 19930101, 19940101, 19950101, 19960101, 19970101, 19980101, 19990101, 20000101, 20010101, 20020101, 20030101, 20040101, 20050101, 20060101, 20070101, 20080101, 20090101, 20100101, 20110101, 20120101, 20130101, 20140101, 20150101, 20160101, 20170101, 20180101, 20190101, 20200101, 20210101, 20220101, 20220701, 20230101, 20230701, 20240101 & 1976/01/01, 1977/01/01, 1978/01/01, 1979/01/01, 1980/01/01, 1981/01/01, 1982/01/01, 1983/01/01, 1984/01/01, 1985/01/01, 1986/01/01, 1987/01/01, 1988/01/01, 1989/01/01, 1990/01/01, 1991/01/01, 1992/01/01, 1993/01/01, 1994/01/01, 1995/01/01, 1996/01/01, 1997/01/01, 1998/01/01, 1999/01/01, 2000/01/01, 2001/01/01, 2002/01/01, 2003/01/01, 2004/01/01, 2005/01/01, 2006/01/01, 2007/01/01, 2008/01/01, 2009/01/01, 2010/01/01, 2011/01/01, 2012/01/01, 2013/01/01, 2014/01/01, 2015/01/01, 2016/01/01, 2017/01/01, 2018/01/01, 2019/01/01, 2020/01/01, 2021/01/01, 2022/01/01, 2022/07/01, 2023/01/01, 2023/07/01, 2024/01/01 & TRUE\\\\\n\\end{tabular}\n\n\\end{description}\n",
            "text/plain": [
              "$title\n",
              "[1] \"Población estimada de la C.A. de Euskadi por territorio histórico, sexo y año de nacimiento. 1976/01/01 - 2024/01/01\"\n",
              "\n",
              "$variables\n",
              "                  code                 text\n",
              "1 territorio histórico territorio histórico\n",
              "2                 sexo                 sexo\n",
              "3    año de nacimiento    año de nacimiento\n",
              "4              periodo              periodo\n",
              "                                                                                                                                                                                                                                                                                                                                                                                                                                                                                                                                                                                                                                                                                                                                                                                                                                                                                                                              values\n",
              "1                                                                                                                                                                                                                                                                                                                                                                                                                                                                                                                                                                                                                                                                                                                                                                                                                                                                                                                     00, 01, 48, 20\n",
              "2                                                                                                                                                                                                                                                                                                                                                                                                                                                                                                                                                                                                                                                                                                                                                                                                                                                                                                                         10, 20, 30\n",
              "3 1000, 1109, 1110, 1120, 5800, 5810, 5820, 5830, 5840, 5850, 5860, 5870, 5880, 5890, 5900, 5910, 5920, 5930, 5940, 5950, 5960, 5970, 5980, 5990, 6000, 6010, 6020, 6030, 6040, 6050, 6060, 6070, 6080, 6090, 6100, 6110, 6120, 6130, 6140, 6150, 6160, 6170, 6180, 6190, 6200, 6210, 6220, 6230, 6240, 6250, 6260, 6270, 6280, 6290, 6300, 6310, 6320, 6330, 6340, 6350, 6360, 6370, 6380, 6390, 6400, 6410, 6420, 6430, 6440, 6450, 6460, 6470, 6480, 6490, 6500, 6510, 6520, 6530, 6540, 6550, 6560, 6570, 6580, 6590, 6600, 6610, 6620, 6630, 6640, 6650, 6660, 6670, 6680, 6690, 6700, 6710, 6720, 6730, 6740, 6750, 6760, 6770, 6780, 6790, 6800, 6810, 6820, 6830, 6840, 6850, 6860, 6870, 6880, 6890, 6900, 6910, 6920, 6930, 6940, 6950, 6960, 6970, 6980, 6990, 7000, 7010, 7020, 7030, 7040, 7050, 7060, 7070, 7080, 7090, 7100, 7110, 7120, 7130, 7140, 7150, 7160, 7170, 7180, 7190, 7200, 7210, 7220, 7230, 7240, 7250\n",
              "4                                                                                                                                                                                                                                                                                                                                                                                                       19760101, 19770101, 19780101, 19790101, 19800101, 19810101, 19820101, 19830101, 19840101, 19850101, 19860101, 19870101, 19880101, 19890101, 19900101, 19910101, 19920101, 19930101, 19940101, 19950101, 19960101, 19970101, 19980101, 19990101, 20000101, 20010101, 20020101, 20030101, 20040101, 20050101, 20060101, 20070101, 20080101, 20090101, 20100101, 20110101, 20120101, 20130101, 20140101, 20150101, 20160101, 20170101, 20180101, 20190101, 20200101, 20210101, 20220101, 20220701, 20230101, 20230701, 20240101\n",
              "                                                                                                                                                                                                                                                                                                                                                                                                                                                                                                                                                                                                                                                                                                                                                                                                                                                                                                                              valueTexts\n",
              "1                                                                                                                                                                                                                                                                                                                                                                                                                                                                                                                                                                                                                                                                                                                                                                                                                                                                                        C.A. de Euskadi, Araba/Álava, Bizkaia, Gipuzkoa\n",
              "2                                                                                                                                                                                                                                                                                                                                                                                                                                                                                                                                                                                                                                                                                                                                                                                                                                                                                                                Total, Hombres, Mujeres\n",
              "3 Total, 2023, 2022, 2021, 2020, 2019, 2018, 2017, 2016, 2015, 2014, 2013, 2012, 2011, 2010, 2009, 2008, 2007, 2006, 2005, 2004, 2003, 2002, 2001, 2000, 1999, 1998, 1997, 1996, 1995, 1994, 1993, 1992, 1991, 1990, 1989, 1988, 1987, 1986, 1985, 1984, 1983, 1982, 1981, 1980, 1979, 1978, 1977, 1976, 1975, 1974, 1973, 1972, 1971, 1970, 1969, 1968, 1967, 1966, 1965, 1964, 1963, 1962, 1961, 1960, 1959, 1958, 1957, 1956, 1955, 1954, 1953, 1952, 1951, 1950, 1949, 1948, 1947, 1946, 1945, 1944, 1943, 1942, 1941, 1940, 1939, 1938, 1937, 1936, 1935, 1934, 1933, 1932, 1931, 1930, 1929, 1928, 1927, 1926, 1925, 1924, 1923, 1922, 1921, 1920, 1919, 1918, 1917, 1916, 1915, 1914, 1913, 1912, 1911, 1910, 1909, 1908, 1907, 1906, 1905, 1904, 1903, 1902, 1901, 1900, 1899, 1898, 1897, 1896, 1895, 1894, 1893, 1892, 1891, 1890, 1889, 1888, 1887, 1886, 1885, 1884, 1883, 1882, 1881, 1880, 1879, 1878, 1877, 1876, <= 1875\n",
              "4                                                                                                                                                                                                                                                                                                     1976/01/01, 1977/01/01, 1978/01/01, 1979/01/01, 1980/01/01, 1981/01/01, 1982/01/01, 1983/01/01, 1984/01/01, 1985/01/01, 1986/01/01, 1987/01/01, 1988/01/01, 1989/01/01, 1990/01/01, 1991/01/01, 1992/01/01, 1993/01/01, 1994/01/01, 1995/01/01, 1996/01/01, 1997/01/01, 1998/01/01, 1999/01/01, 2000/01/01, 2001/01/01, 2002/01/01, 2003/01/01, 2004/01/01, 2005/01/01, 2006/01/01, 2007/01/01, 2008/01/01, 2009/01/01, 2010/01/01, 2011/01/01, 2012/01/01, 2013/01/01, 2014/01/01, 2015/01/01, 2016/01/01, 2017/01/01, 2018/01/01, 2019/01/01, 2020/01/01, 2021/01/01, 2022/01/01, 2022/07/01, 2023/01/01, 2023/07/01, 2024/01/01\n",
              "  time\n",
              "1   NA\n",
              "2   NA\n",
              "3   NA\n",
              "4 TRUE\n"
            ]
          },
          "metadata": {}
        }
      ],
      "source": [
        "\n",
        "metadatos<- GET(\"https://www.eustat.eus/bankupx/api/v1/es/DB/PX_010154_cepv1_ep17.px\")\n",
        "metadatos_población <- fromJSON(rawToChar(metadatos$content))\n",
        "metadatos_población"
      ]
    },
    {
      "cell_type": "markdown",
      "id": "ce80a4ab",
      "metadata": {
        "id": "ce80a4ab"
      },
      "source": [
        "Los metadatos contienen el título de la tabla, junto con los códigos y literales de las variables y los valores. Puede resultar útil generar una tabla en la que se muestren las variables junto a sus valores, incluyendo la correspondencia entre códigos y etiquetas descriptivas."
      ]
    },
    {
      "cell_type": "code",
      "execution_count": 19,
      "id": "111d5e86",
      "metadata": {
        "colab": {
          "base_uri": "https://localhost:8080/",
          "height": 1000
        },
        "id": "111d5e86",
        "outputId": "15dc8172-22b5-4c4d-910c-0b33f5b75833"
      },
      "outputs": [
        {
          "output_type": "display_data",
          "data": {
            "text/html": [
              "<table class=\"dataframe\">\n",
              "<caption>A tibble: 208 × 5</caption>\n",
              "<thead>\n",
              "\t<tr><th scope=col>code</th><th scope=col>text</th><th scope=col>values</th><th scope=col>valueTexts</th><th scope=col>time</th></tr>\n",
              "\t<tr><th scope=col>&lt;chr&gt;</th><th scope=col>&lt;chr&gt;</th><th scope=col>&lt;chr&gt;</th><th scope=col>&lt;chr&gt;</th><th scope=col>&lt;lgl&gt;</th></tr>\n",
              "</thead>\n",
              "<tbody>\n",
              "\t<tr><td>territorio histórico</td><td>territorio histórico</td><td>00  </td><td>C.A. de Euskadi</td><td>NA</td></tr>\n",
              "\t<tr><td>territorio histórico</td><td>territorio histórico</td><td>01  </td><td>Araba/Álava    </td><td>NA</td></tr>\n",
              "\t<tr><td>territorio histórico</td><td>territorio histórico</td><td>48  </td><td>Bizkaia        </td><td>NA</td></tr>\n",
              "\t<tr><td>territorio histórico</td><td>territorio histórico</td><td>20  </td><td>Gipuzkoa       </td><td>NA</td></tr>\n",
              "\t<tr><td>sexo                </td><td>sexo                </td><td>10  </td><td>Total          </td><td>NA</td></tr>\n",
              "\t<tr><td>sexo                </td><td>sexo                </td><td>20  </td><td>Hombres        </td><td>NA</td></tr>\n",
              "\t<tr><td>sexo                </td><td>sexo                </td><td>30  </td><td>Mujeres        </td><td>NA</td></tr>\n",
              "\t<tr><td>año de nacimiento   </td><td>año de nacimiento   </td><td>1000</td><td>Total          </td><td>NA</td></tr>\n",
              "\t<tr><td>año de nacimiento   </td><td>año de nacimiento   </td><td>1109</td><td>2023           </td><td>NA</td></tr>\n",
              "\t<tr><td>año de nacimiento   </td><td>año de nacimiento   </td><td>1110</td><td>2022           </td><td>NA</td></tr>\n",
              "\t<tr><td>año de nacimiento   </td><td>año de nacimiento   </td><td>1120</td><td>2021           </td><td>NA</td></tr>\n",
              "\t<tr><td>año de nacimiento   </td><td>año de nacimiento   </td><td>5800</td><td>2020           </td><td>NA</td></tr>\n",
              "\t<tr><td>año de nacimiento   </td><td>año de nacimiento   </td><td>5810</td><td>2019           </td><td>NA</td></tr>\n",
              "\t<tr><td>año de nacimiento   </td><td>año de nacimiento   </td><td>5820</td><td>2018           </td><td>NA</td></tr>\n",
              "\t<tr><td>año de nacimiento   </td><td>año de nacimiento   </td><td>5830</td><td>2017           </td><td>NA</td></tr>\n",
              "\t<tr><td>año de nacimiento   </td><td>año de nacimiento   </td><td>5840</td><td>2016           </td><td>NA</td></tr>\n",
              "\t<tr><td>año de nacimiento   </td><td>año de nacimiento   </td><td>5850</td><td>2015           </td><td>NA</td></tr>\n",
              "\t<tr><td>año de nacimiento   </td><td>año de nacimiento   </td><td>5860</td><td>2014           </td><td>NA</td></tr>\n",
              "\t<tr><td>año de nacimiento   </td><td>año de nacimiento   </td><td>5870</td><td>2013           </td><td>NA</td></tr>\n",
              "\t<tr><td>año de nacimiento   </td><td>año de nacimiento   </td><td>5880</td><td>2012           </td><td>NA</td></tr>\n",
              "\t<tr><td>año de nacimiento   </td><td>año de nacimiento   </td><td>5890</td><td>2011           </td><td>NA</td></tr>\n",
              "\t<tr><td>año de nacimiento   </td><td>año de nacimiento   </td><td>5900</td><td>2010           </td><td>NA</td></tr>\n",
              "\t<tr><td>año de nacimiento   </td><td>año de nacimiento   </td><td>5910</td><td>2009           </td><td>NA</td></tr>\n",
              "\t<tr><td>año de nacimiento   </td><td>año de nacimiento   </td><td>5920</td><td>2008           </td><td>NA</td></tr>\n",
              "\t<tr><td>año de nacimiento   </td><td>año de nacimiento   </td><td>5930</td><td>2007           </td><td>NA</td></tr>\n",
              "\t<tr><td>año de nacimiento   </td><td>año de nacimiento   </td><td>5940</td><td>2006           </td><td>NA</td></tr>\n",
              "\t<tr><td>año de nacimiento   </td><td>año de nacimiento   </td><td>5950</td><td>2005           </td><td>NA</td></tr>\n",
              "\t<tr><td>año de nacimiento   </td><td>año de nacimiento   </td><td>5960</td><td>2004           </td><td>NA</td></tr>\n",
              "\t<tr><td>año de nacimiento   </td><td>año de nacimiento   </td><td>5970</td><td>2003           </td><td>NA</td></tr>\n",
              "\t<tr><td>año de nacimiento   </td><td>año de nacimiento   </td><td>5980</td><td>2002           </td><td>NA</td></tr>\n",
              "\t<tr><td>⋮</td><td>⋮</td><td>⋮</td><td>⋮</td><td>⋮</td></tr>\n",
              "\t<tr><td>periodo</td><td>periodo</td><td>19970101</td><td>1997/01/01</td><td>TRUE</td></tr>\n",
              "\t<tr><td>periodo</td><td>periodo</td><td>19980101</td><td>1998/01/01</td><td>TRUE</td></tr>\n",
              "\t<tr><td>periodo</td><td>periodo</td><td>19990101</td><td>1999/01/01</td><td>TRUE</td></tr>\n",
              "\t<tr><td>periodo</td><td>periodo</td><td>20000101</td><td>2000/01/01</td><td>TRUE</td></tr>\n",
              "\t<tr><td>periodo</td><td>periodo</td><td>20010101</td><td>2001/01/01</td><td>TRUE</td></tr>\n",
              "\t<tr><td>periodo</td><td>periodo</td><td>20020101</td><td>2002/01/01</td><td>TRUE</td></tr>\n",
              "\t<tr><td>periodo</td><td>periodo</td><td>20030101</td><td>2003/01/01</td><td>TRUE</td></tr>\n",
              "\t<tr><td>periodo</td><td>periodo</td><td>20040101</td><td>2004/01/01</td><td>TRUE</td></tr>\n",
              "\t<tr><td>periodo</td><td>periodo</td><td>20050101</td><td>2005/01/01</td><td>TRUE</td></tr>\n",
              "\t<tr><td>periodo</td><td>periodo</td><td>20060101</td><td>2006/01/01</td><td>TRUE</td></tr>\n",
              "\t<tr><td>periodo</td><td>periodo</td><td>20070101</td><td>2007/01/01</td><td>TRUE</td></tr>\n",
              "\t<tr><td>periodo</td><td>periodo</td><td>20080101</td><td>2008/01/01</td><td>TRUE</td></tr>\n",
              "\t<tr><td>periodo</td><td>periodo</td><td>20090101</td><td>2009/01/01</td><td>TRUE</td></tr>\n",
              "\t<tr><td>periodo</td><td>periodo</td><td>20100101</td><td>2010/01/01</td><td>TRUE</td></tr>\n",
              "\t<tr><td>periodo</td><td>periodo</td><td>20110101</td><td>2011/01/01</td><td>TRUE</td></tr>\n",
              "\t<tr><td>periodo</td><td>periodo</td><td>20120101</td><td>2012/01/01</td><td>TRUE</td></tr>\n",
              "\t<tr><td>periodo</td><td>periodo</td><td>20130101</td><td>2013/01/01</td><td>TRUE</td></tr>\n",
              "\t<tr><td>periodo</td><td>periodo</td><td>20140101</td><td>2014/01/01</td><td>TRUE</td></tr>\n",
              "\t<tr><td>periodo</td><td>periodo</td><td>20150101</td><td>2015/01/01</td><td>TRUE</td></tr>\n",
              "\t<tr><td>periodo</td><td>periodo</td><td>20160101</td><td>2016/01/01</td><td>TRUE</td></tr>\n",
              "\t<tr><td>periodo</td><td>periodo</td><td>20170101</td><td>2017/01/01</td><td>TRUE</td></tr>\n",
              "\t<tr><td>periodo</td><td>periodo</td><td>20180101</td><td>2018/01/01</td><td>TRUE</td></tr>\n",
              "\t<tr><td>periodo</td><td>periodo</td><td>20190101</td><td>2019/01/01</td><td>TRUE</td></tr>\n",
              "\t<tr><td>periodo</td><td>periodo</td><td>20200101</td><td>2020/01/01</td><td>TRUE</td></tr>\n",
              "\t<tr><td>periodo</td><td>periodo</td><td>20210101</td><td>2021/01/01</td><td>TRUE</td></tr>\n",
              "\t<tr><td>periodo</td><td>periodo</td><td>20220101</td><td>2022/01/01</td><td>TRUE</td></tr>\n",
              "\t<tr><td>periodo</td><td>periodo</td><td>20220701</td><td>2022/07/01</td><td>TRUE</td></tr>\n",
              "\t<tr><td>periodo</td><td>periodo</td><td>20230101</td><td>2023/01/01</td><td>TRUE</td></tr>\n",
              "\t<tr><td>periodo</td><td>periodo</td><td>20230701</td><td>2023/07/01</td><td>TRUE</td></tr>\n",
              "\t<tr><td>periodo</td><td>periodo</td><td>20240101</td><td>2024/01/01</td><td>TRUE</td></tr>\n",
              "</tbody>\n",
              "</table>\n"
            ],
            "text/markdown": "\nA tibble: 208 × 5\n\n| code &lt;chr&gt; | text &lt;chr&gt; | values &lt;chr&gt; | valueTexts &lt;chr&gt; | time &lt;lgl&gt; |\n|---|---|---|---|---|\n| territorio histórico | territorio histórico | 00   | C.A. de Euskadi | NA |\n| territorio histórico | territorio histórico | 01   | Araba/Álava     | NA |\n| territorio histórico | territorio histórico | 48   | Bizkaia         | NA |\n| territorio histórico | territorio histórico | 20   | Gipuzkoa        | NA |\n| sexo                 | sexo                 | 10   | Total           | NA |\n| sexo                 | sexo                 | 20   | Hombres         | NA |\n| sexo                 | sexo                 | 30   | Mujeres         | NA |\n| año de nacimiento    | año de nacimiento    | 1000 | Total           | NA |\n| año de nacimiento    | año de nacimiento    | 1109 | 2023            | NA |\n| año de nacimiento    | año de nacimiento    | 1110 | 2022            | NA |\n| año de nacimiento    | año de nacimiento    | 1120 | 2021            | NA |\n| año de nacimiento    | año de nacimiento    | 5800 | 2020            | NA |\n| año de nacimiento    | año de nacimiento    | 5810 | 2019            | NA |\n| año de nacimiento    | año de nacimiento    | 5820 | 2018            | NA |\n| año de nacimiento    | año de nacimiento    | 5830 | 2017            | NA |\n| año de nacimiento    | año de nacimiento    | 5840 | 2016            | NA |\n| año de nacimiento    | año de nacimiento    | 5850 | 2015            | NA |\n| año de nacimiento    | año de nacimiento    | 5860 | 2014            | NA |\n| año de nacimiento    | año de nacimiento    | 5870 | 2013            | NA |\n| año de nacimiento    | año de nacimiento    | 5880 | 2012            | NA |\n| año de nacimiento    | año de nacimiento    | 5890 | 2011            | NA |\n| año de nacimiento    | año de nacimiento    | 5900 | 2010            | NA |\n| año de nacimiento    | año de nacimiento    | 5910 | 2009            | NA |\n| año de nacimiento    | año de nacimiento    | 5920 | 2008            | NA |\n| año de nacimiento    | año de nacimiento    | 5930 | 2007            | NA |\n| año de nacimiento    | año de nacimiento    | 5940 | 2006            | NA |\n| año de nacimiento    | año de nacimiento    | 5950 | 2005            | NA |\n| año de nacimiento    | año de nacimiento    | 5960 | 2004            | NA |\n| año de nacimiento    | año de nacimiento    | 5970 | 2003            | NA |\n| año de nacimiento    | año de nacimiento    | 5980 | 2002            | NA |\n| ⋮ | ⋮ | ⋮ | ⋮ | ⋮ |\n| periodo | periodo | 19970101 | 1997/01/01 | TRUE |\n| periodo | periodo | 19980101 | 1998/01/01 | TRUE |\n| periodo | periodo | 19990101 | 1999/01/01 | TRUE |\n| periodo | periodo | 20000101 | 2000/01/01 | TRUE |\n| periodo | periodo | 20010101 | 2001/01/01 | TRUE |\n| periodo | periodo | 20020101 | 2002/01/01 | TRUE |\n| periodo | periodo | 20030101 | 2003/01/01 | TRUE |\n| periodo | periodo | 20040101 | 2004/01/01 | TRUE |\n| periodo | periodo | 20050101 | 2005/01/01 | TRUE |\n| periodo | periodo | 20060101 | 2006/01/01 | TRUE |\n| periodo | periodo | 20070101 | 2007/01/01 | TRUE |\n| periodo | periodo | 20080101 | 2008/01/01 | TRUE |\n| periodo | periodo | 20090101 | 2009/01/01 | TRUE |\n| periodo | periodo | 20100101 | 2010/01/01 | TRUE |\n| periodo | periodo | 20110101 | 2011/01/01 | TRUE |\n| periodo | periodo | 20120101 | 2012/01/01 | TRUE |\n| periodo | periodo | 20130101 | 2013/01/01 | TRUE |\n| periodo | periodo | 20140101 | 2014/01/01 | TRUE |\n| periodo | periodo | 20150101 | 2015/01/01 | TRUE |\n| periodo | periodo | 20160101 | 2016/01/01 | TRUE |\n| periodo | periodo | 20170101 | 2017/01/01 | TRUE |\n| periodo | periodo | 20180101 | 2018/01/01 | TRUE |\n| periodo | periodo | 20190101 | 2019/01/01 | TRUE |\n| periodo | periodo | 20200101 | 2020/01/01 | TRUE |\n| periodo | periodo | 20210101 | 2021/01/01 | TRUE |\n| periodo | periodo | 20220101 | 2022/01/01 | TRUE |\n| periodo | periodo | 20220701 | 2022/07/01 | TRUE |\n| periodo | periodo | 20230101 | 2023/01/01 | TRUE |\n| periodo | periodo | 20230701 | 2023/07/01 | TRUE |\n| periodo | periodo | 20240101 | 2024/01/01 | TRUE |\n\n",
            "text/latex": "A tibble: 208 × 5\n\\begin{tabular}{lllll}\n code & text & values & valueTexts & time\\\\\n <chr> & <chr> & <chr> & <chr> & <lgl>\\\\\n\\hline\n\t territorio histórico & territorio histórico & 00   & C.A. de Euskadi & NA\\\\\n\t territorio histórico & territorio histórico & 01   & Araba/Álava     & NA\\\\\n\t territorio histórico & territorio histórico & 48   & Bizkaia         & NA\\\\\n\t territorio histórico & territorio histórico & 20   & Gipuzkoa        & NA\\\\\n\t sexo                 & sexo                 & 10   & Total           & NA\\\\\n\t sexo                 & sexo                 & 20   & Hombres         & NA\\\\\n\t sexo                 & sexo                 & 30   & Mujeres         & NA\\\\\n\t año de nacimiento    & año de nacimiento    & 1000 & Total           & NA\\\\\n\t año de nacimiento    & año de nacimiento    & 1109 & 2023            & NA\\\\\n\t año de nacimiento    & año de nacimiento    & 1110 & 2022            & NA\\\\\n\t año de nacimiento    & año de nacimiento    & 1120 & 2021            & NA\\\\\n\t año de nacimiento    & año de nacimiento    & 5800 & 2020            & NA\\\\\n\t año de nacimiento    & año de nacimiento    & 5810 & 2019            & NA\\\\\n\t año de nacimiento    & año de nacimiento    & 5820 & 2018            & NA\\\\\n\t año de nacimiento    & año de nacimiento    & 5830 & 2017            & NA\\\\\n\t año de nacimiento    & año de nacimiento    & 5840 & 2016            & NA\\\\\n\t año de nacimiento    & año de nacimiento    & 5850 & 2015            & NA\\\\\n\t año de nacimiento    & año de nacimiento    & 5860 & 2014            & NA\\\\\n\t año de nacimiento    & año de nacimiento    & 5870 & 2013            & NA\\\\\n\t año de nacimiento    & año de nacimiento    & 5880 & 2012            & NA\\\\\n\t año de nacimiento    & año de nacimiento    & 5890 & 2011            & NA\\\\\n\t año de nacimiento    & año de nacimiento    & 5900 & 2010            & NA\\\\\n\t año de nacimiento    & año de nacimiento    & 5910 & 2009            & NA\\\\\n\t año de nacimiento    & año de nacimiento    & 5920 & 2008            & NA\\\\\n\t año de nacimiento    & año de nacimiento    & 5930 & 2007            & NA\\\\\n\t año de nacimiento    & año de nacimiento    & 5940 & 2006            & NA\\\\\n\t año de nacimiento    & año de nacimiento    & 5950 & 2005            & NA\\\\\n\t año de nacimiento    & año de nacimiento    & 5960 & 2004            & NA\\\\\n\t año de nacimiento    & año de nacimiento    & 5970 & 2003            & NA\\\\\n\t año de nacimiento    & año de nacimiento    & 5980 & 2002            & NA\\\\\n\t ⋮ & ⋮ & ⋮ & ⋮ & ⋮\\\\\n\t periodo & periodo & 19970101 & 1997/01/01 & TRUE\\\\\n\t periodo & periodo & 19980101 & 1998/01/01 & TRUE\\\\\n\t periodo & periodo & 19990101 & 1999/01/01 & TRUE\\\\\n\t periodo & periodo & 20000101 & 2000/01/01 & TRUE\\\\\n\t periodo & periodo & 20010101 & 2001/01/01 & TRUE\\\\\n\t periodo & periodo & 20020101 & 2002/01/01 & TRUE\\\\\n\t periodo & periodo & 20030101 & 2003/01/01 & TRUE\\\\\n\t periodo & periodo & 20040101 & 2004/01/01 & TRUE\\\\\n\t periodo & periodo & 20050101 & 2005/01/01 & TRUE\\\\\n\t periodo & periodo & 20060101 & 2006/01/01 & TRUE\\\\\n\t periodo & periodo & 20070101 & 2007/01/01 & TRUE\\\\\n\t periodo & periodo & 20080101 & 2008/01/01 & TRUE\\\\\n\t periodo & periodo & 20090101 & 2009/01/01 & TRUE\\\\\n\t periodo & periodo & 20100101 & 2010/01/01 & TRUE\\\\\n\t periodo & periodo & 20110101 & 2011/01/01 & TRUE\\\\\n\t periodo & periodo & 20120101 & 2012/01/01 & TRUE\\\\\n\t periodo & periodo & 20130101 & 2013/01/01 & TRUE\\\\\n\t periodo & periodo & 20140101 & 2014/01/01 & TRUE\\\\\n\t periodo & periodo & 20150101 & 2015/01/01 & TRUE\\\\\n\t periodo & periodo & 20160101 & 2016/01/01 & TRUE\\\\\n\t periodo & periodo & 20170101 & 2017/01/01 & TRUE\\\\\n\t periodo & periodo & 20180101 & 2018/01/01 & TRUE\\\\\n\t periodo & periodo & 20190101 & 2019/01/01 & TRUE\\\\\n\t periodo & periodo & 20200101 & 2020/01/01 & TRUE\\\\\n\t periodo & periodo & 20210101 & 2021/01/01 & TRUE\\\\\n\t periodo & periodo & 20220101 & 2022/01/01 & TRUE\\\\\n\t periodo & periodo & 20220701 & 2022/07/01 & TRUE\\\\\n\t periodo & periodo & 20230101 & 2023/01/01 & TRUE\\\\\n\t periodo & periodo & 20230701 & 2023/07/01 & TRUE\\\\\n\t periodo & periodo & 20240101 & 2024/01/01 & TRUE\\\\\n\\end{tabular}\n",
            "text/plain": [
              "    code                 text                 values   valueTexts      time\n",
              "1   territorio histórico territorio histórico 00       C.A. de Euskadi NA  \n",
              "2   territorio histórico territorio histórico 01       Araba/Álava     NA  \n",
              "3   territorio histórico territorio histórico 48       Bizkaia         NA  \n",
              "4   territorio histórico territorio histórico 20       Gipuzkoa        NA  \n",
              "5   sexo                 sexo                 10       Total           NA  \n",
              "6   sexo                 sexo                 20       Hombres         NA  \n",
              "7   sexo                 sexo                 30       Mujeres         NA  \n",
              "8   año de nacimiento    año de nacimiento    1000     Total           NA  \n",
              "9   año de nacimiento    año de nacimiento    1109     2023            NA  \n",
              "10  año de nacimiento    año de nacimiento    1110     2022            NA  \n",
              "11  año de nacimiento    año de nacimiento    1120     2021            NA  \n",
              "12  año de nacimiento    año de nacimiento    5800     2020            NA  \n",
              "13  año de nacimiento    año de nacimiento    5810     2019            NA  \n",
              "14  año de nacimiento    año de nacimiento    5820     2018            NA  \n",
              "15  año de nacimiento    año de nacimiento    5830     2017            NA  \n",
              "16  año de nacimiento    año de nacimiento    5840     2016            NA  \n",
              "17  año de nacimiento    año de nacimiento    5850     2015            NA  \n",
              "18  año de nacimiento    año de nacimiento    5860     2014            NA  \n",
              "19  año de nacimiento    año de nacimiento    5870     2013            NA  \n",
              "20  año de nacimiento    año de nacimiento    5880     2012            NA  \n",
              "21  año de nacimiento    año de nacimiento    5890     2011            NA  \n",
              "22  año de nacimiento    año de nacimiento    5900     2010            NA  \n",
              "23  año de nacimiento    año de nacimiento    5910     2009            NA  \n",
              "24  año de nacimiento    año de nacimiento    5920     2008            NA  \n",
              "25  año de nacimiento    año de nacimiento    5930     2007            NA  \n",
              "26  año de nacimiento    año de nacimiento    5940     2006            NA  \n",
              "27  año de nacimiento    año de nacimiento    5950     2005            NA  \n",
              "28  año de nacimiento    año de nacimiento    5960     2004            NA  \n",
              "29  año de nacimiento    año de nacimiento    5970     2003            NA  \n",
              "30  año de nacimiento    año de nacimiento    5980     2002            NA  \n",
              "⋮   ⋮                    ⋮                    ⋮        ⋮               ⋮   \n",
              "179 periodo              periodo              19970101 1997/01/01      TRUE\n",
              "180 periodo              periodo              19980101 1998/01/01      TRUE\n",
              "181 periodo              periodo              19990101 1999/01/01      TRUE\n",
              "182 periodo              periodo              20000101 2000/01/01      TRUE\n",
              "183 periodo              periodo              20010101 2001/01/01      TRUE\n",
              "184 periodo              periodo              20020101 2002/01/01      TRUE\n",
              "185 periodo              periodo              20030101 2003/01/01      TRUE\n",
              "186 periodo              periodo              20040101 2004/01/01      TRUE\n",
              "187 periodo              periodo              20050101 2005/01/01      TRUE\n",
              "188 periodo              periodo              20060101 2006/01/01      TRUE\n",
              "189 periodo              periodo              20070101 2007/01/01      TRUE\n",
              "190 periodo              periodo              20080101 2008/01/01      TRUE\n",
              "191 periodo              periodo              20090101 2009/01/01      TRUE\n",
              "192 periodo              periodo              20100101 2010/01/01      TRUE\n",
              "193 periodo              periodo              20110101 2011/01/01      TRUE\n",
              "194 periodo              periodo              20120101 2012/01/01      TRUE\n",
              "195 periodo              periodo              20130101 2013/01/01      TRUE\n",
              "196 periodo              periodo              20140101 2014/01/01      TRUE\n",
              "197 periodo              periodo              20150101 2015/01/01      TRUE\n",
              "198 periodo              periodo              20160101 2016/01/01      TRUE\n",
              "199 periodo              periodo              20170101 2017/01/01      TRUE\n",
              "200 periodo              periodo              20180101 2018/01/01      TRUE\n",
              "201 periodo              periodo              20190101 2019/01/01      TRUE\n",
              "202 periodo              periodo              20200101 2020/01/01      TRUE\n",
              "203 periodo              periodo              20210101 2021/01/01      TRUE\n",
              "204 periodo              periodo              20220101 2022/01/01      TRUE\n",
              "205 periodo              periodo              20220701 2022/07/01      TRUE\n",
              "206 periodo              periodo              20230101 2023/01/01      TRUE\n",
              "207 periodo              periodo              20230701 2023/07/01      TRUE\n",
              "208 periodo              periodo              20240101 2024/01/01      TRUE"
            ]
          },
          "metadata": {}
        }
      ],
      "source": [
        "variables <- metadatos_población$variables\n",
        "\n",
        "variables_poblacion <- variables %>%\n",
        "  mutate(\n",
        "    values = lapply(values, unlist),\n",
        "    valueTexts = lapply(valueTexts, unlist)\n",
        "  ) %>%\n",
        "  unnest(c(values, valueTexts))\n",
        "\n",
        "variables_poblacion"
      ]
    },
    {
      "cell_type": "markdown",
      "id": "3bd9fa37",
      "metadata": {
        "id": "3bd9fa37"
      },
      "source": [
        "# **3. Obtener los datos de una tabla**\n",
        "\n",
        "**Hacer una consulta a una tabla para obtener todos los datos**\n",
        "\n",
        "Para disponer de los datos de las tablas, debemos realizar una consulta a la misma dirección del banco de datos con la función POST. Utilizamos el módulo `rjstat` para trabajar con los datos que vamos a descargar en formato json-stat. En este ejemplo, consultamos todos los datos de la tabla del Producto interior bruto (PIB) de la C.A. de Euskadi (oferta) por territorio histórico, rama de actividad (A-38), tipo de dato y de medida.\n"
      ]
    },
    {
      "cell_type": "code",
      "execution_count": 20,
      "id": "d9f1b6a3",
      "metadata": {
        "colab": {
          "base_uri": "https://localhost:8080/",
          "height": 304
        },
        "id": "d9f1b6a3",
        "outputId": "27b80652-10e2-455b-8b70-f4863ea1cb99"
      },
      "outputs": [
        {
          "output_type": "stream",
          "name": "stdout",
          "text": [
            "\n"
          ]
        },
        {
          "output_type": "display_data",
          "data": {
            "text/html": [
              "<table class=\"dataframe\">\n",
              "<caption>A data.frame: 6 × 6</caption>\n",
              "<thead>\n",
              "\t<tr><th></th><th scope=col>territorio histórico</th><th scope=col>sector</th><th scope=col>tipo de dato</th><th scope=col>tipo de medida</th><th scope=col>periodo</th><th scope=col>value</th></tr>\n",
              "\t<tr><th></th><th scope=col>&lt;chr&gt;</th><th scope=col>&lt;chr&gt;</th><th scope=col>&lt;chr&gt;</th><th scope=col>&lt;chr&gt;</th><th scope=col>&lt;chr&gt;</th><th scope=col>&lt;dbl&gt;</th></tr>\n",
              "</thead>\n",
              "<tbody>\n",
              "\t<tr><th scope=row>1</th><td>C.A. de Euskadi</td><td>1. Agricultura, ganadería y pesca</td><td>Nivel</td><td>Precios corrientes (miles euros)</td><td>1995</td><td>449513</td></tr>\n",
              "\t<tr><th scope=row>2</th><td>C.A. de Euskadi</td><td>1. Agricultura, ganadería y pesca</td><td>Nivel</td><td>Precios corrientes (miles euros)</td><td>1996</td><td>439283</td></tr>\n",
              "\t<tr><th scope=row>3</th><td>C.A. de Euskadi</td><td>1. Agricultura, ganadería y pesca</td><td>Nivel</td><td>Precios corrientes (miles euros)</td><td>1997</td><td>466735</td></tr>\n",
              "\t<tr><th scope=row>4</th><td>C.A. de Euskadi</td><td>1. Agricultura, ganadería y pesca</td><td>Nivel</td><td>Precios corrientes (miles euros)</td><td>1998</td><td>564307</td></tr>\n",
              "\t<tr><th scope=row>5</th><td>C.A. de Euskadi</td><td>1. Agricultura, ganadería y pesca</td><td>Nivel</td><td>Precios corrientes (miles euros)</td><td>1999</td><td>605399</td></tr>\n",
              "\t<tr><th scope=row>6</th><td>C.A. de Euskadi</td><td>1. Agricultura, ganadería y pesca</td><td>Nivel</td><td>Precios corrientes (miles euros)</td><td>2000</td><td>514139</td></tr>\n",
              "</tbody>\n",
              "</table>\n"
            ],
            "text/markdown": "\nA data.frame: 6 × 6\n\n| <!--/--> | territorio histórico &lt;chr&gt; | sector &lt;chr&gt; | tipo de dato &lt;chr&gt; | tipo de medida &lt;chr&gt; | periodo &lt;chr&gt; | value &lt;dbl&gt; |\n|---|---|---|---|---|---|---|\n| 1 | C.A. de Euskadi | 1. Agricultura, ganadería y pesca | Nivel | Precios corrientes (miles euros) | 1995 | 449513 |\n| 2 | C.A. de Euskadi | 1. Agricultura, ganadería y pesca | Nivel | Precios corrientes (miles euros) | 1996 | 439283 |\n| 3 | C.A. de Euskadi | 1. Agricultura, ganadería y pesca | Nivel | Precios corrientes (miles euros) | 1997 | 466735 |\n| 4 | C.A. de Euskadi | 1. Agricultura, ganadería y pesca | Nivel | Precios corrientes (miles euros) | 1998 | 564307 |\n| 5 | C.A. de Euskadi | 1. Agricultura, ganadería y pesca | Nivel | Precios corrientes (miles euros) | 1999 | 605399 |\n| 6 | C.A. de Euskadi | 1. Agricultura, ganadería y pesca | Nivel | Precios corrientes (miles euros) | 2000 | 514139 |\n\n",
            "text/latex": "A data.frame: 6 × 6\n\\begin{tabular}{r|llllll}\n  & territorio histórico & sector & tipo de dato & tipo de medida & periodo & value\\\\\n  & <chr> & <chr> & <chr> & <chr> & <chr> & <dbl>\\\\\n\\hline\n\t1 & C.A. de Euskadi & 1. Agricultura, ganadería y pesca & Nivel & Precios corrientes (miles euros) & 1995 & 449513\\\\\n\t2 & C.A. de Euskadi & 1. Agricultura, ganadería y pesca & Nivel & Precios corrientes (miles euros) & 1996 & 439283\\\\\n\t3 & C.A. de Euskadi & 1. Agricultura, ganadería y pesca & Nivel & Precios corrientes (miles euros) & 1997 & 466735\\\\\n\t4 & C.A. de Euskadi & 1. Agricultura, ganadería y pesca & Nivel & Precios corrientes (miles euros) & 1998 & 564307\\\\\n\t5 & C.A. de Euskadi & 1. Agricultura, ganadería y pesca & Nivel & Precios corrientes (miles euros) & 1999 & 605399\\\\\n\t6 & C.A. de Euskadi & 1. Agricultura, ganadería y pesca & Nivel & Precios corrientes (miles euros) & 2000 & 514139\\\\\n\\end{tabular}\n",
            "text/plain": [
              "  territorio histórico sector                            tipo de dato\n",
              "1 C.A. de Euskadi      1. Agricultura, ganadería y pesca Nivel       \n",
              "2 C.A. de Euskadi      1. Agricultura, ganadería y pesca Nivel       \n",
              "3 C.A. de Euskadi      1. Agricultura, ganadería y pesca Nivel       \n",
              "4 C.A. de Euskadi      1. Agricultura, ganadería y pesca Nivel       \n",
              "5 C.A. de Euskadi      1. Agricultura, ganadería y pesca Nivel       \n",
              "6 C.A. de Euskadi      1. Agricultura, ganadería y pesca Nivel       \n",
              "  tipo de medida                   periodo value \n",
              "1 Precios corrientes (miles euros) 1995    449513\n",
              "2 Precios corrientes (miles euros) 1996    439283\n",
              "3 Precios corrientes (miles euros) 1997    466735\n",
              "4 Precios corrientes (miles euros) 1998    564307\n",
              "5 Precios corrientes (miles euros) 1999    605399\n",
              "6 Precios corrientes (miles euros) 2000    514139"
            ]
          },
          "metadata": {}
        }
      ],
      "source": [
        "\n",
        "# URL del punto de acceso (endpoint) de la tabla\n",
        "\n",
        "url <- \"https://www.eustat.eus/bankupx/api/v1/es/DB/PX_170112_cpib_pib01d.px\"\n",
        "\n",
        "# Cuerpo de la petición: sin filtros (toda la tabla). Por defecto, el resultado se obtiene en formato JSON-stat v.1.2\n",
        "consulta <- '{\"query\":[]}'\n",
        "\n",
        "d.tmp <- POST(url , body = consulta, encode = \"json\", verbose())\n",
        "tabla <- fromJSONstat(content(d.tmp, \"text\"), naming = \"label\", use_factors = FALSE, silent = FALSE)\n",
        "PIB <- tabla[[1]]\n",
        "head(PIB)"
      ]
    },
    {
      "cell_type": "markdown",
      "id": "2f0c0ad1",
      "metadata": {
        "id": "2f0c0ad1"
      },
      "source": [
        "**Obtener los datos de una tabla, con códigos**\n",
        "\n",
        "Es posible que nos interese disponer de estos datos con los códigos de las variables, y no con las etiquetas descriptivas o literales. En ese caso, solicitamos que los nombres se capturen como código `(naming=\"id\")` y no como texto `(naming=\"label\")`."
      ]
    },
    {
      "cell_type": "code",
      "execution_count": 21,
      "id": "e5962faa",
      "metadata": {
        "colab": {
          "base_uri": "https://localhost:8080/",
          "height": 286
        },
        "id": "e5962faa",
        "outputId": "c099d2b5-2755-439c-e59e-0c3f83a37a6b"
      },
      "outputs": [
        {
          "output_type": "display_data",
          "data": {
            "text/html": [
              "<table class=\"dataframe\">\n",
              "<caption>A data.frame: 6 × 6</caption>\n",
              "<thead>\n",
              "\t<tr><th></th><th scope=col>territorio histórico</th><th scope=col>sector</th><th scope=col>tipo de dato</th><th scope=col>tipo de medida</th><th scope=col>periodo</th><th scope=col>value</th></tr>\n",
              "\t<tr><th></th><th scope=col>&lt;chr&gt;</th><th scope=col>&lt;chr&gt;</th><th scope=col>&lt;chr&gt;</th><th scope=col>&lt;chr&gt;</th><th scope=col>&lt;chr&gt;</th><th scope=col>&lt;dbl&gt;</th></tr>\n",
              "</thead>\n",
              "<tbody>\n",
              "\t<tr><th scope=row>1</th><td>00</td><td>01</td><td>10</td><td>10</td><td>1995</td><td>449513</td></tr>\n",
              "\t<tr><th scope=row>2</th><td>00</td><td>01</td><td>10</td><td>10</td><td>1996</td><td>439283</td></tr>\n",
              "\t<tr><th scope=row>3</th><td>00</td><td>01</td><td>10</td><td>10</td><td>1997</td><td>466735</td></tr>\n",
              "\t<tr><th scope=row>4</th><td>00</td><td>01</td><td>10</td><td>10</td><td>1998</td><td>564307</td></tr>\n",
              "\t<tr><th scope=row>5</th><td>00</td><td>01</td><td>10</td><td>10</td><td>1999</td><td>605399</td></tr>\n",
              "\t<tr><th scope=row>6</th><td>00</td><td>01</td><td>10</td><td>10</td><td>2000</td><td>514139</td></tr>\n",
              "</tbody>\n",
              "</table>\n"
            ],
            "text/markdown": "\nA data.frame: 6 × 6\n\n| <!--/--> | territorio histórico &lt;chr&gt; | sector &lt;chr&gt; | tipo de dato &lt;chr&gt; | tipo de medida &lt;chr&gt; | periodo &lt;chr&gt; | value &lt;dbl&gt; |\n|---|---|---|---|---|---|---|\n| 1 | 00 | 01 | 10 | 10 | 1995 | 449513 |\n| 2 | 00 | 01 | 10 | 10 | 1996 | 439283 |\n| 3 | 00 | 01 | 10 | 10 | 1997 | 466735 |\n| 4 | 00 | 01 | 10 | 10 | 1998 | 564307 |\n| 5 | 00 | 01 | 10 | 10 | 1999 | 605399 |\n| 6 | 00 | 01 | 10 | 10 | 2000 | 514139 |\n\n",
            "text/latex": "A data.frame: 6 × 6\n\\begin{tabular}{r|llllll}\n  & territorio histórico & sector & tipo de dato & tipo de medida & periodo & value\\\\\n  & <chr> & <chr> & <chr> & <chr> & <chr> & <dbl>\\\\\n\\hline\n\t1 & 00 & 01 & 10 & 10 & 1995 & 449513\\\\\n\t2 & 00 & 01 & 10 & 10 & 1996 & 439283\\\\\n\t3 & 00 & 01 & 10 & 10 & 1997 & 466735\\\\\n\t4 & 00 & 01 & 10 & 10 & 1998 & 564307\\\\\n\t5 & 00 & 01 & 10 & 10 & 1999 & 605399\\\\\n\t6 & 00 & 01 & 10 & 10 & 2000 & 514139\\\\\n\\end{tabular}\n",
            "text/plain": [
              "  territorio histórico sector tipo de dato tipo de medida periodo value \n",
              "1 00                   01     10           10             1995    449513\n",
              "2 00                   01     10           10             1996    439283\n",
              "3 00                   01     10           10             1997    466735\n",
              "4 00                   01     10           10             1998    564307\n",
              "5 00                   01     10           10             1999    605399\n",
              "6 00                   01     10           10             2000    514139"
            ]
          },
          "metadata": {}
        }
      ],
      "source": [
        "tabla <- fromJSONstat(content(d.tmp, \"text\"), naming = \"id\", use_factors = FALSE, silent = FALSE)\n",
        "PIB_codigo <- tabla[[1]]  # Nos interesa solo la primera lista de la tabla\n",
        "head(PIB_codigo)"
      ]
    },
    {
      "cell_type": "markdown",
      "id": "83dcdcaf",
      "metadata": {
        "id": "83dcdcaf"
      },
      "source": [
        "**Obtener los datos de una tabla, con una consulta de datos**\n",
        "\n",
        "Solicitar demasiados datos para luego tener que desechar la mitad es desperdiciar espacio y recursos. Por ello, cuando nos interesa disponer de los datos de una selección de valores, y no todo el contenido de las tablas, debemos realizar una consulta seleccionando las variables y valores de interés.\n",
        "\n",
        "Para definir la consulta, es necesario conocer el nombre/código de las variables y los valores, que es la información que hemos recibido en el punto anterior, **2. Obtener los metadatos de una tabla.**\n",
        "\n",
        "Pero para facilitar este paso, la propia web de Eustat dispone de una interfaz de selección de variables y valores para cada tabla, donde podremos seleccionar los datos que nos interesan fácilmente, y obtener la consulta en formato JSON.\n",
        "\n",
        "Por ejemplo, si queremos datos de la tasa de paro por sexo, iríamos a la página en la que se seleccionan las variables para esta tabla del banco de datos:\n",
        "\n",
        "<https://www.eustat.eus/bankupx/pxweb/es/DB/-/PX_050403_cpra_tab01.px>\n",
        "\n",
        "Y hacemos la selección que nos interesa: seleccionamos los datos de la tasa de paro para la C.A. de Euskadi, los 2 sexos (y el total) y los datos trimestrales de los 3 últimos años.\n",
        "\n",
        "***Ejemplo de Selección***\n",
        "\n",
        "![](https://raw.githubusercontent.com/uxue-sudupe/API-Eustat/main/img/Paro_seleccion.png)\n",
        "\n",
        "Tras hacer la selección pulsamos \"Continuar\" y \"Disponer de esta tabla en su aplicación\". En este apartado aparecerán tanto la url a la que hay que hacer la petición como la consulta json, que será la que incluiremos en nuestro código.\n",
        "\n",
        "![](https://raw.githubusercontent.com/uxue-sudupe/API-Eustat/main/img/Paro_consulta.png)"
      ]
    },
    {
      "cell_type": "code",
      "execution_count": 22,
      "id": "2730dcd6",
      "metadata": {
        "colab": {
          "base_uri": "https://localhost:8080/",
          "height": 304
        },
        "id": "2730dcd6",
        "outputId": "1579a151-03cf-40b5-9872-b92b93808b4b"
      },
      "outputs": [
        {
          "output_type": "stream",
          "name": "stdout",
          "text": [
            "\n"
          ]
        },
        {
          "output_type": "display_data",
          "data": {
            "text/html": [
              "<table class=\"dataframe\">\n",
              "<caption>A data.frame: 6 × 6</caption>\n",
              "<thead>\n",
              "\t<tr><th></th><th scope=col>tasa (%)</th><th scope=col>territorio histórico</th><th scope=col>sexo</th><th scope=col>trimestre</th><th scope=col>periodo</th><th scope=col>value</th></tr>\n",
              "\t<tr><th></th><th scope=col>&lt;chr&gt;</th><th scope=col>&lt;chr&gt;</th><th scope=col>&lt;chr&gt;</th><th scope=col>&lt;chr&gt;</th><th scope=col>&lt;chr&gt;</th><th scope=col>&lt;dbl&gt;</th></tr>\n",
              "</thead>\n",
              "<tbody>\n",
              "\t<tr><th scope=row>1</th><td>Tasa de paro</td><td>C.A. de Euskadi</td><td>Total</td><td>Trimestre 1</td><td>2023</td><td>8.9</td></tr>\n",
              "\t<tr><th scope=row>2</th><td>Tasa de paro</td><td>C.A. de Euskadi</td><td>Total</td><td>Trimestre 1</td><td>2024</td><td>7.9</td></tr>\n",
              "\t<tr><th scope=row>3</th><td>Tasa de paro</td><td>C.A. de Euskadi</td><td>Total</td><td>Trimestre 1</td><td>2025</td><td>7.0</td></tr>\n",
              "\t<tr><th scope=row>4</th><td>Tasa de paro</td><td>C.A. de Euskadi</td><td>Total</td><td>Trimestre 2</td><td>2023</td><td>7.6</td></tr>\n",
              "\t<tr><th scope=row>5</th><td>Tasa de paro</td><td>C.A. de Euskadi</td><td>Total</td><td>Trimestre 2</td><td>2024</td><td>7.5</td></tr>\n",
              "\t<tr><th scope=row>6</th><td>Tasa de paro</td><td>C.A. de Euskadi</td><td>Total</td><td>Trimestre 2</td><td>2025</td><td> NA</td></tr>\n",
              "</tbody>\n",
              "</table>\n"
            ],
            "text/markdown": "\nA data.frame: 6 × 6\n\n| <!--/--> | tasa (%) &lt;chr&gt; | territorio histórico &lt;chr&gt; | sexo &lt;chr&gt; | trimestre &lt;chr&gt; | periodo &lt;chr&gt; | value &lt;dbl&gt; |\n|---|---|---|---|---|---|---|\n| 1 | Tasa de paro | C.A. de Euskadi | Total | Trimestre 1 | 2023 | 8.9 |\n| 2 | Tasa de paro | C.A. de Euskadi | Total | Trimestre 1 | 2024 | 7.9 |\n| 3 | Tasa de paro | C.A. de Euskadi | Total | Trimestre 1 | 2025 | 7.0 |\n| 4 | Tasa de paro | C.A. de Euskadi | Total | Trimestre 2 | 2023 | 7.6 |\n| 5 | Tasa de paro | C.A. de Euskadi | Total | Trimestre 2 | 2024 | 7.5 |\n| 6 | Tasa de paro | C.A. de Euskadi | Total | Trimestre 2 | 2025 |  NA |\n\n",
            "text/latex": "A data.frame: 6 × 6\n\\begin{tabular}{r|llllll}\n  & tasa (\\%) & territorio histórico & sexo & trimestre & periodo & value\\\\\n  & <chr> & <chr> & <chr> & <chr> & <chr> & <dbl>\\\\\n\\hline\n\t1 & Tasa de paro & C.A. de Euskadi & Total & Trimestre 1 & 2023 & 8.9\\\\\n\t2 & Tasa de paro & C.A. de Euskadi & Total & Trimestre 1 & 2024 & 7.9\\\\\n\t3 & Tasa de paro & C.A. de Euskadi & Total & Trimestre 1 & 2025 & 7.0\\\\\n\t4 & Tasa de paro & C.A. de Euskadi & Total & Trimestre 2 & 2023 & 7.6\\\\\n\t5 & Tasa de paro & C.A. de Euskadi & Total & Trimestre 2 & 2024 & 7.5\\\\\n\t6 & Tasa de paro & C.A. de Euskadi & Total & Trimestre 2 & 2025 &  NA\\\\\n\\end{tabular}\n",
            "text/plain": [
              "  tasa (%)     territorio histórico sexo  trimestre   periodo value\n",
              "1 Tasa de paro C.A. de Euskadi      Total Trimestre 1 2023    8.9  \n",
              "2 Tasa de paro C.A. de Euskadi      Total Trimestre 1 2024    7.9  \n",
              "3 Tasa de paro C.A. de Euskadi      Total Trimestre 1 2025    7.0  \n",
              "4 Tasa de paro C.A. de Euskadi      Total Trimestre 2 2023    7.6  \n",
              "5 Tasa de paro C.A. de Euskadi      Total Trimestre 2 2024    7.5  \n",
              "6 Tasa de paro C.A. de Euskadi      Total Trimestre 2 2025     NA  "
            ]
          },
          "metadata": {}
        }
      ],
      "source": [
        "url <- \"https://www.eustat.eus/bankupx/api/v1/es/DB/PX_050403_cpra_tab01.px\"\n",
        "consulta <- '{\"query\": [{\"code\": \"tasa (%)\",\"selection\": {\"filter\": \"item\", \"values\": [\"30\"] }},\n",
        "        {\"code\": \"territorio histórico\",\"selection\": {\"filter\": \"item\", \"values\": [ \"00\"]}},\n",
        "        {\"code\": \"trimestre\",\"selection\": {\"filter\": \"item\",\"values\": [\"20\", \"30\", \"40\",\"50\" ]}},\n",
        "        {\"code\": \"periodo\",\"selection\": {\"filter\": \"item\",\"values\": [\"2023\", \"2024\",\"2025\" ]}}],\n",
        "         \"response\": {\"format\": \"json-stat\"}} '\n",
        "\n",
        "d.tmp <- POST(url , body = consulta, encode = \"json\", verbose())\n",
        "tabla <- fromJSONstat(content(d.tmp, \"text\"), naming = \"label\", use_factors = FALSE, silent = FALSE)\n",
        "Paro <- tabla[[1]]\n",
        "head(Paro)"
      ]
    },
    {
      "cell_type": "markdown",
      "id": "fd846b37",
      "metadata": {
        "id": "fd846b37"
      },
      "source": [
        "**Modificaciones a la consulta**\n",
        "\n",
        "Cuando se realiza `\"filter\": \"item\"` sobre una variable, se seleccionan los valores que se quieren filtrar (uno o varios).\n",
        "\n",
        "Si se seleccionan todos los valores, no se está filtrando sobre esa variable, y no aparecerá en la consulta. Tiene el mismo efecto que eliminar la linea que empieza por `{\"code\":\"variable\"....}` como haremos ahora con la línea de código de la variable \"territorio histórico\".\n",
        "\n",
        "También podemos usar el filtro `\"top\"`, para seleccionar unicamente un número determinado con los últimos valores de la variable. Este filtro `\"top\"` se utiliza principalmente con la variable \"periodo\", \"año\" o similares."
      ]
    },
    {
      "cell_type": "code",
      "execution_count": 23,
      "id": "938f2ba3",
      "metadata": {
        "colab": {
          "base_uri": "https://localhost:8080/",
          "height": 304
        },
        "id": "938f2ba3",
        "outputId": "73505bfa-980e-499e-bb1e-409f06655f43"
      },
      "outputs": [
        {
          "output_type": "stream",
          "name": "stdout",
          "text": [
            "\n"
          ]
        },
        {
          "output_type": "display_data",
          "data": {
            "text/html": [
              "<table class=\"dataframe\">\n",
              "<caption>A data.frame: 6 × 6</caption>\n",
              "<thead>\n",
              "\t<tr><th></th><th scope=col>tasa (%)</th><th scope=col>territorio histórico</th><th scope=col>sexo</th><th scope=col>trimestre</th><th scope=col>periodo</th><th scope=col>value</th></tr>\n",
              "\t<tr><th></th><th scope=col>&lt;chr&gt;</th><th scope=col>&lt;chr&gt;</th><th scope=col>&lt;chr&gt;</th><th scope=col>&lt;chr&gt;</th><th scope=col>&lt;chr&gt;</th><th scope=col>&lt;dbl&gt;</th></tr>\n",
              "</thead>\n",
              "<tbody>\n",
              "\t<tr><th scope=row>1</th><td>Tasa de paro</td><td>C.A. de Euskadi</td><td>Total</td><td>Trimestre 1</td><td>2023</td><td>8.9</td></tr>\n",
              "\t<tr><th scope=row>2</th><td>Tasa de paro</td><td>C.A. de Euskadi</td><td>Total</td><td>Trimestre 1</td><td>2024</td><td>7.9</td></tr>\n",
              "\t<tr><th scope=row>3</th><td>Tasa de paro</td><td>C.A. de Euskadi</td><td>Total</td><td>Trimestre 1</td><td>2025</td><td>7.0</td></tr>\n",
              "\t<tr><th scope=row>4</th><td>Tasa de paro</td><td>C.A. de Euskadi</td><td>Total</td><td>Trimestre 2</td><td>2023</td><td>7.6</td></tr>\n",
              "\t<tr><th scope=row>5</th><td>Tasa de paro</td><td>C.A. de Euskadi</td><td>Total</td><td>Trimestre 2</td><td>2024</td><td>7.5</td></tr>\n",
              "\t<tr><th scope=row>6</th><td>Tasa de paro</td><td>C.A. de Euskadi</td><td>Total</td><td>Trimestre 2</td><td>2025</td><td> NA</td></tr>\n",
              "</tbody>\n",
              "</table>\n"
            ],
            "text/markdown": "\nA data.frame: 6 × 6\n\n| <!--/--> | tasa (%) &lt;chr&gt; | territorio histórico &lt;chr&gt; | sexo &lt;chr&gt; | trimestre &lt;chr&gt; | periodo &lt;chr&gt; | value &lt;dbl&gt; |\n|---|---|---|---|---|---|---|\n| 1 | Tasa de paro | C.A. de Euskadi | Total | Trimestre 1 | 2023 | 8.9 |\n| 2 | Tasa de paro | C.A. de Euskadi | Total | Trimestre 1 | 2024 | 7.9 |\n| 3 | Tasa de paro | C.A. de Euskadi | Total | Trimestre 1 | 2025 | 7.0 |\n| 4 | Tasa de paro | C.A. de Euskadi | Total | Trimestre 2 | 2023 | 7.6 |\n| 5 | Tasa de paro | C.A. de Euskadi | Total | Trimestre 2 | 2024 | 7.5 |\n| 6 | Tasa de paro | C.A. de Euskadi | Total | Trimestre 2 | 2025 |  NA |\n\n",
            "text/latex": "A data.frame: 6 × 6\n\\begin{tabular}{r|llllll}\n  & tasa (\\%) & territorio histórico & sexo & trimestre & periodo & value\\\\\n  & <chr> & <chr> & <chr> & <chr> & <chr> & <dbl>\\\\\n\\hline\n\t1 & Tasa de paro & C.A. de Euskadi & Total & Trimestre 1 & 2023 & 8.9\\\\\n\t2 & Tasa de paro & C.A. de Euskadi & Total & Trimestre 1 & 2024 & 7.9\\\\\n\t3 & Tasa de paro & C.A. de Euskadi & Total & Trimestre 1 & 2025 & 7.0\\\\\n\t4 & Tasa de paro & C.A. de Euskadi & Total & Trimestre 2 & 2023 & 7.6\\\\\n\t5 & Tasa de paro & C.A. de Euskadi & Total & Trimestre 2 & 2024 & 7.5\\\\\n\t6 & Tasa de paro & C.A. de Euskadi & Total & Trimestre 2 & 2025 &  NA\\\\\n\\end{tabular}\n",
            "text/plain": [
              "  tasa (%)     territorio histórico sexo  trimestre   periodo value\n",
              "1 Tasa de paro C.A. de Euskadi      Total Trimestre 1 2023    8.9  \n",
              "2 Tasa de paro C.A. de Euskadi      Total Trimestre 1 2024    7.9  \n",
              "3 Tasa de paro C.A. de Euskadi      Total Trimestre 1 2025    7.0  \n",
              "4 Tasa de paro C.A. de Euskadi      Total Trimestre 2 2023    7.6  \n",
              "5 Tasa de paro C.A. de Euskadi      Total Trimestre 2 2024    7.5  \n",
              "6 Tasa de paro C.A. de Euskadi      Total Trimestre 2 2025     NA  "
            ]
          },
          "metadata": {}
        }
      ],
      "source": [
        "\n",
        "url = \"https://www.eustat.eus/bankupx/api/v1/es/DB/PX_050403_cpra_tab01.px\"\n",
        "\n",
        "query = '{\"query\": [{\"code\": \"tasa (%)\",\"selection\": {\"filter\": \"item\", \"values\": [\"30\"] }},\n",
        "    #   {\"code\": \"territorio histórico\",\"selection\": {\"filter\": \"*\", \"values\": [ \"*\"]}},    si eliminamos esta línea, no filtramos la variable \"territorio histórico\"\n",
        "        {\"code\": \"trimestre\",\"selection\": {\"filter\": \"item\",\"values\": [\"20\", \"30\", \"40\",\"50\" ]}},\n",
        "        {\"code\": \"periodo\",\"selection\": {\"filter\": \"top\",\"values\": [\"2\"]}}],             #  filtro \"top\", últimos 2 valores de la variable \"periodo\"\n",
        "         \"response\": {\"format\": \"json-stat\"}}'\n",
        "\n",
        "d.tmp <- POST(url , body = consulta, encode = \"json\", verbose())\n",
        "tabla <- fromJSONstat(content(d.tmp, \"text\"), naming = \"label\", use_factors = FALSE, silent = FALSE)\n",
        "Paro <- tabla[[1]]\n",
        "head(Paro)\n"
      ]
    },
    {
      "cell_type": "markdown",
      "id": "7982b4e3",
      "metadata": {
        "id": "7982b4e3"
      },
      "source": [
        "# **Otros formatos de salida**\n",
        "\n",
        "La salida por defecto de las peticiones API a los datos de las tablas es JSON-stat (versión 1.2). El formato JSON es el más común en APIs, permite un tratamiento flexible de los datos, adecuado para procesamiento automático en scripts (R, Python, etc.), y evita ambigüedades que pueden presentarse en archivos planos como CSV.\n",
        "\n",
        "También es posible descargar los datos pedidos por API en formatos como csv y excel. Estas salidas pueden ser más adecuadas con usuarios finales no técnicos, en procesos en los que se necesitan csv o excel como entrada (creación de dashboards desde csv/excel) o cuando el objetivo no es el análisis sino facilitar el acceso al público de la datos descargados por API.\n",
        "\n",
        "A continuación se muestran las salidas csv (3 tipos) y excel, y se guarda una copia de cada una."
      ]
    },
    {
      "cell_type": "code",
      "execution_count": 24,
      "id": "1e7ddde5",
      "metadata": {
        "id": "1e7ddde5"
      },
      "outputs": [],
      "source": [
        "# Salida en CSV - texto plano\n",
        "\n",
        "url <- \"https://www.eustat.eus/bankupx/api/v1/es/DB/PX_010901_cecv_ni11_1.px\"\n",
        "consulta <- '{\"query\": [], \"response\": {\"format\": \"csv\"}}'\n",
        "\n",
        "respuesta_csv <- POST(url, body = consulta)\n",
        "writeBin(content(respuesta_csv, \"raw\"), \"lengua_materna.csv\")\n"
      ]
    },
    {
      "cell_type": "code",
      "execution_count": 25,
      "id": "0a70afd2",
      "metadata": {
        "id": "0a70afd2"
      },
      "outputs": [],
      "source": [
        "# Salida en CSV2 - formato \"pivot-friendly\", compatible con tablas dinámicas\n",
        "\n",
        "url <- \"https://www.eustat.eus/bankupx/api/v1/es/DB/PX_010901_cecv_ni11_1.px\"\n",
        "consulta <- '{\"query\": [], \"response\": {\"format\": \"csv2\"}}'\n",
        "\n",
        "respuesta_csv2 <- POST(url, body = consulta, encode = \"raw\", content_type_json())\n",
        "\n",
        "writeBin(content(respuesta_csv2, \"raw\"), \"lengua_materna_csv2.csv\")\n"
      ]
    },
    {
      "cell_type": "code",
      "execution_count": 26,
      "id": "a3c5bc9b",
      "metadata": {
        "id": "a3c5bc9b"
      },
      "outputs": [],
      "source": [
        "# Salida en CSV3 - igual que CSV2, pero con códigos en lugar de texto\n",
        "\n",
        "url <- \"https://www.eustat.eus/bankupx/api/v1/es/DB/PX_010901_cecv_ni11_1.px\"\n",
        "consulta <- '{\"query\": [], \"response\": {\"format\": \"csv3\"}}'\n",
        "\n",
        "respuesta_csv3 <- POST(url, body = consulta, encode = \"raw\", content_type_json())\n",
        "\n",
        "writeBin(content(respuesta_csv3, \"raw\"), \"lengua_materna_csv3.csv\")\n"
      ]
    },
    {
      "cell_type": "code",
      "execution_count": 27,
      "id": "844658b0",
      "metadata": {
        "id": "844658b0"
      },
      "outputs": [],
      "source": [
        "# Salida en Excel\n",
        "\n",
        "url <- \"https://www.eustat.eus/bankupx/api/v1/es/DB/PX_010901_cecv_ni11_1.px\"\n",
        "consulta <- '{\"query\": [], \"response\": {\"format\": \"xlsx\"}}'\n",
        "\n",
        "respuesta_xlsx <- POST(url, body = consulta, encode = \"raw\", content_type_json())\n",
        "\n",
        "writeBin(content(respuesta_xlsx, \"raw\"), \"lengua_materna.xlsx\")\n"
      ]
    }
  ],
  "metadata": {
    "jupytext": {
      "cell_metadata_filter": "message,name,warning,-all",
      "main_language": "R",
      "notebook_metadata_filter": "-all"
    },
    "colab": {
      "provenance": []
    },
    "language_info": {
      "name": "R"
    },
    "kernelspec": {
      "name": "ir",
      "display_name": "R"
    }
  },
  "nbformat": 4,
  "nbformat_minor": 5
}